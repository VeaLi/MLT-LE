{
 "cells": [
  {
   "cell_type": "markdown",
   "metadata": {
    "id": "xIl1ubvxyWdI",
    "toc": true
   },
   "source": [
    "<h1>Table of Contents<span class=\"tocSkip\"></span></h1>\n",
    "<div class=\"toc\"><ul class=\"toc-item\"></ul></div>"
   ]
  },
  {
   "cell_type": "code",
   "execution_count": 1,
   "metadata": {
    "colab": {
     "base_uri": "https://localhost:8080/",
     "height": 1000
    },
    "id": "M1tpfwM6_GeB",
    "outputId": "94edc658-2f7c-4052-e60b-6067a26d8b5e"
   },
   "outputs": [
    {
     "name": "stdout",
     "output_type": "stream",
     "text": [
      "Collecting lifelines\n",
      "  Downloading lifelines-0.27.0-py3-none-any.whl (349 kB)\n",
      "\u001b[?25l\r",
      "\u001b[K     |█                               | 10 kB 17.7 MB/s eta 0:00:01\r",
      "\u001b[K     |█▉                              | 20 kB 8.3 MB/s eta 0:00:01\r",
      "\u001b[K     |██▉                             | 30 kB 5.3 MB/s eta 0:00:01\r",
      "\u001b[K     |███▊                            | 40 kB 4.9 MB/s eta 0:00:01\r",
      "\u001b[K     |████▊                           | 51 kB 4.0 MB/s eta 0:00:01\r",
      "\u001b[K     |█████▋                          | 61 kB 4.7 MB/s eta 0:00:01\r",
      "\u001b[K     |██████▋                         | 71 kB 4.7 MB/s eta 0:00:01\r",
      "\u001b[K     |███████▌                        | 81 kB 4.7 MB/s eta 0:00:01\r",
      "\u001b[K     |████████▌                       | 92 kB 5.2 MB/s eta 0:00:01\r",
      "\u001b[K     |█████████▍                      | 102 kB 5.0 MB/s eta 0:00:01\r",
      "\u001b[K     |██████████▎                     | 112 kB 5.0 MB/s eta 0:00:01\r",
      "\u001b[K     |███████████▎                    | 122 kB 5.0 MB/s eta 0:00:01\r",
      "\u001b[K     |████████████▏                   | 133 kB 5.0 MB/s eta 0:00:01\r",
      "\u001b[K     |█████████████▏                  | 143 kB 5.0 MB/s eta 0:00:01\r",
      "\u001b[K     |██████████████                  | 153 kB 5.0 MB/s eta 0:00:01\r",
      "\u001b[K     |███████████████                 | 163 kB 5.0 MB/s eta 0:00:01\r",
      "\u001b[K     |████████████████                | 174 kB 5.0 MB/s eta 0:00:01\r",
      "\u001b[K     |█████████████████               | 184 kB 5.0 MB/s eta 0:00:01\r",
      "\u001b[K     |█████████████████▉              | 194 kB 5.0 MB/s eta 0:00:01\r",
      "\u001b[K     |██████████████████▊             | 204 kB 5.0 MB/s eta 0:00:01\r",
      "\u001b[K     |███████████████████▊            | 215 kB 5.0 MB/s eta 0:00:01\r",
      "\u001b[K     |████████████████████▋           | 225 kB 5.0 MB/s eta 0:00:01\r",
      "\u001b[K     |█████████████████████▋          | 235 kB 5.0 MB/s eta 0:00:01\r",
      "\u001b[K     |██████████████████████▌         | 245 kB 5.0 MB/s eta 0:00:01\r",
      "\u001b[K     |███████████████████████▌        | 256 kB 5.0 MB/s eta 0:00:01\r",
      "\u001b[K     |████████████████████████▍       | 266 kB 5.0 MB/s eta 0:00:01\r",
      "\u001b[K     |█████████████████████████▍      | 276 kB 5.0 MB/s eta 0:00:01\r",
      "\u001b[K     |██████████████████████████▎     | 286 kB 5.0 MB/s eta 0:00:01\r",
      "\u001b[K     |███████████████████████████▏    | 296 kB 5.0 MB/s eta 0:00:01\r",
      "\u001b[K     |████████████████████████████▏   | 307 kB 5.0 MB/s eta 0:00:01\r",
      "\u001b[K     |█████████████████████████████   | 317 kB 5.0 MB/s eta 0:00:01\r",
      "\u001b[K     |██████████████████████████████  | 327 kB 5.0 MB/s eta 0:00:01\r",
      "\u001b[K     |███████████████████████████████ | 337 kB 5.0 MB/s eta 0:00:01\r",
      "\u001b[K     |████████████████████████████████| 348 kB 5.0 MB/s eta 0:00:01\r",
      "\u001b[K     |████████████████████████████████| 349 kB 5.0 MB/s \n",
      "\u001b[?25hRequirement already satisfied: matplotlib>=3.0 in /usr/local/lib/python3.7/dist-packages (from lifelines) (3.2.2)\n",
      "Requirement already satisfied: numpy>=1.14.0 in /usr/local/lib/python3.7/dist-packages (from lifelines) (1.21.5)\n",
      "Requirement already satisfied: scipy>=1.2.0 in /usr/local/lib/python3.7/dist-packages (from lifelines) (1.4.1)\n",
      "Collecting autograd-gamma>=0.3\n",
      "  Downloading autograd-gamma-0.5.0.tar.gz (4.0 kB)\n",
      "Requirement already satisfied: pandas>=1.0.0 in /usr/local/lib/python3.7/dist-packages (from lifelines) (1.3.5)\n",
      "Collecting formulaic>=0.2.2\n",
      "  Downloading formulaic-0.3.3-py3-none-any.whl (56 kB)\n",
      "\u001b[K     |████████████████████████████████| 56 kB 3.1 MB/s \n",
      "\u001b[?25hRequirement already satisfied: autograd>=1.3 in /usr/local/lib/python3.7/dist-packages (from lifelines) (1.3)\n",
      "Requirement already satisfied: future>=0.15.2 in /usr/local/lib/python3.7/dist-packages (from autograd>=1.3->lifelines) (0.16.0)\n",
      "Collecting scipy>=1.2.0\n",
      "  Downloading scipy-1.7.3-cp37-cp37m-manylinux_2_12_x86_64.manylinux2010_x86_64.whl (38.1 MB)\n",
      "\u001b[K     |████████████████████████████████| 38.1 MB 1.3 MB/s \n",
      "\u001b[?25hCollecting astor<0.8.0,>=0.7.0\n",
      "  Downloading astor-0.7.1-py2.py3-none-any.whl (27 kB)\n",
      "Requirement already satisfied: wrapt>=1.0 in /usr/local/lib/python3.7/dist-packages (from formulaic>=0.2.2->lifelines) (1.14.0)\n",
      "Collecting interface-meta<2.0.0,>=1.2.0\n",
      "  Downloading interface_meta-1.3.0-py3-none-any.whl (14 kB)\n",
      "Requirement already satisfied: cycler>=0.10 in /usr/local/lib/python3.7/dist-packages (from matplotlib>=3.0->lifelines) (0.11.0)\n",
      "Requirement already satisfied: kiwisolver>=1.0.1 in /usr/local/lib/python3.7/dist-packages (from matplotlib>=3.0->lifelines) (1.4.0)\n",
      "Requirement already satisfied: python-dateutil>=2.1 in /usr/local/lib/python3.7/dist-packages (from matplotlib>=3.0->lifelines) (2.8.2)\n",
      "Requirement already satisfied: pyparsing!=2.0.4,!=2.1.2,!=2.1.6,>=2.0.1 in /usr/local/lib/python3.7/dist-packages (from matplotlib>=3.0->lifelines) (3.0.7)\n",
      "Requirement already satisfied: typing-extensions in /usr/local/lib/python3.7/dist-packages (from kiwisolver>=1.0.1->matplotlib>=3.0->lifelines) (3.10.0.2)\n",
      "Requirement already satisfied: pytz>=2017.3 in /usr/local/lib/python3.7/dist-packages (from pandas>=1.0.0->lifelines) (2018.9)\n",
      "Requirement already satisfied: six>=1.5 in /usr/local/lib/python3.7/dist-packages (from python-dateutil>=2.1->matplotlib>=3.0->lifelines) (1.15.0)\n",
      "Building wheels for collected packages: autograd-gamma\n",
      "  Building wheel for autograd-gamma (setup.py) ... \u001b[?25l\u001b[?25hdone\n",
      "  Created wheel for autograd-gamma: filename=autograd_gamma-0.5.0-py3-none-any.whl size=4048 sha256=309cae38417bb74aa1ddde98ed7b4e420d90d84f2c07764fe9a5551f94d72d3d\n",
      "  Stored in directory: /root/.cache/pip/wheels/9f/01/ee/1331593abb5725ff7d8c1333aee93a50a1c29d6ddda9665c9f\n",
      "Successfully built autograd-gamma\n",
      "Installing collected packages: scipy, interface-meta, astor, formulaic, autograd-gamma, lifelines\n",
      "  Attempting uninstall: scipy\n",
      "    Found existing installation: scipy 1.4.1\n",
      "    Uninstalling scipy-1.4.1:\n",
      "      Successfully uninstalled scipy-1.4.1\n",
      "  Attempting uninstall: astor\n",
      "    Found existing installation: astor 0.8.1\n",
      "    Uninstalling astor-0.8.1:\n",
      "      Successfully uninstalled astor-0.8.1\n",
      "\u001b[31mERROR: pip's dependency resolver does not currently take into account all the packages that are installed. This behaviour is the source of the following dependency conflicts.\n",
      "google-colab 1.0.0 requires astor~=0.8.1, but you have astor 0.7.1 which is incompatible.\n",
      "albumentations 0.1.12 requires imgaug<0.2.7,>=0.2.5, but you have imgaug 0.2.9 which is incompatible.\u001b[0m\n",
      "Successfully installed astor-0.7.1 autograd-gamma-0.5.0 formulaic-0.3.3 interface-meta-1.3.0 lifelines-0.27.0 scipy-1.7.3\n"
     ]
    },
    {
     "data": {
      "application/vnd.colab-display-data+json": {
       "pip_warning": {
        "packages": [
         "astor"
        ]
       }
      }
     },
     "metadata": {},
     "output_type": "display_data"
    },
    {
     "name": "stdout",
     "output_type": "stream",
     "text": [
      "Collecting scikit-plot\n",
      "  Downloading scikit_plot-0.3.7-py3-none-any.whl (33 kB)\n",
      "Requirement already satisfied: scipy>=0.9 in /usr/local/lib/python3.7/dist-packages (from scikit-plot) (1.7.3)\n",
      "Requirement already satisfied: joblib>=0.10 in /usr/local/lib/python3.7/dist-packages (from scikit-plot) (1.1.0)\n",
      "Requirement already satisfied: matplotlib>=1.4.0 in /usr/local/lib/python3.7/dist-packages (from scikit-plot) (3.2.2)\n",
      "Requirement already satisfied: scikit-learn>=0.18 in /usr/local/lib/python3.7/dist-packages (from scikit-plot) (1.0.2)\n",
      "Requirement already satisfied: cycler>=0.10 in /usr/local/lib/python3.7/dist-packages (from matplotlib>=1.4.0->scikit-plot) (0.11.0)\n",
      "Requirement already satisfied: pyparsing!=2.0.4,!=2.1.2,!=2.1.6,>=2.0.1 in /usr/local/lib/python3.7/dist-packages (from matplotlib>=1.4.0->scikit-plot) (3.0.7)\n",
      "Requirement already satisfied: kiwisolver>=1.0.1 in /usr/local/lib/python3.7/dist-packages (from matplotlib>=1.4.0->scikit-plot) (1.4.0)\n",
      "Requirement already satisfied: python-dateutil>=2.1 in /usr/local/lib/python3.7/dist-packages (from matplotlib>=1.4.0->scikit-plot) (2.8.2)\n",
      "Requirement already satisfied: numpy>=1.11 in /usr/local/lib/python3.7/dist-packages (from matplotlib>=1.4.0->scikit-plot) (1.21.5)\n",
      "Requirement already satisfied: typing-extensions in /usr/local/lib/python3.7/dist-packages (from kiwisolver>=1.0.1->matplotlib>=1.4.0->scikit-plot) (3.10.0.2)\n",
      "Requirement already satisfied: six>=1.5 in /usr/local/lib/python3.7/dist-packages (from python-dateutil>=2.1->matplotlib>=1.4.0->scikit-plot) (1.15.0)\n",
      "Requirement already satisfied: threadpoolctl>=2.0.0 in /usr/local/lib/python3.7/dist-packages (from scikit-learn>=0.18->scikit-plot) (3.1.0)\n",
      "Installing collected packages: scikit-plot\n",
      "Successfully installed scikit-plot-0.3.7\n"
     ]
    }
   ],
   "source": [
    "!pip install lifelines\n",
    "!pip install scikit-plot"
   ]
  },
  {
   "cell_type": "code",
   "execution_count": 1,
   "metadata": {
    "ExecuteTime": {
     "end_time": "2022-04-10T19:04:02.838607Z",
     "start_time": "2022-04-10T19:03:22.296119Z"
    },
    "id": "-S4tbupSz28Y"
   },
   "outputs": [],
   "source": [
    "import tensorflow as tf\n",
    "\n",
    "from tensorflow import keras\n",
    "from sklearn.model_selection import train_test_split\n",
    "from keras import backend as K\n",
    "\n",
    "from tqdm.keras import TqdmCallback\n",
    "from tqdm.auto import tqdm\n",
    "import random\n",
    "import numpy as np\n",
    "import pandas as pd\n",
    "import matplotlib.pyplot as plt\n",
    "\n",
    "from keras.callbacks import CSVLogger\n",
    "\n",
    "PREFIX = 'CNN-with-memory-'\n",
    "\n",
    "csv_logger = CSVLogger(f'{PREFIX}.log', append=True, separator=';')\n",
    "\n",
    "plt.style.use('default')\n",
    "plt.style.use('seaborn-white')\n",
    "\n",
    "models = tf.keras.models\n",
    "layers = tf.keras.layers\n",
    "preprocessing = tf.keras.preprocessing\n",
    "\n",
    "tqdm.pandas()"
   ]
  },
  {
   "cell_type": "code",
   "execution_count": 2,
   "metadata": {
    "ExecuteTime": {
     "end_time": "2022-04-10T19:36:18.900289Z",
     "start_time": "2022-04-10T19:36:18.848672Z"
    },
    "id": "kIaqre5vz3nq"
   },
   "outputs": [],
   "source": [
    "class LossWithMemoryCallback(tf.keras.callbacks.Callback):\n",
    "    def __init__(self, kd_var, ki_var, ic_var, ec_var, ph_var, discount=0.1):\n",
    "        self.kd_var = kd_var\n",
    "        self.ki_var = ki_var\n",
    "        self.ic_var = ic_var\n",
    "        self.ec_var = ec_var\n",
    "        self.ph_var = ph_var\n",
    "\n",
    "        self.discount = discount\n",
    "\n",
    "    def on_epoch_end(self, epoch, logs):\n",
    "        K.set_value(self.kd_var, logs['Kd_loss'] * self.discount)\n",
    "        K.set_value(self.ki_var, logs['Ki_loss'] * self.discount)\n",
    "        K.set_value(self.ic_var, logs['IC50_loss'] * self.discount)\n",
    "        K.set_value(self.ec_var, logs['EC50_loss'] * self.discount)\n",
    "        K.set_value(self.ph_var, logs['pH_loss'] * self.discount)\n",
    "\n",
    "\n",
    "def loss_wrapper(var):\n",
    "    def mse_nan_with_memory(y_true, y_pred):\n",
    "        masked_true = tf.where(tf.math.is_nan(y_true), tf.zeros_like(y_true), y_true)\n",
    "        masked_pred = tf.where(tf.math.is_nan(y_true), tf.zeros_like(y_true), y_pred)\n",
    "        is_empty = tf.equal(tf.size(masked_true), 0)\n",
    "\n",
    "        if is_empty:\n",
    "            error = var\n",
    "            return error\n",
    "\n",
    "        error = K.mean(K.square(masked_pred - masked_true), axis=-1)\n",
    "        return error\n",
    "\n",
    "    return mse_nan_with_memory"
   ]
  },
  {
   "cell_type": "code",
   "execution_count": 3,
   "metadata": {
    "ExecuteTime": {
     "end_time": "2022-04-10T19:35:36.949653Z",
     "start_time": "2022-04-10T19:35:36.902517Z"
    },
    "id": "grzX2AuZyWdW"
   },
   "outputs": [],
   "source": [
    "def get_optimizer():\n",
    "    optimizer = tf.keras.optimizers.Adadelta(learning_rate=1.0)\n",
    "    return optimizer\n",
    "\n",
    "\n",
    "def get_model(units=96, rate=0.3, loss_weights=None, kvars = {}):\n",
    "\n",
    "    sm = layers.Input(shape=(100, ), name='D_Inp')\n",
    "    aa = layers.Input(shape=(1000, ), name='T_Inp')\n",
    "\n",
    "    emsm0 = layers.Embedding(53,\n",
    "                             128,\n",
    "                             trainable=True,\n",
    "                             name='D_Emb',\n",
    "                             mask_zero=True)(sm)\n",
    "    emaa0 = layers.Embedding(22,\n",
    "                             128,\n",
    "                             trainable=True,\n",
    "                             name='T_Emb',\n",
    "                             mask_zero=True)(aa)\n",
    "\n",
    "    cnvsm1 = layers.Conv1D(32, 3, name='D_L1')(emsm0)\n",
    "    cnvaa1 = layers.Conv1D(32, 3, name='T_L1')(emaa0)\n",
    "\n",
    "#     cnvsm2 = layers.Conv1D(64, 3, name='D_L2')(cnvsm1)\n",
    "#     cnvaa2 = layers.Conv1D(64, 3, name='T_L2')(cnvaa1)\n",
    "\n",
    "    cnvsm3 = layers.Conv1D(96, 3, name='D_L3')(cnvsm1)\n",
    "    cnvaa3 = layers.Conv1D(96, 3, name='T_L3')(cnvaa1)\n",
    "\n",
    "    gmpsm = layers.GlobalMaxPool1D(name='D_Gmp')(cnvsm3)\n",
    "    gmpaa = layers.GlobalMaxPool1D(name='T_Gmp')(cnvaa3)\n",
    "\n",
    "    C1 = layers.concatenate([gmpsm, gmpaa], axis=-1, name='C1')\n",
    "\n",
    "    S1 = layers.Dense(512, activation='relu', name='S1')(C1)\n",
    "    S1 = layers.Dropout(rate)(S1)\n",
    "\n",
    "    S2 = layers.Dense(512, activation='relu', name='S2')(S1)\n",
    "    S2 = layers.Dropout(rate)(S2)\n",
    "\n",
    "    S3 = layers.Dense(512, activation='relu', name='S3')(S2)\n",
    "    S3 = layers.Dropout(rate)(S3)\n",
    "\n",
    "    Kd = layers.Dense(units, activation='relu', name='S1_Kd')(S3)\n",
    "    Kd = layers.Dropout(rate)(Kd)\n",
    "\n",
    "    Ki = layers.Dense(units, activation='relu', name='S1_Ki')(S3)\n",
    "    Ki = layers.Dropout(rate)(Ki)\n",
    "\n",
    "    IC50 = layers.Dense(units, activation='relu', name='S1_IC50')(S3)\n",
    "    IC50 = layers.Dropout(rate)(IC50)\n",
    "\n",
    "    EC50 = layers.Dense(units, activation='relu', name='S1_EC50')(S3)\n",
    "    EC50 = layers.Dropout(rate)(EC50)\n",
    "\n",
    "    IA = layers.Dense(units, activation='relu', name='S1_IA')(S3)\n",
    "    IA = layers.Dropout(rate)(IA)\n",
    "\n",
    "    pH = layers.Dense(units, activation='relu', name='S1_pH')(S3)\n",
    "    pH = layers.Dropout(rate)(pH)\n",
    "\n",
    "    out1 = layers.Dense(1, activation='linear', name='Kd')(Kd)\n",
    "    out2 = layers.Dense(1, activation='linear', name='Ki')(Ki)\n",
    "    out3 = layers.Dense(1, activation='linear', name='IC50')(IC50)\n",
    "    out4 = layers.Dense(1, activation='linear', name='EC50')(EC50)\n",
    "    out5 = layers.Dense(1, activation='sigmoid', name='IA')(IA)\n",
    "    out6 = layers.Dense(1, activation='linear', name='pH')(pH)\n",
    "\n",
    "    model = models.Model(inputs=[sm, aa],\n",
    "                         outputs=[out1, out2, out3, out4, out5, out6])\n",
    "\n",
    "    losses = {\n",
    "        \"Kd\": loss_wrapper(kd_var),\n",
    "        \"Ki\": loss_wrapper(ki_var ),\n",
    "        \"IC50\": loss_wrapper(ic_var),\n",
    "        \"EC50\": loss_wrapper(ec_var),\n",
    "        \"pH\": loss_wrapper(ph_var),\n",
    "        \"IA\": \"binary_crossentropy\",\n",
    "    }\n",
    "\n",
    "\n",
    "    metrics = {\"IA\": tf.keras.metrics.AUC()}\n",
    "\n",
    "    model.compile(loss=losses, optimizer=get_optimizer(), metrics=metrics, loss_weights=loss_weights)\n",
    "    model.summary()\n",
    "    return model"
   ]
  },
  {
   "cell_type": "code",
   "execution_count": 4,
   "metadata": {
    "ExecuteTime": {
     "end_time": "2022-04-10T19:35:47.433114Z",
     "start_time": "2022-04-10T19:35:45.369640Z"
    },
    "colab": {
     "base_uri": "https://localhost:8080/"
    },
    "id": "WBjkZsDq1TtY",
    "outputId": "7dc4a667-e40d-4d32-f846-dab1e3fbb824"
   },
   "outputs": [
    {
     "name": "stdout",
     "output_type": "stream",
     "text": [
      "Model: \"model\"\n",
      "__________________________________________________________________________________________________\n",
      " Layer (type)                   Output Shape         Param #     Connected to                     \n",
      "==================================================================================================\n",
      " D_Inp (InputLayer)             [(None, 100)]        0           []                               \n",
      "                                                                                                  \n",
      " T_Inp (InputLayer)             [(None, 1000)]       0           []                               \n",
      "                                                                                                  \n",
      " D_Emb (Embedding)              (None, 100, 128)     6784        ['D_Inp[0][0]']                  \n",
      "                                                                                                  \n",
      " T_Emb (Embedding)              (None, 1000, 128)    2816        ['T_Inp[0][0]']                  \n",
      "                                                                                                  \n",
      " D_L1 (Conv1D)                  (None, 98, 32)       12320       ['D_Emb[0][0]']                  \n",
      "                                                                                                  \n",
      " T_L1 (Conv1D)                  (None, 998, 32)      12320       ['T_Emb[0][0]']                  \n",
      "                                                                                                  \n",
      " D_L3 (Conv1D)                  (None, 96, 96)       9312        ['D_L1[0][0]']                   \n",
      "                                                                                                  \n",
      " T_L3 (Conv1D)                  (None, 996, 96)      9312        ['T_L1[0][0]']                   \n",
      "                                                                                                  \n",
      " D_Gmp (GlobalMaxPooling1D)     (None, 96)           0           ['D_L3[0][0]']                   \n",
      "                                                                                                  \n",
      " T_Gmp (GlobalMaxPooling1D)     (None, 96)           0           ['T_L3[0][0]']                   \n",
      "                                                                                                  \n",
      " C1 (Concatenate)               (None, 192)          0           ['D_Gmp[0][0]',                  \n",
      "                                                                  'T_Gmp[0][0]']                  \n",
      "                                                                                                  \n",
      " S1 (Dense)                     (None, 512)          98816       ['C1[0][0]']                     \n",
      "                                                                                                  \n",
      " dropout (Dropout)              (None, 512)          0           ['S1[0][0]']                     \n",
      "                                                                                                  \n",
      " S2 (Dense)                     (None, 512)          262656      ['dropout[0][0]']                \n",
      "                                                                                                  \n",
      " dropout_1 (Dropout)            (None, 512)          0           ['S2[0][0]']                     \n",
      "                                                                                                  \n",
      " S3 (Dense)                     (None, 512)          262656      ['dropout_1[0][0]']              \n",
      "                                                                                                  \n",
      " dropout_2 (Dropout)            (None, 512)          0           ['S3[0][0]']                     \n",
      "                                                                                                  \n",
      " S1_Kd (Dense)                  (None, 96)           49248       ['dropout_2[0][0]']              \n",
      "                                                                                                  \n",
      " S1_Ki (Dense)                  (None, 96)           49248       ['dropout_2[0][0]']              \n",
      "                                                                                                  \n",
      " S1_IC50 (Dense)                (None, 96)           49248       ['dropout_2[0][0]']              \n",
      "                                                                                                  \n",
      " S1_EC50 (Dense)                (None, 96)           49248       ['dropout_2[0][0]']              \n",
      "                                                                                                  \n",
      " S1_IA (Dense)                  (None, 96)           49248       ['dropout_2[0][0]']              \n",
      "                                                                                                  \n",
      " S1_pH (Dense)                  (None, 96)           49248       ['dropout_2[0][0]']              \n",
      "                                                                                                  \n",
      " dropout_3 (Dropout)            (None, 96)           0           ['S1_Kd[0][0]']                  \n",
      "                                                                                                  \n",
      " dropout_4 (Dropout)            (None, 96)           0           ['S1_Ki[0][0]']                  \n",
      "                                                                                                  \n",
      " dropout_5 (Dropout)            (None, 96)           0           ['S1_IC50[0][0]']                \n",
      "                                                                                                  \n",
      " dropout_6 (Dropout)            (None, 96)           0           ['S1_EC50[0][0]']                \n",
      "                                                                                                  \n",
      " dropout_7 (Dropout)            (None, 96)           0           ['S1_IA[0][0]']                  \n",
      "                                                                                                  \n",
      " dropout_8 (Dropout)            (None, 96)           0           ['S1_pH[0][0]']                  \n",
      "                                                                                                  \n",
      " Kd (Dense)                     (None, 1)            97          ['dropout_3[0][0]']              \n",
      "                                                                                                  \n",
      " Ki (Dense)                     (None, 1)            97          ['dropout_4[0][0]']              \n",
      "                                                                                                  \n",
      " IC50 (Dense)                   (None, 1)            97          ['dropout_5[0][0]']              \n",
      "                                                                                                  \n",
      " EC50 (Dense)                   (None, 1)            97          ['dropout_6[0][0]']              \n",
      "                                                                                                  \n",
      " IA (Dense)                     (None, 1)            97          ['dropout_7[0][0]']              \n",
      "                                                                                                  \n",
      " pH (Dense)                     (None, 1)            97          ['dropout_8[0][0]']              \n",
      "                                                                                                  \n",
      "==================================================================================================\n",
      "Total params: 973,062\n",
      "Trainable params: 973,062\n",
      "Non-trainable params: 0\n",
      "__________________________________________________________________________________________________\n"
     ]
    }
   ],
   "source": [
    "tf.keras.backend.clear_session()\n",
    "np.random.seed(7)\n",
    "tf.random.set_seed(7)\n",
    "\n",
    "loss_weights = [1.0, 1.0, 1.0, 1.0, 1.0, 1.0, 1.0]\n",
    "\n",
    "global kd_var, ki_var, ic_var, ec_var, ph_var\n",
    "kd_var = K.variable(0.0)\n",
    "ki_var = K.variable(0.0)\n",
    "ic_var = K.variable(0.0)\n",
    "ec_var = K.variable(0.0)\n",
    "ph_var = K.variable(0.0)\n",
    "\n",
    "\n",
    "lossCallback = LossWithMemoryCallback(kd_var, ki_var, ic_var, ec_var, ph_var)\n",
    "\n",
    "\n",
    "model = get_model(rate=0.3, loss_weights=loss_weights)"
   ]
  },
  {
   "cell_type": "code",
   "execution_count": 5,
   "metadata": {
    "ExecuteTime": {
     "end_time": "2022-04-10T19:19:01.283717Z",
     "start_time": "2022-04-10T19:18:57.744856Z"
    },
    "colab": {
     "base_uri": "https://localhost:8080/",
     "height": 367
    },
    "id": "QjJBESth1V-E",
    "outputId": "6752d73c-06b0-46f3-ff14-8f6694c72c25"
   },
   "outputs": [
    {
     "data": {
      "image/png": "[encoded data removed]",
      "text/plain": [
       "<IPython.core.display.Image object>"
      ]
     },
     "execution_count": 5,
     "metadata": {},
     "output_type": "execute_result"
    }
   ],
   "source": [
    "tf.keras.utils.plot_model(model, rankdir='LR',\n",
    "                          show_shapes=True,\n",
    "                          show_layer_activations=True)"
   ]
  },
  {
   "cell_type": "code",
   "execution_count": 6,
   "metadata": {
    "ExecuteTime": {
     "end_time": "2022-04-10T19:06:21.641141Z",
     "start_time": "2022-04-10T19:06:21.587859Z"
    },
    "id": "_xK8JAXg7dS2"
   },
   "outputs": [],
   "source": [
    "CHARPROTSET = dict([('A', 1), ('G', 2), ('L', 3), ('M', 4), ('S', 5), ('T', 6),\n",
    "                    ('E', 7), ('Q', 8), ('P', 9), ('F', 10), ('R', 11),\n",
    "                    ('V', 12), ('D', 13), ('I', 14), ('N', 15), ('Y', 16),\n",
    "                    ('H', 17), ('C', 18), ('K', 19), ('W', 20), ('X', 21)])\n",
    "\n",
    "CHARCANSMISET = dict([(')', 1), ('(', 2), ('1', 3), ('C', 4), ('c', 5),\n",
    "                      ('O', 6), ('2', 7), ('N', 8), ('=', 9), ('n', 10),\n",
    "                      ('3', 11), ('-', 12), ('4', 13), ('F', 14), ('S', 15),\n",
    "                      ('[', 16), (']', 17), ('l', 18), ('H', 19), ('s', 20),\n",
    "                      ('#', 21), ('o', 22), ('5', 23), ('B', 24), ('r', 25),\n",
    "                      ('+', 26), ('6', 27), ('P', 28), ('.', 29), ('I', 30),\n",
    "                      ('7', 31), ('e', 32), ('i', 33), ('a', 34), ('8', 35),\n",
    "                      ('K', 36), ('A', 37), ('9', 38), ('T', 39), ('g', 40),\n",
    "                      ('R', 41), ('Z', 42), ('%', 43), ('0', 44), ('u', 45),\n",
    "                      ('V', 46), ('b', 47), ('t', 48), ('L', 49), ('*', 50),\n",
    "                      ('d', 51), ('W', 52)])"
   ]
  },
  {
   "cell_type": "code",
   "execution_count": 7,
   "metadata": {
    "ExecuteTime": {
     "end_time": "2022-04-10T19:06:21.702581Z",
     "start_time": "2022-04-10T19:06:21.661882Z"
    },
    "id": "U3kEDO0i73Uj"
   },
   "outputs": [],
   "source": [
    "class Gen:\n",
    "    def __init__(self,\n",
    "                 data,\n",
    "                 map_smiles,\n",
    "                 map_aa,\n",
    "                 shuffle=True,\n",
    "                 test_only=False,\n",
    "                 len_drug=100,\n",
    "                 len_target=1000,\n",
    "                 window=False):\n",
    "        self.data = data\n",
    "        self.map_smiles = map_smiles\n",
    "        self.map_aa = map_aa\n",
    "        self.shuffle = shuffle\n",
    "        self.test_only = test_only\n",
    "        self.len_drug = len_drug\n",
    "        self.len_target = len_target\n",
    "        self.size = self.data.shape[0]\n",
    "        self.inds = list(range(self.size))\n",
    "        if self.shuffle:\n",
    "            random.shuffle(self.inds)\n",
    "\n",
    "        self.window = window\n",
    "\n",
    "        self.gen = self._get_inputs()\n",
    "\n",
    "    def _get_inputs(self):\n",
    "        seen = 0\n",
    "        while seen < self.size:\n",
    "            ind = self.inds[seen]\n",
    "            sample = self.data.iloc[ind, :].values.tolist()\n",
    "            sample[0] = self.map_smiles[sample[0]]\n",
    "            sample[1] = self.map_aa[sample[1]]\n",
    "\n",
    "            if self.window:\n",
    "                ld = max(0, (len(sample[0]) - self.len_drug))\n",
    "                lt = max(0, (len(sample[1]) - self.len_target))\n",
    "                dstart = random.randint(0, ld)\n",
    "                tstart = random.randint(0, lt)\n",
    "\n",
    "                sample[0] = sample[0][dstart:dstart + self.len_drug]\n",
    "                sample[1] = sample[1][tstart:dstart + self.len_target]\n",
    "\n",
    "            yield sample\n",
    "            seen += 1\n",
    "            if seen == self.size:\n",
    "                if self.shuffle:\n",
    "                    random.shuffle(self.inds)\n",
    "                seen = 0\n",
    "\n",
    "    def get_batch(self, batch_size):\n",
    "        while True:\n",
    "            BATCH = []\n",
    "            for _ in range(batch_size):\n",
    "                sample = next(self.gen)\n",
    "                for k, value in enumerate(sample):\n",
    "                    if len(BATCH) < (k+1):\n",
    "                        BATCH.append([])\n",
    "                    BATCH[k].append(value)\n",
    "\n",
    "            BATCH[0] = preprocessing.sequence.pad_sequences(BATCH[0], self.len_drug)\n",
    "            BATCH[1] = preprocessing.sequence.pad_sequences(BATCH[1], self.len_target)\n",
    "            \n",
    "            for k in range(2, len(BATCH)):\n",
    "                BATCH[k] = np.array(BATCH[k]).flatten()\n",
    "\n",
    "            if not self.test_only:\n",
    "                yield [BATCH[0],  BATCH[1]], [BATCH[k] for k in range(2, len(BATCH))]\n",
    "            else:\n",
    "                yield [BATCH[0],  BATCH[1]], [BATCH[k]*0 for k in range(2, len(BATCH))]"
   ]
  },
  {
   "cell_type": "code",
   "execution_count": 8,
   "metadata": {
    "ExecuteTime": {
     "end_time": "2022-04-10T19:06:50.931042Z",
     "start_time": "2022-04-10T19:06:21.702581Z"
    },
    "id": "3tQtKlmk8TiV"
   },
   "outputs": [],
   "source": [
    "data = pd.read_csv(\"data_full_05_pH.zip\", compression='zip')\n",
    "order = [\n",
    "    'smiles', 'target', 'p1Kd', 'p1Ki', 'p1IC50', 'p1EC50', 'is_active', 'pH'\n",
    "]\n",
    "data = data[order]"
   ]
  },
  {
   "cell_type": "code",
   "execution_count": 9,
   "metadata": {
    "ExecuteTime": {
     "end_time": "2022-04-10T19:06:52.587951Z",
     "start_time": "2022-04-10T19:06:50.946617Z"
    },
    "colab": {
     "base_uri": "https://localhost:8080/",
     "height": 287
    },
    "id": "W38UR0acBU-i",
    "outputId": "c86cfca6-a7c8-4f5a-b4ba-bb99ab361dd3"
   },
   "outputs": [
    {
     "data": {
      "text/html": [
       "\n",
       "  <div id=\"df-1e7d5206-17c3-4c0e-95a9-1dc5b590445f\">\n",
       "    <div class=\"colab-df-container\">\n",
       "      <div>\n",
       "<style scoped>\n",
       "    .dataframe tbody tr th:only-of-type {\n",
       "        vertical-align: middle;\n",
       "    }\n",
       "\n",
       "    .dataframe tbody tr th {\n",
       "        vertical-align: top;\n",
       "    }\n",
       "\n",
       "    .dataframe thead th {\n",
       "        text-align: right;\n",
       "    }\n",
       "</style>\n",
       "<table border=\"1\" class=\"dataframe\">\n",
       "  <thead>\n",
       "    <tr style=\"text-align: right;\">\n",
       "      <th></th>\n",
       "      <th>smiles</th>\n",
       "      <th>target</th>\n",
       "      <th>p1Kd</th>\n",
       "      <th>p1Ki</th>\n",
       "      <th>p1IC50</th>\n",
       "      <th>p1EC50</th>\n",
       "      <th>is_active</th>\n",
       "      <th>pH</th>\n",
       "    </tr>\n",
       "  </thead>\n",
       "  <tbody>\n",
       "    <tr>\n",
       "      <th>618389</th>\n",
       "      <td>Nc1ccc(-c2nc(N3CCOCC3)c3cnn(C4CCN(Cc5ccccc5)CC...</td>\n",
       "      <td>MPPRPSSGELWGIHLMPPRILVECLLPNGMIVTLECLREATLITIK...</td>\n",
       "      <td>NaN</td>\n",
       "      <td>NaN</td>\n",
       "      <td>7.221836</td>\n",
       "      <td>NaN</td>\n",
       "      <td>0.0</td>\n",
       "      <td>NaN</td>\n",
       "    </tr>\n",
       "    <tr>\n",
       "      <th>30622</th>\n",
       "      <td>CCCNC(=O)C1CC(c2ccc(C(F)(F)F)cc2)=NO1</td>\n",
       "      <td>MIFLYQVVHFILFTSVSGECVTQLLKDTCFEGGDITTVFTPSAKYC...</td>\n",
       "      <td>NaN</td>\n",
       "      <td>NaN</td>\n",
       "      <td>9.567024</td>\n",
       "      <td>NaN</td>\n",
       "      <td>0.0</td>\n",
       "      <td>7.4</td>\n",
       "    </tr>\n",
       "    <tr>\n",
       "      <th>754564</th>\n",
       "      <td>COc1cc(-c2cn(C3CC(C(F)(F)F)CCN(Cc4ccccc4)C3=O)...</td>\n",
       "      <td>MPVRRGHVAPQNTFLDTIIRKFEGQSRKFIIANARVENCAVIYCND...</td>\n",
       "      <td>NaN</td>\n",
       "      <td>NaN</td>\n",
       "      <td>8.609043</td>\n",
       "      <td>NaN</td>\n",
       "      <td>0.0</td>\n",
       "      <td>NaN</td>\n",
       "    </tr>\n",
       "    <tr>\n",
       "      <th>900001</th>\n",
       "      <td>O=C(C=Cc1cc(Cl)ccc1-n1cnnn1)NC1CC=CCCC(=O)Nc2c...</td>\n",
       "      <td>MIFLYQVVHFILFTSVSGECVTQLLKDTCFEGGDITTVFTPSAKYC...</td>\n",
       "      <td>NaN</td>\n",
       "      <td>1.526056</td>\n",
       "      <td>NaN</td>\n",
       "      <td>NaN</td>\n",
       "      <td>1.0</td>\n",
       "      <td>NaN</td>\n",
       "    </tr>\n",
       "    <tr>\n",
       "      <th>859237</th>\n",
       "      <td>N=C(N)Nc1ccc(CNc2cnc3cc(C(=O)NCCO)ccn23)cc1</td>\n",
       "      <td>MRALLARLLLCVLVVSDSKGSNELHQVPSNCDCLNGGTCVSNKYFS...</td>\n",
       "      <td>NaN</td>\n",
       "      <td>NaN</td>\n",
       "      <td>5.905362</td>\n",
       "      <td>NaN</td>\n",
       "      <td>1.0</td>\n",
       "      <td>NaN</td>\n",
       "    </tr>\n",
       "  </tbody>\n",
       "</table>\n",
       "</div>\n",
       "      <button class=\"colab-df-convert\" onclick=\"convertToInteractive('df-1e7d5206-17c3-4c0e-95a9-1dc5b590445f')\"\n",
       "              title=\"Convert this dataframe to an interactive table.\"\n",
       "              style=\"display:none;\">\n",
       "        \n",
       "  <svg xmlns=\"http://www.w3.org/2000/svg\" height=\"24px\"viewBox=\"0 0 24 24\"\n",
       "       width=\"24px\">\n",
       "    <path d=\"M0 0h24v24H0V0z\" fill=\"none\"/>\n",
       "    <path d=\"M18.56 5.44l.94 2.06.94-2.06 2.06-.94-2.06-.94-.94-2.06-.94 2.06-2.06.94zm-11 1L8.5 8.5l.94-2.06 2.06-.94-2.06-.94L8.5 2.5l-.94 2.06-2.06.94zm10 10l.94 2.06.94-2.06 2.06-.94-2.06-.94-.94-2.06-.94 2.06-2.06.94z\"/><path d=\"M17.41 7.96l-1.37-1.37c-.4-.4-.92-.59-1.43-.59-.52 0-1.04.2-1.43.59L10.3 9.45l-7.72 7.72c-.78.78-.78 2.05 0 2.83L4 21.41c.39.39.9.59 1.41.59.51 0 1.02-.2 1.41-.59l7.78-7.78 2.81-2.81c.8-.78.8-2.07 0-2.86zM5.41 20L4 18.59l7.72-7.72 1.47 1.35L5.41 20z\"/>\n",
       "  </svg>\n",
       "      </button>\n",
       "      \n",
       "  <style>\n",
       "    .colab-df-container {\n",
       "      display:flex;\n",
       "      flex-wrap:wrap;\n",
       "      gap: 12px;\n",
       "    }\n",
       "\n",
       "    .colab-df-convert {\n",
       "      background-color: #E8F0FE;\n",
       "      border: none;\n",
       "      border-radius: 50%;\n",
       "      cursor: pointer;\n",
       "      display: none;\n",
       "      fill: #1967D2;\n",
       "      height: 32px;\n",
       "      padding: 0 0 0 0;\n",
       "      width: 32px;\n",
       "    }\n",
       "\n",
       "    .colab-df-convert:hover {\n",
       "      background-color: #E2EBFA;\n",
       "      box-shadow: 0px 1px 2px rgba(60, 64, 67, 0.3), 0px 1px 3px 1px rgba(60, 64, 67, 0.15);\n",
       "      fill: #174EA6;\n",
       "    }\n",
       "\n",
       "    [theme=dark] .colab-df-convert {\n",
       "      background-color: #3B4455;\n",
       "      fill: #D2E3FC;\n",
       "    }\n",
       "\n",
       "    [theme=dark] .colab-df-convert:hover {\n",
       "      background-color: #434B5C;\n",
       "      box-shadow: 0px 1px 3px 1px rgba(0, 0, 0, 0.15);\n",
       "      filter: drop-shadow(0px 1px 2px rgba(0, 0, 0, 0.3));\n",
       "      fill: #FFFFFF;\n",
       "    }\n",
       "  </style>\n",
       "\n",
       "      <script>\n",
       "        const buttonEl =\n",
       "          document.querySelector('#df-1e7d5206-17c3-4c0e-95a9-1dc5b590445f button.colab-df-convert');\n",
       "        buttonEl.style.display =\n",
       "          google.colab.kernel.accessAllowed ? 'block' : 'none';\n",
       "\n",
       "        async function convertToInteractive(key) {\n",
       "          const element = document.querySelector('#df-1e7d5206-17c3-4c0e-95a9-1dc5b590445f');\n",
       "          const dataTable =\n",
       "            await google.colab.kernel.invokeFunction('convertToInteractive',\n",
       "                                                     [key], {});\n",
       "          if (!dataTable) return;\n",
       "\n",
       "          const docLinkHtml = 'Like what you see? Visit the ' +\n",
       "            '<a target=\"_blank\" href=https://colab.research.google.com/notebooks/data_table.ipynb>data table notebook</a>'\n",
       "            + ' to learn more about interactive tables.';\n",
       "          element.innerHTML = '';\n",
       "          dataTable['output_type'] = 'display_data';\n",
       "          await google.colab.output.renderOutput(dataTable, element);\n",
       "          const docLink = document.createElement('div');\n",
       "          docLink.innerHTML = docLinkHtml;\n",
       "          element.appendChild(docLink);\n",
       "        }\n",
       "      </script>\n",
       "    </div>\n",
       "  </div>\n",
       "  "
      ],
      "text/plain": [
       "                                                   smiles  \\\n",
       "618389  Nc1ccc(-c2nc(N3CCOCC3)c3cnn(C4CCN(Cc5ccccc5)CC...   \n",
       "30622               CCCNC(=O)C1CC(c2ccc(C(F)(F)F)cc2)=NO1   \n",
       "754564  COc1cc(-c2cn(C3CC(C(F)(F)F)CCN(Cc4ccccc4)C3=O)...   \n",
       "900001  O=C(C=Cc1cc(Cl)ccc1-n1cnnn1)NC1CC=CCCC(=O)Nc2c...   \n",
       "859237        N=C(N)Nc1ccc(CNc2cnc3cc(C(=O)NCCO)ccn23)cc1   \n",
       "\n",
       "                                                   target  p1Kd      p1Ki  \\\n",
       "618389  MPPRPSSGELWGIHLMPPRILVECLLPNGMIVTLECLREATLITIK...   NaN       NaN   \n",
       "30622   MIFLYQVVHFILFTSVSGECVTQLLKDTCFEGGDITTVFTPSAKYC...   NaN       NaN   \n",
       "754564  MPVRRGHVAPQNTFLDTIIRKFEGQSRKFIIANARVENCAVIYCND...   NaN       NaN   \n",
       "900001  MIFLYQVVHFILFTSVSGECVTQLLKDTCFEGGDITTVFTPSAKYC...   NaN  1.526056   \n",
       "859237  MRALLARLLLCVLVVSDSKGSNELHQVPSNCDCLNGGTCVSNKYFS...   NaN       NaN   \n",
       "\n",
       "          p1IC50  p1EC50  is_active   pH  \n",
       "618389  7.221836     NaN        0.0  NaN  \n",
       "30622   9.567024     NaN        0.0  7.4  \n",
       "754564  8.609043     NaN        0.0  NaN  \n",
       "900001       NaN     NaN        1.0  NaN  \n",
       "859237  5.905362     NaN        1.0  NaN  "
      ]
     },
     "execution_count": 9,
     "metadata": {},
     "output_type": "execute_result"
    }
   ],
   "source": [
    "data = data.sample(frac=1, random_state = 7)\n",
    "data.head()"
   ]
  },
  {
   "cell_type": "code",
   "execution_count": 10,
   "metadata": {
    "ExecuteTime": {
     "end_time": "2022-04-10T19:06:53.762163Z",
     "start_time": "2022-04-10T19:06:52.590026Z"
    },
    "colab": {
     "base_uri": "https://localhost:8080/"
    },
    "id": "10ll6kWis2dT",
    "outputId": "0dd3d552-248a-4852-f676-25152848132c"
   },
   "outputs": [
    {
     "data": {
      "text/plain": [
       "(44, 8)"
      ]
     },
     "execution_count": 10,
     "metadata": {},
     "output_type": "execute_result"
    }
   ],
   "source": [
    "data.dropna().shape"
   ]
  },
  {
   "cell_type": "code",
   "execution_count": 11,
   "metadata": {
    "ExecuteTime": {
     "end_time": "2022-04-10T19:07:20.598059Z",
     "start_time": "2022-04-10T19:06:53.774676Z"
    },
    "colab": {
     "base_uri": "https://localhost:8080/",
     "height": 81,
     "referenced_widgets": [
      "415da6e7e1454dcfaad83d5b5651a6b3",
      "1db48340efcb4a61a82672c3a542498a",
      "d98765fa55eb4ad9bb6ab73631bb9631",
      "ce935596b29b4abcad74cb7e09a33e00",
      "dea41680c43b4c92a022c01d76577e9d",
      "08abd662185143f89da9f9bf3fef2511",
      "2b2074bd630240cd9f2eda0ce38f147e",
      "d98d5e8fe59543f6b5f3823c78f1ea25",
      "58d38dd270ff42b597df46f665cf5feb",
      "2d26a4c295454845b04965e330ddcb49",
      "ca391d03802147c7a81533cfaf29a26e",
      "149745edeb31456abaef31673f5606c7",
      "0a1f1b1a2de94c89b8bec693a1389ba2",
      "3fdd379e80c5479dbede3d23367c3bae",
      "eba043f3e7b64a51a30c35d2dff4a310",
      "e7256026207e4d8cb37b2e46af45b7c1",
      "c0c9fd436d0a4c4a98a42472134ccec1",
      "1025503cdb114a4eb1c3443d3e6522c7",
      "35eee7e6d9604fee9de39784380d718e",
      "c16d04635c6f4e9192c2c992ffdd3ab8",
      "e3c1bb16c0c44bd0a558ecce23aded23",
      "9a7652fd49a04b2fba24fd7899e6de7d"
     ]
    },
    "id": "kZXswzVO8nmp",
    "outputId": "ac815ed4-53d3-45bb-8bc0-f5ca9307ef38"
   },
   "outputs": [
    {
     "data": {
      "application/vnd.jupyter.widget-view+json": {
       "model_id": "415da6e7e1454dcfaad83d5b5651a6b3",
       "version_major": 2,
       "version_minor": 0
      },
      "text/plain": [
       "  0%|          | 0/574406 [00:00<?, ?it/s]"
      ]
     },
     "metadata": {},
     "output_type": "display_data"
    },
    {
     "data": {
      "application/vnd.jupyter.widget-view+json": {
       "model_id": "149745edeb31456abaef31673f5606c7",
       "version_major": 2,
       "version_minor": 0
      },
      "text/plain": [
       "  0%|          | 0/1902 [00:00<?, ?it/s]"
      ]
     },
     "metadata": {},
     "output_type": "display_data"
    }
   ],
   "source": [
    "SMILES = {}\n",
    "for smiles in tqdm(data['smiles'].unique()):\n",
    "    SMILES[smiles] = [CHARCANSMISET[s] for s in smiles]\n",
    "\n",
    "AA = {}\n",
    "for aa in tqdm(data['target'].unique()):\n",
    "    AA[aa] = [CHARPROTSET[a.upper()] for a in aa]"
   ]
  },
  {
   "cell_type": "code",
   "execution_count": 12,
   "metadata": {
    "ExecuteTime": {
     "end_time": "2022-04-10T19:07:25.984693Z",
     "start_time": "2022-04-10T19:07:20.608271Z"
    },
    "colab": {
     "base_uri": "https://localhost:8080/"
    },
    "id": "_S9hwivl8IiM",
    "outputId": "d550c40a-9bc6-443b-c5cd-ff535751eafd"
   },
   "outputs": [
    {
     "data": {
      "text/plain": [
       "(733937, 90610, 81549)"
      ]
     },
     "execution_count": 12,
     "metadata": {},
     "output_type": "execute_result"
    }
   ],
   "source": [
    "X_train, X_test = train_test_split(data,\n",
    "                                   test_size=0.1,\n",
    "                                   shuffle=True,\n",
    "                                   random_state=7,\n",
    "                                   stratify=data['is_active'])\n",
    "\n",
    "X_train, X_valid = train_test_split(X_train,\n",
    "                                    test_size=0.1,\n",
    "                                    shuffle=True,\n",
    "                                    random_state=7,\n",
    "                                    stratify=X_train['is_active'])\n",
    "\n",
    "X_train.shape[0], X_test.shape[0], X_valid.shape[0]"
   ]
  },
  {
   "cell_type": "code",
   "execution_count": 13,
   "metadata": {
    "ExecuteTime": {
     "end_time": "2022-04-10T19:07:26.047216Z",
     "start_time": "2022-04-10T19:07:25.984693Z"
    },
    "colab": {
     "base_uri": "https://localhost:8080/",
     "height": 270
    },
    "id": "J8CbVClA8_Rf",
    "outputId": "d596c2c7-3ab6-4320-a1b4-88d260469ab0"
   },
   "outputs": [
    {
     "data": {
      "text/html": [
       "\n",
       "  <div id=\"df-780127c5-df07-497f-b737-ad329cc9d1dc\">\n",
       "    <div class=\"colab-df-container\">\n",
       "      <div>\n",
       "<style scoped>\n",
       "    .dataframe tbody tr th:only-of-type {\n",
       "        vertical-align: middle;\n",
       "    }\n",
       "\n",
       "    .dataframe tbody tr th {\n",
       "        vertical-align: top;\n",
       "    }\n",
       "\n",
       "    .dataframe thead th {\n",
       "        text-align: right;\n",
       "    }\n",
       "</style>\n",
       "<table border=\"1\" class=\"dataframe\">\n",
       "  <thead>\n",
       "    <tr style=\"text-align: right;\">\n",
       "      <th></th>\n",
       "      <th>smiles</th>\n",
       "      <th>target</th>\n",
       "      <th>p1Kd</th>\n",
       "      <th>p1Ki</th>\n",
       "      <th>p1IC50</th>\n",
       "      <th>p1EC50</th>\n",
       "      <th>is_active</th>\n",
       "      <th>pH</th>\n",
       "    </tr>\n",
       "  </thead>\n",
       "  <tbody>\n",
       "    <tr>\n",
       "      <th>541244</th>\n",
       "      <td>Cc1cccc(-n2cc3c(n2)c(NC(=O)Cc2ccccc2)nc2ccccc2...</td>\n",
       "      <td>MPPSISAFQAAYIGIEVLIALVSVPGNVLVIWAVKVNQALRDATFC...</td>\n",
       "      <td>NaN</td>\n",
       "      <td>4.110874</td>\n",
       "      <td>NaN</td>\n",
       "      <td>NaN</td>\n",
       "      <td>1.0</td>\n",
       "      <td>NaN</td>\n",
       "    </tr>\n",
       "    <tr>\n",
       "      <th>321626</th>\n",
       "      <td>CC(C)(O)CCNC(=O)N1C(=O)N(c2cccc(C(F)(F)F)c2)C2...</td>\n",
       "      <td>MTLGRRLACLFLACVLPALLLGGTALASEIVGGRRARPHAWPFMVS...</td>\n",
       "      <td>NaN</td>\n",
       "      <td>NaN</td>\n",
       "      <td>0.741937</td>\n",
       "      <td>NaN</td>\n",
       "      <td>1.0</td>\n",
       "      <td>NaN</td>\n",
       "    </tr>\n",
       "    <tr>\n",
       "      <th>206291</th>\n",
       "      <td>CN(C)C1CN(c2cnc3ccc(-c4ccc5oc(N)nc5c4)cc3n2)C1</td>\n",
       "      <td>MELENYKQPVVLREDNCRRRRRMKPRSAAASLSSMELIPIEFVLPT...</td>\n",
       "      <td>NaN</td>\n",
       "      <td>NaN</td>\n",
       "      <td>9.210440</td>\n",
       "      <td>NaN</td>\n",
       "      <td>0.0</td>\n",
       "      <td>NaN</td>\n",
       "    </tr>\n",
       "    <tr>\n",
       "      <th>21827</th>\n",
       "      <td>Cc1nn(C(=O)c2ccc(Cl)cc2)c(C)c1Cl</td>\n",
       "      <td>MLGITVLAALLACASSCGVPSFPPNLSARVVGGEDARPHSWPWQIS...</td>\n",
       "      <td>NaN</td>\n",
       "      <td>NaN</td>\n",
       "      <td>8.455531</td>\n",
       "      <td>NaN</td>\n",
       "      <td>0.0</td>\n",
       "      <td>NaN</td>\n",
       "    </tr>\n",
       "    <tr>\n",
       "      <th>135842</th>\n",
       "      <td>CC1(C)CC(NC(=O)Nc2ccc3c(c2)NC(=O)CC3)c2cccc(C(...</td>\n",
       "      <td>MKKWSSTDLGAAADPLQKDTCPDPLDGDPNSRPPPAKPQLSTAKSR...</td>\n",
       "      <td>NaN</td>\n",
       "      <td>NaN</td>\n",
       "      <td>8.188967</td>\n",
       "      <td>NaN</td>\n",
       "      <td>0.0</td>\n",
       "      <td>NaN</td>\n",
       "    </tr>\n",
       "  </tbody>\n",
       "</table>\n",
       "</div>\n",
       "      <button class=\"colab-df-convert\" onclick=\"convertToInteractive('df-780127c5-df07-497f-b737-ad329cc9d1dc')\"\n",
       "              title=\"Convert this dataframe to an interactive table.\"\n",
       "              style=\"display:none;\">\n",
       "        \n",
       "  <svg xmlns=\"http://www.w3.org/2000/svg\" height=\"24px\"viewBox=\"0 0 24 24\"\n",
       "       width=\"24px\">\n",
       "    <path d=\"M0 0h24v24H0V0z\" fill=\"none\"/>\n",
       "    <path d=\"M18.56 5.44l.94 2.06.94-2.06 2.06-.94-2.06-.94-.94-2.06-.94 2.06-2.06.94zm-11 1L8.5 8.5l.94-2.06 2.06-.94-2.06-.94L8.5 2.5l-.94 2.06-2.06.94zm10 10l.94 2.06.94-2.06 2.06-.94-2.06-.94-.94-2.06-.94 2.06-2.06.94z\"/><path d=\"M17.41 7.96l-1.37-1.37c-.4-.4-.92-.59-1.43-.59-.52 0-1.04.2-1.43.59L10.3 9.45l-7.72 7.72c-.78.78-.78 2.05 0 2.83L4 21.41c.39.39.9.59 1.41.59.51 0 1.02-.2 1.41-.59l7.78-7.78 2.81-2.81c.8-.78.8-2.07 0-2.86zM5.41 20L4 18.59l7.72-7.72 1.47 1.35L5.41 20z\"/>\n",
       "  </svg>\n",
       "      </button>\n",
       "      \n",
       "  <style>\n",
       "    .colab-df-container {\n",
       "      display:flex;\n",
       "      flex-wrap:wrap;\n",
       "      gap: 12px;\n",
       "    }\n",
       "\n",
       "    .colab-df-convert {\n",
       "      background-color: #E8F0FE;\n",
       "      border: none;\n",
       "      border-radius: 50%;\n",
       "      cursor: pointer;\n",
       "      display: none;\n",
       "      fill: #1967D2;\n",
       "      height: 32px;\n",
       "      padding: 0 0 0 0;\n",
       "      width: 32px;\n",
       "    }\n",
       "\n",
       "    .colab-df-convert:hover {\n",
       "      background-color: #E2EBFA;\n",
       "      box-shadow: 0px 1px 2px rgba(60, 64, 67, 0.3), 0px 1px 3px 1px rgba(60, 64, 67, 0.15);\n",
       "      fill: #174EA6;\n",
       "    }\n",
       "\n",
       "    [theme=dark] .colab-df-convert {\n",
       "      background-color: #3B4455;\n",
       "      fill: #D2E3FC;\n",
       "    }\n",
       "\n",
       "    [theme=dark] .colab-df-convert:hover {\n",
       "      background-color: #434B5C;\n",
       "      box-shadow: 0px 1px 3px 1px rgba(0, 0, 0, 0.15);\n",
       "      filter: drop-shadow(0px 1px 2px rgba(0, 0, 0, 0.3));\n",
       "      fill: #FFFFFF;\n",
       "    }\n",
       "  </style>\n",
       "\n",
       "      <script>\n",
       "        const buttonEl =\n",
       "          document.querySelector('#df-780127c5-df07-497f-b737-ad329cc9d1dc button.colab-df-convert');\n",
       "        buttonEl.style.display =\n",
       "          google.colab.kernel.accessAllowed ? 'block' : 'none';\n",
       "\n",
       "        async function convertToInteractive(key) {\n",
       "          const element = document.querySelector('#df-780127c5-df07-497f-b737-ad329cc9d1dc');\n",
       "          const dataTable =\n",
       "            await google.colab.kernel.invokeFunction('convertToInteractive',\n",
       "                                                     [key], {});\n",
       "          if (!dataTable) return;\n",
       "\n",
       "          const docLinkHtml = 'Like what you see? Visit the ' +\n",
       "            '<a target=\"_blank\" href=https://colab.research.google.com/notebooks/data_table.ipynb>data table notebook</a>'\n",
       "            + ' to learn more about interactive tables.';\n",
       "          element.innerHTML = '';\n",
       "          dataTable['output_type'] = 'display_data';\n",
       "          await google.colab.output.renderOutput(dataTable, element);\n",
       "          const docLink = document.createElement('div');\n",
       "          docLink.innerHTML = docLinkHtml;\n",
       "          element.appendChild(docLink);\n",
       "        }\n",
       "      </script>\n",
       "    </div>\n",
       "  </div>\n",
       "  "
      ],
      "text/plain": [
       "                                                   smiles  \\\n",
       "541244  Cc1cccc(-n2cc3c(n2)c(NC(=O)Cc2ccccc2)nc2ccccc2...   \n",
       "321626  CC(C)(O)CCNC(=O)N1C(=O)N(c2cccc(C(F)(F)F)c2)C2...   \n",
       "206291     CN(C)C1CN(c2cnc3ccc(-c4ccc5oc(N)nc5c4)cc3n2)C1   \n",
       "21827                    Cc1nn(C(=O)c2ccc(Cl)cc2)c(C)c1Cl   \n",
       "135842  CC1(C)CC(NC(=O)Nc2ccc3c(c2)NC(=O)CC3)c2cccc(C(...   \n",
       "\n",
       "                                                   target  p1Kd      p1Ki  \\\n",
       "541244  MPPSISAFQAAYIGIEVLIALVSVPGNVLVIWAVKVNQALRDATFC...   NaN  4.110874   \n",
       "321626  MTLGRRLACLFLACVLPALLLGGTALASEIVGGRRARPHAWPFMVS...   NaN       NaN   \n",
       "206291  MELENYKQPVVLREDNCRRRRRMKPRSAAASLSSMELIPIEFVLPT...   NaN       NaN   \n",
       "21827   MLGITVLAALLACASSCGVPSFPPNLSARVVGGEDARPHSWPWQIS...   NaN       NaN   \n",
       "135842  MKKWSSTDLGAAADPLQKDTCPDPLDGDPNSRPPPAKPQLSTAKSR...   NaN       NaN   \n",
       "\n",
       "          p1IC50  p1EC50  is_active  pH  \n",
       "541244       NaN     NaN        1.0 NaN  \n",
       "321626  0.741937     NaN        1.0 NaN  \n",
       "206291  9.210440     NaN        0.0 NaN  \n",
       "21827   8.455531     NaN        0.0 NaN  \n",
       "135842  8.188967     NaN        0.0 NaN  "
      ]
     },
     "execution_count": 13,
     "metadata": {},
     "output_type": "execute_result"
    }
   ],
   "source": [
    "X_train.head()"
   ]
  },
  {
   "cell_type": "code",
   "execution_count": 14,
   "metadata": {
    "ExecuteTime": {
     "end_time": "2022-04-10T19:35:55.618084Z",
     "start_time": "2022-04-10T19:35:52.478299Z"
    },
    "id": "5BhQxIns851d"
   },
   "outputs": [],
   "source": [
    "# It is stochastic on Windows ?\n",
    "batch_size = 1024\n",
    "\n",
    "trg = Gen(X_train, SMILES, AA)\n",
    "trg = trg.get_batch(batch_size)\n",
    "\n",
    "vag = Gen(X_valid, SMILES, AA)\n",
    "vag = vag.get_batch(batch_size)"
   ]
  },
  {
   "cell_type": "code",
   "execution_count": 15,
   "metadata": {
    "ExecuteTime": {
     "end_time": "2022-04-10T19:07:29.769155Z",
     "start_time": "2022-04-10T19:07:29.753977Z"
    },
    "id": "SnTU-fTirAbi"
   },
   "outputs": [],
   "source": [
    "# for batch in trg:\n",
    "#     break\n",
    "\n",
    "# batch"
   ]
  },
  {
   "cell_type": "code",
   "execution_count": 16,
   "metadata": {
    "ExecuteTime": {
     "end_time": "2022-04-10T19:07:29.954360Z",
     "start_time": "2022-04-10T19:07:29.774692Z"
    },
    "id": "y6Jrd8xC9oBN"
   },
   "outputs": [],
   "source": [
    "steps_per_epoch = X_train.shape[0] // batch_size\n",
    "valid_steps = X_valid.shape[0] // batch_size"
   ]
  },
  {
   "cell_type": "code",
   "execution_count": 17,
   "metadata": {
    "ExecuteTime": {
     "end_time": "2022-04-10T19:25:42.994392Z",
     "start_time": "2022-04-10T19:25:42.966683Z"
    },
    "id": "o_lLDAXc9qls"
   },
   "outputs": [],
   "source": [
    "filepath = \"CNN_basic_with_memory_{epoch:02d}-{val_loss:.2f}.h5\"\n",
    "checkpoint = tf.keras.callbacks.ModelCheckpoint(filepath,\n",
    "                                                monitor='val_loss',\n",
    "                                                verbose=1,\n",
    "                                                save_best_only=False,\n",
    "                                                mode='auto',\n",
    "                                                save_weights_only=True)"
   ]
  },
  {
   "cell_type": "code",
   "execution_count": 18,
   "metadata": {
    "ExecuteTime": {
     "end_time": "2022-04-12T05:46:51.394193Z",
     "start_time": "2022-04-10T19:36:26.823705Z"
    },
    "colab": {
     "base_uri": "https://localhost:8080/",
     "height": 1000,
     "referenced_widgets": [
      "043485b65027406eb818edc1f30453bc",
      "211f802a01c9497ca01b060f9ea2eaf1",
      "1732871292ae4f72a8ee02cf2507843e",
      "493c283081f34c9087054ea7e37cbd60",
      "7ed12a85ed674c47af1282a908a165ac",
      "3f97784850324470a4510484b94b191f",
      "0d48e364bf3e4e95b5673d9aa0974100",
      "75e3adfdcbb149c7873eb38be92cbc47",
      "0a9d2f4a12b746f58c49e04b16d1ac52",
      "74ebf01b53a54b2b81c272c96529786b",
      "2825f87870a94b1c8060945a006a4c78",
      "a66a01f179d54f8da390294ef1db6cc3",
      "bb9a3118e9704a938fb370f9ca11b2b5",
      "4c4adba52dff40f496ffd7468a9da7d2",
      "112433a0cc604458a32c00c541e3ac60",
      "f350a58bf7754e8f8b8bc3cd114a4684",
      "f7270e93b6fd42448071f24cba058ff8",
      "a86fa7f46bd14b28bc35947fb1cfb704",
      "e1badb9cf2984e4db2db0de8d6cd3a49",
      "ebc5b433984748b2b9d3a5ce882e2a4c",
      "156790ee47784da0b85557980217d960",
      "07e612eed3dd47bf9fbbe8053f1b7752"
     ]
    },
    "id": "fT_ws69y9sTu",
    "outputId": "96787752-117e-4190-b5df-7af344f1f294"
   },
   "outputs": [
    {
     "data": {
      "application/vnd.jupyter.widget-view+json": {
       "model_id": "043485b65027406eb818edc1f30453bc",
       "version_major": 2,
       "version_minor": 0
      },
      "text/plain": [
       "0epoch [00:00, ?epoch/s]"
      ]
     },
     "metadata": {},
     "output_type": "display_data"
    },
    {
     "data": {
      "application/vnd.jupyter.widget-view+json": {
       "model_id": "a66a01f179d54f8da390294ef1db6cc3",
       "version_major": 2,
       "version_minor": 0
      },
      "text/plain": [
       "0batch [00:00, ?batch/s]"
      ]
     },
     "metadata": {},
     "output_type": "display_data"
    },
    {
     "name": "stdout",
     "output_type": "stream",
     "text": [
      "\n",
      "Epoch 1: saving model to CNN_basic_with_memory_01-9.88.h5\n",
      "\n",
      "Epoch 2: saving model to CNN_basic_with_memory_02-9.46.h5\n",
      "\n",
      "Epoch 3: saving model to CNN_basic_with_memory_03-6.90.h5\n",
      "\n",
      "Epoch 4: saving model to CNN_basic_with_memory_04-7.39.h5\n",
      "\n",
      "Epoch 5: saving model to CNN_basic_with_memory_05-6.19.h5\n",
      "\n",
      "Epoch 6: saving model to CNN_basic_with_memory_06-5.71.h5\n",
      "\n",
      "Epoch 7: saving model to CNN_basic_with_memory_07-5.47.h5\n",
      "\n",
      "Epoch 8: saving model to CNN_basic_with_memory_08-5.33.h5\n",
      "\n",
      "Epoch 9: saving model to CNN_basic_with_memory_09-5.21.h5\n",
      "\n",
      "Epoch 10: saving model to CNN_basic_with_memory_10-5.50.h5\n",
      "\n",
      "Epoch 11: saving model to CNN_basic_with_memory_11-5.35.h5\n",
      "\n",
      "Epoch 12: saving model to CNN_basic_with_memory_12-4.97.h5\n",
      "\n",
      "Epoch 13: saving model to CNN_basic_with_memory_13-5.23.h5\n",
      "\n",
      "Epoch 14: saving model to CNN_basic_with_memory_14-4.91.h5\n",
      "\n",
      "Epoch 15: saving model to CNN_basic_with_memory_15-4.78.h5\n",
      "\n",
      "Epoch 16: saving model to CNN_basic_with_memory_16-4.80.h5\n",
      "\n",
      "Epoch 17: saving model to CNN_basic_with_memory_17-4.72.h5\n",
      "\n",
      "Epoch 18: saving model to CNN_basic_with_memory_18-4.78.h5\n",
      "\n",
      "Epoch 19: saving model to CNN_basic_with_memory_19-4.78.h5\n",
      "\n",
      "Epoch 20: saving model to CNN_basic_with_memory_20-4.68.h5\n",
      "\n",
      "Epoch 21: saving model to CNN_basic_with_memory_21-4.59.h5\n",
      "\n",
      "Epoch 22: saving model to CNN_basic_with_memory_22-4.63.h5\n",
      "\n",
      "Epoch 23: saving model to CNN_basic_with_memory_23-4.48.h5\n",
      "\n",
      "Epoch 24: saving model to CNN_basic_with_memory_24-4.59.h5\n",
      "\n",
      "Epoch 25: saving model to CNN_basic_with_memory_25-4.46.h5\n",
      "\n",
      "Epoch 26: saving model to CNN_basic_with_memory_26-4.56.h5\n",
      "\n",
      "Epoch 27: saving model to CNN_basic_with_memory_27-4.43.h5\n",
      "\n",
      "Epoch 28: saving model to CNN_basic_with_memory_28-4.55.h5\n",
      "\n",
      "Epoch 29: saving model to CNN_basic_with_memory_29-4.46.h5\n",
      "\n",
      "Epoch 30: saving model to CNN_basic_with_memory_30-4.49.h5\n",
      "\n",
      "Epoch 31: saving model to CNN_basic_with_memory_31-4.42.h5\n",
      "\n",
      "Epoch 32: saving model to CNN_basic_with_memory_32-4.33.h5\n",
      "\n",
      "Epoch 33: saving model to CNN_basic_with_memory_33-4.38.h5\n",
      "\n",
      "Epoch 34: saving model to CNN_basic_with_memory_34-4.41.h5\n",
      "\n",
      "Epoch 35: saving model to CNN_basic_with_memory_35-4.33.h5\n",
      "\n",
      "Epoch 36: saving model to CNN_basic_with_memory_36-4.40.h5\n",
      "\n",
      "Epoch 37: saving model to CNN_basic_with_memory_37-4.21.h5\n",
      "\n",
      "Epoch 38: saving model to CNN_basic_with_memory_38-4.31.h5\n",
      "\n",
      "Epoch 39: saving model to CNN_basic_with_memory_39-4.39.h5\n",
      "\n",
      "Epoch 40: saving model to CNN_basic_with_memory_40-4.37.h5\n",
      "\n",
      "Epoch 41: saving model to CNN_basic_with_memory_41-4.42.h5\n",
      "\n",
      "Epoch 42: saving model to CNN_basic_with_memory_42-4.28.h5\n",
      "\n",
      "Epoch 43: saving model to CNN_basic_with_memory_43-4.38.h5\n",
      "\n",
      "Epoch 44: saving model to CNN_basic_with_memory_44-4.22.h5\n",
      "\n",
      "Epoch 45: saving model to CNN_basic_with_memory_45-4.42.h5\n",
      "\n",
      "Epoch 46: saving model to CNN_basic_with_memory_46-4.21.h5\n",
      "\n",
      "Epoch 47: saving model to CNN_basic_with_memory_47-4.20.h5\n",
      "\n",
      "Epoch 48: saving model to CNN_basic_with_memory_48-4.24.h5\n",
      "\n",
      "Epoch 49: saving model to CNN_basic_with_memory_49-4.26.h5\n",
      "\n",
      "Epoch 50: saving model to CNN_basic_with_memory_50-4.20.h5\n"
     ]
    }
   ],
   "source": [
    "history = model.fit(trg,\n",
    "                    validation_data=vag,\n",
    "                    steps_per_epoch=steps_per_epoch,\n",
    "                    validation_steps=valid_steps,\n",
    "                    verbose=0,\n",
    "                    callbacks=[TqdmCallback(), checkpoint, csv_logger, lossCallback],\n",
    "                    epochs=50)"
   ]
  },
  {
   "cell_type": "code",
   "execution_count": 19,
   "metadata": {
    "ExecuteTime": {
     "end_time": "2022-04-12T06:04:59.650900Z",
     "start_time": "2022-04-12T06:04:59.218250Z"
    },
    "id": "vqtrfFk2Alzv"
   },
   "outputs": [],
   "source": [
    "model.load_weights('CNN_basic_with_memory_50-4.20.h5')\n",
    "model.compile(optimizer=get_optimizer())\n",
    "model.save(\"cnn_with_memory.hdf5\")"
   ]
  },
  {
   "cell_type": "code",
   "execution_count": null,
   "metadata": {
    "ExecuteTime": {
     "end_time": "2022-04-10T15:53:52.255097Z",
     "start_time": "2022-04-10T15:53:52.223846Z"
    },
    "id": "y9NHd3-MItR1"
   },
   "outputs": [],
   "source": [
    "# !rm *.h5 -r"
   ]
  },
  {
   "cell_type": "code",
   "execution_count": null,
   "metadata": {
    "ExecuteTime": {
     "end_time": "2022-04-10T15:53:52.277271Z",
     "start_time": "2022-04-10T15:53:52.255097Z"
    },
    "id": "wJXxv-nT-Uot"
   },
   "outputs": [],
   "source": [
    "# history.history"
   ]
  },
  {
   "cell_type": "code",
   "execution_count": 20,
   "metadata": {
    "ExecuteTime": {
     "end_time": "2022-04-12T05:47:04.942557Z",
     "start_time": "2022-04-12T05:47:03.924468Z"
    },
    "colab": {
     "base_uri": "https://localhost:8080/",
     "height": 308
    },
    "id": "-BM529G697Fp",
    "outputId": "dc71b00a-2350-49dd-da76-d4c7080e7b0d"
   },
   "outputs": [
    {
     "data": {
      "text/plain": [
       "<matplotlib.legend.Legend at 0x7f206cdb3850>"
      ]
     },
     "execution_count": 20,
     "metadata": {},
     "output_type": "execute_result"
    },
    {
     "data": {
      "image/png": "[encoded data removed]",
      "text/plain": [
       "<Figure size 432x288 with 1 Axes>"
      ]
     },
     "metadata": {
      "needs_background": "light"
     },
     "output_type": "display_data"
    }
   ],
   "source": [
    "plt.plot(history.history['loss'], label='train')\n",
    "plt.plot(history.history['val_loss'], label='valid')\n",
    "plt.xlabel('Epoch')\n",
    "plt.title('Loss on train-valid subsets')\n",
    "plt.legend()"
   ]
  },
  {
   "cell_type": "code",
   "execution_count": 21,
   "metadata": {
    "ExecuteTime": {
     "end_time": "2022-04-12T05:47:09.391787Z",
     "start_time": "2022-04-12T05:47:09.383788Z"
    },
    "id": "dg3iIlQL97cA"
   },
   "outputs": [],
   "source": [
    "def get_batch_size(S):\n",
    "    mbs = 1\n",
    "    for i in range(1, min(64, S)):\n",
    "        if S % i == 0:\n",
    "            mbs = i\n",
    "    assert S % mbs == 0\n",
    "\n",
    "    return mbs"
   ]
  },
  {
   "cell_type": "code",
   "execution_count": 22,
   "metadata": {
    "ExecuteTime": {
     "end_time": "2022-04-12T05:47:09.719470Z",
     "start_time": "2022-04-12T05:47:09.696472Z"
    },
    "colab": {
     "base_uri": "https://localhost:8080/"
    },
    "id": "dkGC2ZUK987w",
    "outputId": "6d1acb57-311a-440e-ac8b-78517b64fe4c"
   },
   "outputs": [
    {
     "data": {
      "text/plain": [
       "41"
      ]
     },
     "execution_count": 22,
     "metadata": {},
     "output_type": "execute_result"
    }
   ],
   "source": [
    "mbs = get_batch_size(X_test.shape[0])\n",
    "mbs"
   ]
  },
  {
   "cell_type": "code",
   "execution_count": 23,
   "metadata": {
    "ExecuteTime": {
     "end_time": "2022-04-12T05:47:10.562076Z",
     "start_time": "2022-04-12T05:47:10.534075Z"
    },
    "id": "2rQ2J_Gl9-C4"
   },
   "outputs": [],
   "source": [
    "teg = Gen(X_test, SMILES, AA, shuffle=False, test_only=True)\n",
    "teg = teg.get_batch(mbs)"
   ]
  },
  {
   "cell_type": "code",
   "execution_count": 24,
   "metadata": {
    "ExecuteTime": {
     "end_time": "2022-04-12T05:48:45.345930Z",
     "start_time": "2022-04-12T05:47:11.021739Z"
    },
    "colab": {
     "base_uri": "https://localhost:8080/"
    },
    "id": "QzHF0cZk9_NG",
    "outputId": "c12e0f5b-4923-424c-f186-c9e07da811b3"
   },
   "outputs": [
    {
     "name": "stdout",
     "output_type": "stream",
     "text": [
      "2210/2210 [==============================] - 36s 16ms/step\n"
     ]
    }
   ],
   "source": [
    "prediction = model.predict(teg, steps=X_test.shape[0] // mbs, verbose=1)"
   ]
  },
  {
   "cell_type": "code",
   "execution_count": 25,
   "metadata": {
    "ExecuteTime": {
     "end_time": "2022-04-12T05:48:46.019419Z",
     "start_time": "2022-04-12T05:48:45.348936Z"
    },
    "id": "W5p6qCEb-Ac_"
   },
   "outputs": [],
   "source": [
    "!from sklearn.metrics import mean_squared_error\n",
    "from lifelines.utils import concordance_index\n",
    "from scipy import stats"
   ]
  },
  {
   "cell_type": "code",
   "execution_count": 26,
   "metadata": {
    "ExecuteTime": {
     "end_time": "2022-04-12T05:48:46.035430Z",
     "start_time": "2022-04-12T05:48:46.023424Z"
    },
    "id": "hndwzcfe-Bdm"
   },
   "outputs": [],
   "source": [
    "def get_scores(y_true, y_pred):\n",
    "    mse = np.round(mean_squared_error(y_true, y_pred), 3)\n",
    "    rmse = np.round(mse**0.5, 3)\n",
    "    ci = np.round(concordance_index(y_true, y_pred), 3)\n",
    "    pearson = np.round(stats.pearsonr(y_true, y_pred)[0], 3)\n",
    "    spearman = np.round(stats.spearmanr(y_true, y_pred)[0], 3)\n",
    "\n",
    "    res = f\"rmse={rmse}, mse={mse},\\npearson={pearson}, spearman={spearman},\\nci={ci}\"\n",
    "\n",
    "    return res"
   ]
  },
  {
   "cell_type": "code",
   "execution_count": 27,
   "metadata": {
    "ExecuteTime": {
     "end_time": "2022-04-12T06:05:36.022225Z",
     "start_time": "2022-04-12T06:05:28.796811Z"
    },
    "colab": {
     "base_uri": "https://localhost:8080/",
     "height": 1000
    },
    "id": "fIJo-WcN-Cl8",
    "outputId": "cf9b4079-17f1-4560-9c5f-2e248f8c103e"
   },
   "outputs": [
    {
     "data": {
      "image/png": "[encoded data removed]",
      "text/plain": [
       "<Figure size 432x288 with 1 Axes>"
      ]
     },
     "metadata": {
      "needs_background": "light"
     },
     "output_type": "display_data"
    },
    {
     "data": {
      "image/png": "[encoded data removed]",
      "text/plain": [
       "<Figure size 432x288 with 1 Axes>"
      ]
     },
     "metadata": {
      "needs_background": "light"
     },
     "output_type": "display_data"
    },
    {
     "data": {
      "image/png": "[encoded data removed]",
      "text/plain": [
       "<Figure size 432x288 with 1 Axes>"
      ]
     },
     "metadata": {
      "needs_background": "light"
     },
     "output_type": "display_data"
    },
    {
     "data": {
      "image/png": "[encoded data removed]",
      "text/plain": [
       "<Figure size 432x288 with 1 Axes>"
      ]
     },
     "metadata": {
      "needs_background": "light"
     },
     "output_type": "display_data"
    },
    {
     "data": {
      "image/png": "[encoded data removed]",
      "text/plain": [
       "<Figure size 432x288 with 1 Axes>"
      ]
     },
     "metadata": {
      "needs_background": "light"
     },
     "output_type": "display_data"
    },
    {
     "data": {
      "image/png": "[encoded data removed]",
      "text/plain": [
       "<Figure size 432x288 with 1 Axes>"
      ]
     },
     "metadata": {
      "needs_background": "light"
     },
     "output_type": "display_data"
    }
   ],
   "source": [
    "for k, col in enumerate(\n",
    "    ['p1Kd', 'p1Ki', 'p1IC50', 'p1EC50', 'is_active', 'pH']):\n",
    "    plt.scatter(X_test[col], prediction[k], alpha=0.7, c='k')\n",
    "    plt.xlabel('true')\n",
    "    plt.ylabel('predicted')\n",
    "    y_true = X_test[col][X_test[col].notna()]\n",
    "    y_pred = prediction[k][X_test[col].notna()].ravel()\n",
    "    plt.title(col + \":\\n\" + get_scores(y_true, y_pred))\n",
    "    plt.show()  # 74.6"
   ]
  },
  {
   "cell_type": "code",
   "execution_count": 28,
   "metadata": {
    "ExecuteTime": {
     "end_time": "2022-04-12T05:49:00.364394Z",
     "start_time": "2022-04-12T05:48:59.448016Z"
    },
    "id": "jAA6lozS-DsH"
   },
   "outputs": [],
   "source": [
    "import scikitplot as skplt"
   ]
  },
  {
   "cell_type": "code",
   "execution_count": 29,
   "metadata": {
    "ExecuteTime": {
     "end_time": "2022-04-12T05:49:00.822870Z",
     "start_time": "2022-04-12T05:49:00.368414Z"
    },
    "colab": {
     "base_uri": "https://localhost:8080/",
     "height": 346
    },
    "id": "cropd2ga-EvM",
    "outputId": "60d8f76f-4be2-4f38-f73c-9d37fcd3efa9"
   },
   "outputs": [
    {
     "name": "stderr",
     "output_type": "stream",
     "text": [
      "/usr/local/lib/python3.7/dist-packages/sklearn/utils/deprecation.py:87: FutureWarning: Function plot_roc_curve is deprecated; This will be removed in v0.5.0. Please use scikitplot.metrics.plot_roc instead.\n",
      "  warnings.warn(msg, category=FutureWarning)\n"
     ]
    },
    {
     "data": {
      "image/png": "[encoded data removed]",
      "text/plain": [
       "<Figure size 432x288 with 1 Axes>"
      ]
     },
     "metadata": {
      "needs_background": "light"
     },
     "output_type": "display_data"
    }
   ],
   "source": [
    "p = prediction[-2].ravel().tolist()\n",
    "probas = np.zeros((len(p), 2))\n",
    "probas[:, 1] = p\n",
    "probas[:, 0] = 1\n",
    "probas[:, 0] = probas[:, 0] - p\n",
    "skplt.metrics.plot_roc_curve(X_test['is_active'].values.ravel().tolist(),\n",
    "                             probas)\n",
    "plt.show()"
   ]
  },
  {
   "cell_type": "code",
   "execution_count": null,
   "metadata": {
    "ExecuteTime": {
     "end_time": "2022-04-12T05:49:01.014876Z",
     "start_time": "2022-04-12T05:49:00.825875Z"
    },
    "colab": {
     "base_uri": "https://localhost:8080/",
     "height": 425
    },
    "id": "LnSdXhk0-FEk",
    "outputId": "b9357a31-3e3a-492f-ad3a-475057eacc63"
   },
   "outputs": [
    {
     "data": {
      "image/png": "[encoded data removed]",
      "text/plain": [
       "<Figure size 640x480 with 1 Axes>"
      ]
     },
     "metadata": {},
     "output_type": "display_data"
    }
   ],
   "source": [
    "plt.hist(prediction[-2].ravel(), bins=32, edgecolor='w', color='k', alpha=0.7);"
   ]
  },
  {
   "cell_type": "code",
   "execution_count": 31,
   "metadata": {
    "colab": {
     "base_uri": "https://localhost:8080/"
    },
    "id": "DoEMgyBMrAbt",
    "outputId": "e82a4bf6-17b3-4c15-a942-26710da5e92a"
   },
   "outputs": [
    {
     "name": "stdout",
     "output_type": "stream",
     "text": [
      "  adding: CNN_basic_with_memory_01-9.88.h5 (deflated 10%)\n",
      "  adding: CNN_basic_with_memory_02-9.46.h5 (deflated 10%)\n",
      "  adding: CNN_basic_with_memory_03-6.90.h5 (deflated 10%)\n",
      "  adding: CNN_basic_with_memory_04-7.39.h5 (deflated 9%)\n",
      "  adding: CNN_basic_with_memory_05-6.19.h5 (deflated 9%)\n",
      "  adding: CNN_basic_with_memory_06-5.71.h5 (deflated 9%)\n",
      "  adding: CNN_basic_with_memory_07-5.47.h5 (deflated 9%)\n",
      "  adding: CNN_basic_with_memory_08-5.33.h5 (deflated 9%)\n",
      "  adding: CNN_basic_with_memory_09-5.21.h5 (deflated 9%)\n",
      "  adding: CNN_basic_with_memory_10-5.50.h5 (deflated 9%)\n",
      "  adding: CNN_basic_with_memory_11-5.35.h5 (deflated 9%)\n",
      "  adding: CNN_basic_with_memory_12-4.97.h5 (deflated 9%)\n",
      "  adding: CNN_basic_with_memory_13-5.23.h5 (deflated 9%)\n",
      "  adding: CNN_basic_with_memory_14-4.91.h5 (deflated 9%)\n",
      "  adding: CNN_basic_with_memory_15-4.78.h5 (deflated 9%)\n",
      "  adding: CNN_basic_with_memory_16-4.80.h5 (deflated 9%)\n",
      "  adding: CNN_basic_with_memory_17-4.72.h5 (deflated 9%)\n",
      "  adding: CNN_basic_with_memory_18-4.78.h5 (deflated 9%)\n",
      "  adding: CNN_basic_with_memory_19-4.78.h5 (deflated 9%)\n",
      "  adding: CNN_basic_with_memory_20-4.68.h5 (deflated 9%)\n",
      "  adding: CNN_basic_with_memory_21-4.59.h5 (deflated 9%)\n",
      "  adding: CNN_basic_with_memory_22-4.63.h5 (deflated 9%)\n",
      "  adding: CNN_basic_with_memory_23-4.48.h5 (deflated 9%)\n",
      "  adding: CNN_basic_with_memory_24-4.59.h5 (deflated 9%)\n",
      "  adding: CNN_basic_with_memory_25-4.46.h5 (deflated 9%)\n",
      "  adding: CNN_basic_with_memory_26-4.56.h5 (deflated 9%)\n",
      "  adding: CNN_basic_with_memory_27-4.43.h5 (deflated 9%)\n",
      "  adding: CNN_basic_with_memory_28-4.55.h5 (deflated 9%)\n",
      "  adding: CNN_basic_with_memory_29-4.46.h5 (deflated 9%)\n",
      "  adding: CNN_basic_with_memory_30-4.49.h5 (deflated 9%)\n",
      "  adding: CNN_basic_with_memory_31-4.42.h5 (deflated 9%)\n",
      "  adding: CNN_basic_with_memory_32-4.33.h5 (deflated 9%)\n",
      "  adding: CNN_basic_with_memory_33-4.38.h5 (deflated 9%)\n",
      "  adding: CNN_basic_with_memory_34-4.41.h5 (deflated 9%)\n",
      "  adding: CNN_basic_with_memory_35-4.33.h5 (deflated 9%)\n",
      "  adding: CNN_basic_with_memory_36-4.40.h5 (deflated 9%)\n",
      "  adding: CNN_basic_with_memory_37-4.21.h5 (deflated 9%)\n",
      "  adding: CNN_basic_with_memory_38-4.31.h5 (deflated 9%)\n",
      "  adding: CNN_basic_with_memory_39-4.39.h5 (deflated 9%)\n",
      "  adding: CNN_basic_with_memory_40-4.37.h5 (deflated 9%)\n",
      "  adding: CNN_basic_with_memory_41-4.42.h5 (deflated 9%)\n",
      "  adding: CNN_basic_with_memory_42-4.28.h5 (deflated 9%)\n",
      "  adding: CNN_basic_with_memory_43-4.38.h5 (deflated 9%)\n",
      "  adding: CNN_basic_with_memory_44-4.22.h5 (deflated 9%)\n",
      "  adding: CNN_basic_with_memory_45-4.42.h5 (deflated 9%)\n",
      "  adding: CNN_basic_with_memory_46-4.21.h5 (deflated 9%)\n",
      "  adding: CNN_basic_with_memory_47-4.20.h5 (deflated 9%)\n",
      "  adding: CNN_basic_with_memory_48-4.24.h5 (deflated 9%)\n",
      "  adding: CNN_basic_with_memory_49-4.26.h5 (deflated 9%)\n",
      "  adding: CNN_basic_with_memory_50-4.20.h5 (deflated 9%)\n"
     ]
    }
   ],
   "source": [
    "!zip data.zip *.h5 -r"
   ]
  }
 ],
 "metadata": {
  "accelerator": "GPU",
  "colab": {
   "collapsed_sections": [],
   "name": "training-on-BindingDB-CNN-with-memory.ipynb",
   "provenance": []
  },
  "kernelspec": {
   "display_name": "Python 3",
   "language": "python",
   "name": "python3"
  },
  "language_info": {
   "codemirror_mode": {
    "name": "ipython",
    "version": 3
   },
   "file_extension": ".py",
   "mimetype": "text/x-python",
   "name": "python",
   "nbconvert_exporter": "python",
   "pygments_lexer": "ipython3",
   "version": "3.8.8"
  },
  "latex_envs": {
   "LaTeX_envs_menu_present": true,
   "autoclose": false,
   "autocomplete": true,
   "bibliofile": "biblio.bib",
   "cite_by": "apalike",
   "current_citInitial": 1,
   "eqLabelWithNumbers": true,
   "eqNumInitial": 1,
   "hotkeys": {
    "equation": "Ctrl-E",
    "itemize": "Ctrl-I"
   },
   "labels_anchors": false,
   "latex_user_defs": false,
   "report_style_numbering": false,
   "user_envs_cfg": false
  },
  "nbTranslate": {
   "displayLangs": [
    "*"
   ],
   "hotkey": "alt-t",
   "langInMainMenu": true,
   "sourceLang": "en",
   "targetLang": "fr",
   "useGoogleTranslate": true
  },
  "toc": {
   "base_numbering": 1,
   "nav_menu": {},
   "number_sections": true,
   "sideBar": true,
   "skip_h1_title": false,
   "title_cell": "Table of Contents",
   "title_sidebar": "Contents",
   "toc_cell": true,
   "toc_position": {},
   "toc_section_display": true,
   "toc_window_display": false
  },
  "widgets": {
   "application/vnd.jupyter.widget-state+json": {
    "043485b65027406eb818edc1f30453bc": {
     "model_module": "@jupyter-widgets/controls",
     "model_module_version": "1.5.0",
     "model_name": "HBoxModel",
     "state": {
      "_dom_classes": [],
      "_model_module": "@jupyter-widgets/controls",
      "_model_module_version": "1.5.0",
      "_model_name": "HBoxModel",
      "_view_count": null,
      "_view_module": "@jupyter-widgets/controls",
      "_view_module_version": "1.5.0",
      "_view_name": "HBoxView",
      "box_style": "",
      "children": [
       "IPY_MODEL_211f802a01c9497ca01b060f9ea2eaf1",
       "IPY_MODEL_1732871292ae4f72a8ee02cf2507843e",
       "IPY_MODEL_493c283081f34c9087054ea7e37cbd60"
      ],
      "layout": "IPY_MODEL_7ed12a85ed674c47af1282a908a165ac"
     }
    },
    "07e612eed3dd47bf9fbbe8053f1b7752": {
     "model_module": "@jupyter-widgets/controls",
     "model_module_version": "1.5.0",
     "model_name": "DescriptionStyleModel",
     "state": {
      "_model_module": "@jupyter-widgets/controls",
      "_model_module_version": "1.5.0",
      "_model_name": "DescriptionStyleModel",
      "_view_count": null,
      "_view_module": "@jupyter-widgets/base",
      "_view_module_version": "1.2.0",
      "_view_name": "StyleView",
      "description_width": ""
     }
    },
    "08abd662185143f89da9f9bf3fef2511": {
     "model_module": "@jupyter-widgets/base",
     "model_module_version": "1.2.0",
     "model_name": "LayoutModel",
     "state": {
      "_model_module": "@jupyter-widgets/base",
      "_model_module_version": "1.2.0",
      "_model_name": "LayoutModel",
      "_view_count": null,
      "_view_module": "@jupyter-widgets/base",
      "_view_module_version": "1.2.0",
      "_view_name": "LayoutView",
      "align_content": null,
      "align_items": null,
      "align_self": null,
      "border": null,
      "bottom": null,
      "display": null,
      "flex": null,
      "flex_flow": null,
      "grid_area": null,
      "grid_auto_columns": null,
      "grid_auto_flow": null,
      "grid_auto_rows": null,
      "grid_column": null,
      "grid_gap": null,
      "grid_row": null,
      "grid_template_areas": null,
      "grid_template_columns": null,
      "grid_template_rows": null,
      "height": null,
      "justify_content": null,
      "justify_items": null,
      "left": null,
      "margin": null,
      "max_height": null,
      "max_width": null,
      "min_height": null,
      "min_width": null,
      "object_fit": null,
      "object_position": null,
      "order": null,
      "overflow": null,
      "overflow_x": null,
      "overflow_y": null,
      "padding": null,
      "right": null,
      "top": null,
      "visibility": null,
      "width": null
     }
    },
    "0a1f1b1a2de94c89b8bec693a1389ba2": {
     "model_module": "@jupyter-widgets/controls",
     "model_module_version": "1.5.0",
     "model_name": "HTMLModel",
     "state": {
      "_dom_classes": [],
      "_model_module": "@jupyter-widgets/controls",
      "_model_module_version": "1.5.0",
      "_model_name": "HTMLModel",
      "_view_count": null,
      "_view_module": "@jupyter-widgets/controls",
      "_view_module_version": "1.5.0",
      "_view_name": "HTMLView",
      "description": "",
      "description_tooltip": null,
      "layout": "IPY_MODEL_c0c9fd436d0a4c4a98a42472134ccec1",
      "placeholder": "​",
      "style": "IPY_MODEL_1025503cdb114a4eb1c3443d3e6522c7",
      "value": "100%"
     }
    },
    "0a9d2f4a12b746f58c49e04b16d1ac52": {
     "model_module": "@jupyter-widgets/controls",
     "model_module_version": "1.5.0",
     "model_name": "ProgressStyleModel",
     "state": {
      "_model_module": "@jupyter-widgets/controls",
      "_model_module_version": "1.5.0",
      "_model_name": "ProgressStyleModel",
      "_view_count": null,
      "_view_module": "@jupyter-widgets/base",
      "_view_module_version": "1.2.0",
      "_view_name": "StyleView",
      "bar_color": null,
      "description_width": ""
     }
    },
    "0d48e364bf3e4e95b5673d9aa0974100": {
     "model_module": "@jupyter-widgets/controls",
     "model_module_version": "1.5.0",
     "model_name": "DescriptionStyleModel",
     "state": {
      "_model_module": "@jupyter-widgets/controls",
      "_model_module_version": "1.5.0",
      "_model_name": "DescriptionStyleModel",
      "_view_count": null,
      "_view_module": "@jupyter-widgets/base",
      "_view_module_version": "1.2.0",
      "_view_name": "StyleView",
      "description_width": ""
     }
    },
    "1025503cdb114a4eb1c3443d3e6522c7": {
     "model_module": "@jupyter-widgets/controls",
     "model_module_version": "1.5.0",
     "model_name": "DescriptionStyleModel",
     "state": {
      "_model_module": "@jupyter-widgets/controls",
      "_model_module_version": "1.5.0",
      "_model_name": "DescriptionStyleModel",
      "_view_count": null,
      "_view_module": "@jupyter-widgets/base",
      "_view_module_version": "1.2.0",
      "_view_name": "StyleView",
      "description_width": ""
     }
    },
    "112433a0cc604458a32c00c541e3ac60": {
     "model_module": "@jupyter-widgets/controls",
     "model_module_version": "1.5.0",
     "model_name": "HTMLModel",
     "state": {
      "_dom_classes": [],
      "_model_module": "@jupyter-widgets/controls",
      "_model_module_version": "1.5.0",
      "_model_name": "HTMLModel",
      "_view_count": null,
      "_view_module": "@jupyter-widgets/controls",
      "_view_module_version": "1.5.0",
      "_view_name": "HTMLView",
      "description": "",
      "description_tooltip": null,
      "layout": "IPY_MODEL_156790ee47784da0b85557980217d960",
      "placeholder": "​",
      "style": "IPY_MODEL_07e612eed3dd47bf9fbbe8053f1b7752",
      "value": " 716/716 [05:23&lt;00:00, 2.24batch/s, loss=4.13, Kd_loss=0.136, Ki_loss=0.962, IC50_loss=2.31, EC50_loss=0.328, IA_loss=0.375, pH_loss=0.0168, IA_auc=0.909]"
     }
    },
    "149745edeb31456abaef31673f5606c7": {
     "model_module": "@jupyter-widgets/controls",
     "model_module_version": "1.5.0",
     "model_name": "HBoxModel",
     "state": {
      "_dom_classes": [],
      "_model_module": "@jupyter-widgets/controls",
      "_model_module_version": "1.5.0",
      "_model_name": "HBoxModel",
      "_view_count": null,
      "_view_module": "@jupyter-widgets/controls",
      "_view_module_version": "1.5.0",
      "_view_name": "HBoxView",
      "box_style": "",
      "children": [
       "IPY_MODEL_0a1f1b1a2de94c89b8bec693a1389ba2",
       "IPY_MODEL_3fdd379e80c5479dbede3d23367c3bae",
       "IPY_MODEL_eba043f3e7b64a51a30c35d2dff4a310"
      ],
      "layout": "IPY_MODEL_e7256026207e4d8cb37b2e46af45b7c1"
     }
    },
    "156790ee47784da0b85557980217d960": {
     "model_module": "@jupyter-widgets/base",
     "model_module_version": "1.2.0",
     "model_name": "LayoutModel",
     "state": {
      "_model_module": "@jupyter-widgets/base",
      "_model_module_version": "1.2.0",
      "_model_name": "LayoutModel",
      "_view_count": null,
      "_view_module": "@jupyter-widgets/base",
      "_view_module_version": "1.2.0",
      "_view_name": "LayoutView",
      "align_content": null,
      "align_items": null,
      "align_self": null,
      "border": null,
      "bottom": null,
      "display": null,
      "flex": null,
      "flex_flow": null,
      "grid_area": null,
      "grid_auto_columns": null,
      "grid_auto_flow": null,
      "grid_auto_rows": null,
      "grid_column": null,
      "grid_gap": null,
      "grid_row": null,
      "grid_template_areas": null,
      "grid_template_columns": null,
      "grid_template_rows": null,
      "height": null,
      "justify_content": null,
      "justify_items": null,
      "left": null,
      "margin": null,
      "max_height": null,
      "max_width": null,
      "min_height": null,
      "min_width": null,
      "object_fit": null,
      "object_position": null,
      "order": null,
      "overflow": null,
      "overflow_x": null,
      "overflow_y": null,
      "padding": null,
      "right": null,
      "top": null,
      "visibility": null,
      "width": null
     }
    },
    "1732871292ae4f72a8ee02cf2507843e": {
     "model_module": "@jupyter-widgets/controls",
     "model_module_version": "1.5.0",
     "model_name": "FloatProgressModel",
     "state": {
      "_dom_classes": [],
      "_model_module": "@jupyter-widgets/controls",
      "_model_module_version": "1.5.0",
      "_model_name": "FloatProgressModel",
      "_view_count": null,
      "_view_module": "@jupyter-widgets/controls",
      "_view_module_version": "1.5.0",
      "_view_name": "ProgressView",
      "bar_style": "success",
      "description": "",
      "description_tooltip": null,
      "layout": "IPY_MODEL_75e3adfdcbb149c7873eb38be92cbc47",
      "max": 50,
      "min": 0,
      "orientation": "horizontal",
      "style": "IPY_MODEL_0a9d2f4a12b746f58c49e04b16d1ac52",
      "value": 50
     }
    },
    "1db48340efcb4a61a82672c3a542498a": {
     "model_module": "@jupyter-widgets/controls",
     "model_module_version": "1.5.0",
     "model_name": "HTMLModel",
     "state": {
      "_dom_classes": [],
      "_model_module": "@jupyter-widgets/controls",
      "_model_module_version": "1.5.0",
      "_model_name": "HTMLModel",
      "_view_count": null,
      "_view_module": "@jupyter-widgets/controls",
      "_view_module_version": "1.5.0",
      "_view_name": "HTMLView",
      "description": "",
      "description_tooltip": null,
      "layout": "IPY_MODEL_08abd662185143f89da9f9bf3fef2511",
      "placeholder": "​",
      "style": "IPY_MODEL_2b2074bd630240cd9f2eda0ce38f147e",
      "value": "100%"
     }
    },
    "211f802a01c9497ca01b060f9ea2eaf1": {
     "model_module": "@jupyter-widgets/controls",
     "model_module_version": "1.5.0",
     "model_name": "HTMLModel",
     "state": {
      "_dom_classes": [],
      "_model_module": "@jupyter-widgets/controls",
      "_model_module_version": "1.5.0",
      "_model_name": "HTMLModel",
      "_view_count": null,
      "_view_module": "@jupyter-widgets/controls",
      "_view_module_version": "1.5.0",
      "_view_name": "HTMLView",
      "description": "",
      "description_tooltip": null,
      "layout": "IPY_MODEL_3f97784850324470a4510484b94b191f",
      "placeholder": "​",
      "style": "IPY_MODEL_0d48e364bf3e4e95b5673d9aa0974100",
      "value": "100%"
     }
    },
    "2825f87870a94b1c8060945a006a4c78": {
     "model_module": "@jupyter-widgets/controls",
     "model_module_version": "1.5.0",
     "model_name": "DescriptionStyleModel",
     "state": {
      "_model_module": "@jupyter-widgets/controls",
      "_model_module_version": "1.5.0",
      "_model_name": "DescriptionStyleModel",
      "_view_count": null,
      "_view_module": "@jupyter-widgets/base",
      "_view_module_version": "1.2.0",
      "_view_name": "StyleView",
      "description_width": ""
     }
    },
    "2b2074bd630240cd9f2eda0ce38f147e": {
     "model_module": "@jupyter-widgets/controls",
     "model_module_version": "1.5.0",
     "model_name": "DescriptionStyleModel",
     "state": {
      "_model_module": "@jupyter-widgets/controls",
      "_model_module_version": "1.5.0",
      "_model_name": "DescriptionStyleModel",
      "_view_count": null,
      "_view_module": "@jupyter-widgets/base",
      "_view_module_version": "1.2.0",
      "_view_name": "StyleView",
      "description_width": ""
     }
    },
    "2d26a4c295454845b04965e330ddcb49": {
     "model_module": "@jupyter-widgets/base",
     "model_module_version": "1.2.0",
     "model_name": "LayoutModel",
     "state": {
      "_model_module": "@jupyter-widgets/base",
      "_model_module_version": "1.2.0",
      "_model_name": "LayoutModel",
      "_view_count": null,
      "_view_module": "@jupyter-widgets/base",
      "_view_module_version": "1.2.0",
      "_view_name": "LayoutView",
      "align_content": null,
      "align_items": null,
      "align_self": null,
      "border": null,
      "bottom": null,
      "display": null,
      "flex": null,
      "flex_flow": null,
      "grid_area": null,
      "grid_auto_columns": null,
      "grid_auto_flow": null,
      "grid_auto_rows": null,
      "grid_column": null,
      "grid_gap": null,
      "grid_row": null,
      "grid_template_areas": null,
      "grid_template_columns": null,
      "grid_template_rows": null,
      "height": null,
      "justify_content": null,
      "justify_items": null,
      "left": null,
      "margin": null,
      "max_height": null,
      "max_width": null,
      "min_height": null,
      "min_width": null,
      "object_fit": null,
      "object_position": null,
      "order": null,
      "overflow": null,
      "overflow_x": null,
      "overflow_y": null,
      "padding": null,
      "right": null,
      "top": null,
      "visibility": null,
      "width": null
     }
    },
    "35eee7e6d9604fee9de39784380d718e": {
     "model_module": "@jupyter-widgets/base",
     "model_module_version": "1.2.0",
     "model_name": "LayoutModel",
     "state": {
      "_model_module": "@jupyter-widgets/base",
      "_model_module_version": "1.2.0",
      "_model_name": "LayoutModel",
      "_view_count": null,
      "_view_module": "@jupyter-widgets/base",
      "_view_module_version": "1.2.0",
      "_view_name": "LayoutView",
      "align_content": null,
      "align_items": null,
      "align_self": null,
      "border": null,
      "bottom": null,
      "display": null,
      "flex": null,
      "flex_flow": null,
      "grid_area": null,
      "grid_auto_columns": null,
      "grid_auto_flow": null,
      "grid_auto_rows": null,
      "grid_column": null,
      "grid_gap": null,
      "grid_row": null,
      "grid_template_areas": null,
      "grid_template_columns": null,
      "grid_template_rows": null,
      "height": null,
      "justify_content": null,
      "justify_items": null,
      "left": null,
      "margin": null,
      "max_height": null,
      "max_width": null,
      "min_height": null,
      "min_width": null,
      "object_fit": null,
      "object_position": null,
      "order": null,
      "overflow": null,
      "overflow_x": null,
      "overflow_y": null,
      "padding": null,
      "right": null,
      "top": null,
      "visibility": null,
      "width": null
     }
    },
    "3f97784850324470a4510484b94b191f": {
     "model_module": "@jupyter-widgets/base",
     "model_module_version": "1.2.0",
     "model_name": "LayoutModel",
     "state": {
      "_model_module": "@jupyter-widgets/base",
      "_model_module_version": "1.2.0",
      "_model_name": "LayoutModel",
      "_view_count": null,
      "_view_module": "@jupyter-widgets/base",
      "_view_module_version": "1.2.0",
      "_view_name": "LayoutView",
      "align_content": null,
      "align_items": null,
      "align_self": null,
      "border": null,
      "bottom": null,
      "display": null,
      "flex": null,
      "flex_flow": null,
      "grid_area": null,
      "grid_auto_columns": null,
      "grid_auto_flow": null,
      "grid_auto_rows": null,
      "grid_column": null,
      "grid_gap": null,
      "grid_row": null,
      "grid_template_areas": null,
      "grid_template_columns": null,
      "grid_template_rows": null,
      "height": null,
      "justify_content": null,
      "justify_items": null,
      "left": null,
      "margin": null,
      "max_height": null,
      "max_width": null,
      "min_height": null,
      "min_width": null,
      "object_fit": null,
      "object_position": null,
      "order": null,
      "overflow": null,
      "overflow_x": null,
      "overflow_y": null,
      "padding": null,
      "right": null,
      "top": null,
      "visibility": null,
      "width": null
     }
    },
    "3fdd379e80c5479dbede3d23367c3bae": {
     "model_module": "@jupyter-widgets/controls",
     "model_module_version": "1.5.0",
     "model_name": "FloatProgressModel",
     "state": {
      "_dom_classes": [],
      "_model_module": "@jupyter-widgets/controls",
      "_model_module_version": "1.5.0",
      "_model_name": "FloatProgressModel",
      "_view_count": null,
      "_view_module": "@jupyter-widgets/controls",
      "_view_module_version": "1.5.0",
      "_view_name": "ProgressView",
      "bar_style": "success",
      "description": "",
      "description_tooltip": null,
      "layout": "IPY_MODEL_35eee7e6d9604fee9de39784380d718e",
      "max": 1902,
      "min": 0,
      "orientation": "horizontal",
      "style": "IPY_MODEL_c16d04635c6f4e9192c2c992ffdd3ab8",
      "value": 1902
     }
    },
    "415da6e7e1454dcfaad83d5b5651a6b3": {
     "model_module": "@jupyter-widgets/controls",
     "model_module_version": "1.5.0",
     "model_name": "HBoxModel",
     "state": {
      "_dom_classes": [],
      "_model_module": "@jupyter-widgets/controls",
      "_model_module_version": "1.5.0",
      "_model_name": "HBoxModel",
      "_view_count": null,
      "_view_module": "@jupyter-widgets/controls",
      "_view_module_version": "1.5.0",
      "_view_name": "HBoxView",
      "box_style": "",
      "children": [
       "IPY_MODEL_1db48340efcb4a61a82672c3a542498a",
       "IPY_MODEL_d98765fa55eb4ad9bb6ab73631bb9631",
       "IPY_MODEL_ce935596b29b4abcad74cb7e09a33e00"
      ],
      "layout": "IPY_MODEL_dea41680c43b4c92a022c01d76577e9d"
     }
    },
    "493c283081f34c9087054ea7e37cbd60": {
     "model_module": "@jupyter-widgets/controls",
     "model_module_version": "1.5.0",
     "model_name": "HTMLModel",
     "state": {
      "_dom_classes": [],
      "_model_module": "@jupyter-widgets/controls",
      "_model_module_version": "1.5.0",
      "_model_name": "HTMLModel",
      "_view_count": null,
      "_view_module": "@jupyter-widgets/controls",
      "_view_module_version": "1.5.0",
      "_view_name": "HTMLView",
      "description": "",
      "description_tooltip": null,
      "layout": "IPY_MODEL_74ebf01b53a54b2b81c272c96529786b",
      "placeholder": "​",
      "style": "IPY_MODEL_2825f87870a94b1c8060945a006a4c78",
      "value": " 50/50 [4:53:07&lt;00:00, 349.22s/epoch, loss=4.13, Kd_loss=0.136, Ki_loss=0.962, IC50_loss=2.31, EC50_loss=0.328, IA_loss=0.375, pH_loss=0.0168, IA_auc=0.909, val_loss=4.2, val_Kd_loss=0.15, val_Ki_loss=0.958, val_IC50_loss=2.38, val_EC50_loss=0.322, val_IA_loss=0.381, val_pH_loss=0.0125, val_IA_auc=0.912]"
     }
    },
    "4c4adba52dff40f496ffd7468a9da7d2": {
     "model_module": "@jupyter-widgets/controls",
     "model_module_version": "1.5.0",
     "model_name": "FloatProgressModel",
     "state": {
      "_dom_classes": [],
      "_model_module": "@jupyter-widgets/controls",
      "_model_module_version": "1.5.0",
      "_model_name": "FloatProgressModel",
      "_view_count": null,
      "_view_module": "@jupyter-widgets/controls",
      "_view_module_version": "1.5.0",
      "_view_name": "ProgressView",
      "bar_style": "",
      "description": "",
      "description_tooltip": null,
      "layout": "IPY_MODEL_e1badb9cf2984e4db2db0de8d6cd3a49",
      "max": 716,
      "min": 0,
      "orientation": "horizontal",
      "style": "IPY_MODEL_ebc5b433984748b2b9d3a5ce882e2a4c",
      "value": 716
     }
    },
    "58d38dd270ff42b597df46f665cf5feb": {
     "model_module": "@jupyter-widgets/controls",
     "model_module_version": "1.5.0",
     "model_name": "ProgressStyleModel",
     "state": {
      "_model_module": "@jupyter-widgets/controls",
      "_model_module_version": "1.5.0",
      "_model_name": "ProgressStyleModel",
      "_view_count": null,
      "_view_module": "@jupyter-widgets/base",
      "_view_module_version": "1.2.0",
      "_view_name": "StyleView",
      "bar_color": null,
      "description_width": ""
     }
    },
    "74ebf01b53a54b2b81c272c96529786b": {
     "model_module": "@jupyter-widgets/base",
     "model_module_version": "1.2.0",
     "model_name": "LayoutModel",
     "state": {
      "_model_module": "@jupyter-widgets/base",
      "_model_module_version": "1.2.0",
      "_model_name": "LayoutModel",
      "_view_count": null,
      "_view_module": "@jupyter-widgets/base",
      "_view_module_version": "1.2.0",
      "_view_name": "LayoutView",
      "align_content": null,
      "align_items": null,
      "align_self": null,
      "border": null,
      "bottom": null,
      "display": null,
      "flex": null,
      "flex_flow": null,
      "grid_area": null,
      "grid_auto_columns": null,
      "grid_auto_flow": null,
      "grid_auto_rows": null,
      "grid_column": null,
      "grid_gap": null,
      "grid_row": null,
      "grid_template_areas": null,
      "grid_template_columns": null,
      "grid_template_rows": null,
      "height": null,
      "justify_content": null,
      "justify_items": null,
      "left": null,
      "margin": null,
      "max_height": null,
      "max_width": null,
      "min_height": null,
      "min_width": null,
      "object_fit": null,
      "object_position": null,
      "order": null,
      "overflow": null,
      "overflow_x": null,
      "overflow_y": null,
      "padding": null,
      "right": null,
      "top": null,
      "visibility": null,
      "width": null
     }
    },
    "75e3adfdcbb149c7873eb38be92cbc47": {
     "model_module": "@jupyter-widgets/base",
     "model_module_version": "1.2.0",
     "model_name": "LayoutModel",
     "state": {
      "_model_module": "@jupyter-widgets/base",
      "_model_module_version": "1.2.0",
      "_model_name": "LayoutModel",
      "_view_count": null,
      "_view_module": "@jupyter-widgets/base",
      "_view_module_version": "1.2.0",
      "_view_name": "LayoutView",
      "align_content": null,
      "align_items": null,
      "align_self": null,
      "border": null,
      "bottom": null,
      "display": null,
      "flex": null,
      "flex_flow": null,
      "grid_area": null,
      "grid_auto_columns": null,
      "grid_auto_flow": null,
      "grid_auto_rows": null,
      "grid_column": null,
      "grid_gap": null,
      "grid_row": null,
      "grid_template_areas": null,
      "grid_template_columns": null,
      "grid_template_rows": null,
      "height": null,
      "justify_content": null,
      "justify_items": null,
      "left": null,
      "margin": null,
      "max_height": null,
      "max_width": null,
      "min_height": null,
      "min_width": null,
      "object_fit": null,
      "object_position": null,
      "order": null,
      "overflow": null,
      "overflow_x": null,
      "overflow_y": null,
      "padding": null,
      "right": null,
      "top": null,
      "visibility": null,
      "width": null
     }
    },
    "7ed12a85ed674c47af1282a908a165ac": {
     "model_module": "@jupyter-widgets/base",
     "model_module_version": "1.2.0",
     "model_name": "LayoutModel",
     "state": {
      "_model_module": "@jupyter-widgets/base",
      "_model_module_version": "1.2.0",
      "_model_name": "LayoutModel",
      "_view_count": null,
      "_view_module": "@jupyter-widgets/base",
      "_view_module_version": "1.2.0",
      "_view_name": "LayoutView",
      "align_content": null,
      "align_items": null,
      "align_self": null,
      "border": null,
      "bottom": null,
      "display": null,
      "flex": null,
      "flex_flow": null,
      "grid_area": null,
      "grid_auto_columns": null,
      "grid_auto_flow": null,
      "grid_auto_rows": null,
      "grid_column": null,
      "grid_gap": null,
      "grid_row": null,
      "grid_template_areas": null,
      "grid_template_columns": null,
      "grid_template_rows": null,
      "height": null,
      "justify_content": null,
      "justify_items": null,
      "left": null,
      "margin": null,
      "max_height": null,
      "max_width": null,
      "min_height": null,
      "min_width": null,
      "object_fit": null,
      "object_position": null,
      "order": null,
      "overflow": null,
      "overflow_x": null,
      "overflow_y": null,
      "padding": null,
      "right": null,
      "top": null,
      "visibility": null,
      "width": null
     }
    },
    "9a7652fd49a04b2fba24fd7899e6de7d": {
     "model_module": "@jupyter-widgets/controls",
     "model_module_version": "1.5.0",
     "model_name": "DescriptionStyleModel",
     "state": {
      "_model_module": "@jupyter-widgets/controls",
      "_model_module_version": "1.5.0",
      "_model_name": "DescriptionStyleModel",
      "_view_count": null,
      "_view_module": "@jupyter-widgets/base",
      "_view_module_version": "1.2.0",
      "_view_name": "StyleView",
      "description_width": ""
     }
    },
    "a66a01f179d54f8da390294ef1db6cc3": {
     "model_module": "@jupyter-widgets/controls",
     "model_module_version": "1.5.0",
     "model_name": "HBoxModel",
     "state": {
      "_dom_classes": [],
      "_model_module": "@jupyter-widgets/controls",
      "_model_module_version": "1.5.0",
      "_model_name": "HBoxModel",
      "_view_count": null,
      "_view_module": "@jupyter-widgets/controls",
      "_view_module_version": "1.5.0",
      "_view_name": "HBoxView",
      "box_style": "",
      "children": [
       "IPY_MODEL_bb9a3118e9704a938fb370f9ca11b2b5",
       "IPY_MODEL_4c4adba52dff40f496ffd7468a9da7d2",
       "IPY_MODEL_112433a0cc604458a32c00c541e3ac60"
      ],
      "layout": "IPY_MODEL_f350a58bf7754e8f8b8bc3cd114a4684"
     }
    },
    "a86fa7f46bd14b28bc35947fb1cfb704": {
     "model_module": "@jupyter-widgets/controls",
     "model_module_version": "1.5.0",
     "model_name": "DescriptionStyleModel",
     "state": {
      "_model_module": "@jupyter-widgets/controls",
      "_model_module_version": "1.5.0",
      "_model_name": "DescriptionStyleModel",
      "_view_count": null,
      "_view_module": "@jupyter-widgets/base",
      "_view_module_version": "1.2.0",
      "_view_name": "StyleView",
      "description_width": ""
     }
    },
    "bb9a3118e9704a938fb370f9ca11b2b5": {
     "model_module": "@jupyter-widgets/controls",
     "model_module_version": "1.5.0",
     "model_name": "HTMLModel",
     "state": {
      "_dom_classes": [],
      "_model_module": "@jupyter-widgets/controls",
      "_model_module_version": "1.5.0",
      "_model_name": "HTMLModel",
      "_view_count": null,
      "_view_module": "@jupyter-widgets/controls",
      "_view_module_version": "1.5.0",
      "_view_name": "HTMLView",
      "description": "",
      "description_tooltip": null,
      "layout": "IPY_MODEL_f7270e93b6fd42448071f24cba058ff8",
      "placeholder": "​",
      "style": "IPY_MODEL_a86fa7f46bd14b28bc35947fb1cfb704",
      "value": "100%"
     }
    },
    "c0c9fd436d0a4c4a98a42472134ccec1": {
     "model_module": "@jupyter-widgets/base",
     "model_module_version": "1.2.0",
     "model_name": "LayoutModel",
     "state": {
      "_model_module": "@jupyter-widgets/base",
      "_model_module_version": "1.2.0",
      "_model_name": "LayoutModel",
      "_view_count": null,
      "_view_module": "@jupyter-widgets/base",
      "_view_module_version": "1.2.0",
      "_view_name": "LayoutView",
      "align_content": null,
      "align_items": null,
      "align_self": null,
      "border": null,
      "bottom": null,
      "display": null,
      "flex": null,
      "flex_flow": null,
      "grid_area": null,
      "grid_auto_columns": null,
      "grid_auto_flow": null,
      "grid_auto_rows": null,
      "grid_column": null,
      "grid_gap": null,
      "grid_row": null,
      "grid_template_areas": null,
      "grid_template_columns": null,
      "grid_template_rows": null,
      "height": null,
      "justify_content": null,
      "justify_items": null,
      "left": null,
      "margin": null,
      "max_height": null,
      "max_width": null,
      "min_height": null,
      "min_width": null,
      "object_fit": null,
      "object_position": null,
      "order": null,
      "overflow": null,
      "overflow_x": null,
      "overflow_y": null,
      "padding": null,
      "right": null,
      "top": null,
      "visibility": null,
      "width": null
     }
    },
    "c16d04635c6f4e9192c2c992ffdd3ab8": {
     "model_module": "@jupyter-widgets/controls",
     "model_module_version": "1.5.0",
     "model_name": "ProgressStyleModel",
     "state": {
      "_model_module": "@jupyter-widgets/controls",
      "_model_module_version": "1.5.0",
      "_model_name": "ProgressStyleModel",
      "_view_count": null,
      "_view_module": "@jupyter-widgets/base",
      "_view_module_version": "1.2.0",
      "_view_name": "StyleView",
      "bar_color": null,
      "description_width": ""
     }
    },
    "ca391d03802147c7a81533cfaf29a26e": {
     "model_module": "@jupyter-widgets/controls",
     "model_module_version": "1.5.0",
     "model_name": "DescriptionStyleModel",
     "state": {
      "_model_module": "@jupyter-widgets/controls",
      "_model_module_version": "1.5.0",
      "_model_name": "DescriptionStyleModel",
      "_view_count": null,
      "_view_module": "@jupyter-widgets/base",
      "_view_module_version": "1.2.0",
      "_view_name": "StyleView",
      "description_width": ""
     }
    },
    "ce935596b29b4abcad74cb7e09a33e00": {
     "model_module": "@jupyter-widgets/controls",
     "model_module_version": "1.5.0",
     "model_name": "HTMLModel",
     "state": {
      "_dom_classes": [],
      "_model_module": "@jupyter-widgets/controls",
      "_model_module_version": "1.5.0",
      "_model_name": "HTMLModel",
      "_view_count": null,
      "_view_module": "@jupyter-widgets/controls",
      "_view_module_version": "1.5.0",
      "_view_name": "HTMLView",
      "description": "",
      "description_tooltip": null,
      "layout": "IPY_MODEL_2d26a4c295454845b04965e330ddcb49",
      "placeholder": "​",
      "style": "IPY_MODEL_ca391d03802147c7a81533cfaf29a26e",
      "value": " 574406/574406 [00:05&lt;00:00, 148951.67it/s]"
     }
    },
    "d98765fa55eb4ad9bb6ab73631bb9631": {
     "model_module": "@jupyter-widgets/controls",
     "model_module_version": "1.5.0",
     "model_name": "FloatProgressModel",
     "state": {
      "_dom_classes": [],
      "_model_module": "@jupyter-widgets/controls",
      "_model_module_version": "1.5.0",
      "_model_name": "FloatProgressModel",
      "_view_count": null,
      "_view_module": "@jupyter-widgets/controls",
      "_view_module_version": "1.5.0",
      "_view_name": "ProgressView",
      "bar_style": "success",
      "description": "",
      "description_tooltip": null,
      "layout": "IPY_MODEL_d98d5e8fe59543f6b5f3823c78f1ea25",
      "max": 574406,
      "min": 0,
      "orientation": "horizontal",
      "style": "IPY_MODEL_58d38dd270ff42b597df46f665cf5feb",
      "value": 574406
     }
    },
    "d98d5e8fe59543f6b5f3823c78f1ea25": {
     "model_module": "@jupyter-widgets/base",
     "model_module_version": "1.2.0",
     "model_name": "LayoutModel",
     "state": {
      "_model_module": "@jupyter-widgets/base",
      "_model_module_version": "1.2.0",
      "_model_name": "LayoutModel",
      "_view_count": null,
      "_view_module": "@jupyter-widgets/base",
      "_view_module_version": "1.2.0",
      "_view_name": "LayoutView",
      "align_content": null,
      "align_items": null,
      "align_self": null,
      "border": null,
      "bottom": null,
      "display": null,
      "flex": null,
      "flex_flow": null,
      "grid_area": null,
      "grid_auto_columns": null,
      "grid_auto_flow": null,
      "grid_auto_rows": null,
      "grid_column": null,
      "grid_gap": null,
      "grid_row": null,
      "grid_template_areas": null,
      "grid_template_columns": null,
      "grid_template_rows": null,
      "height": null,
      "justify_content": null,
      "justify_items": null,
      "left": null,
      "margin": null,
      "max_height": null,
      "max_width": null,
      "min_height": null,
      "min_width": null,
      "object_fit": null,
      "object_position": null,
      "order": null,
      "overflow": null,
      "overflow_x": null,
      "overflow_y": null,
      "padding": null,
      "right": null,
      "top": null,
      "visibility": null,
      "width": null
     }
    },
    "dea41680c43b4c92a022c01d76577e9d": {
     "model_module": "@jupyter-widgets/base",
     "model_module_version": "1.2.0",
     "model_name": "LayoutModel",
     "state": {
      "_model_module": "@jupyter-widgets/base",
      "_model_module_version": "1.2.0",
      "_model_name": "LayoutModel",
      "_view_count": null,
      "_view_module": "@jupyter-widgets/base",
      "_view_module_version": "1.2.0",
      "_view_name": "LayoutView",
      "align_content": null,
      "align_items": null,
      "align_self": null,
      "border": null,
      "bottom": null,
      "display": null,
      "flex": null,
      "flex_flow": null,
      "grid_area": null,
      "grid_auto_columns": null,
      "grid_auto_flow": null,
      "grid_auto_rows": null,
      "grid_column": null,
      "grid_gap": null,
      "grid_row": null,
      "grid_template_areas": null,
      "grid_template_columns": null,
      "grid_template_rows": null,
      "height": null,
      "justify_content": null,
      "justify_items": null,
      "left": null,
      "margin": null,
      "max_height": null,
      "max_width": null,
      "min_height": null,
      "min_width": null,
      "object_fit": null,
      "object_position": null,
      "order": null,
      "overflow": null,
      "overflow_x": null,
      "overflow_y": null,
      "padding": null,
      "right": null,
      "top": null,
      "visibility": null,
      "width": null
     }
    },
    "e1badb9cf2984e4db2db0de8d6cd3a49": {
     "model_module": "@jupyter-widgets/base",
     "model_module_version": "1.2.0",
     "model_name": "LayoutModel",
     "state": {
      "_model_module": "@jupyter-widgets/base",
      "_model_module_version": "1.2.0",
      "_model_name": "LayoutModel",
      "_view_count": null,
      "_view_module": "@jupyter-widgets/base",
      "_view_module_version": "1.2.0",
      "_view_name": "LayoutView",
      "align_content": null,
      "align_items": null,
      "align_self": null,
      "border": null,
      "bottom": null,
      "display": null,
      "flex": null,
      "flex_flow": null,
      "grid_area": null,
      "grid_auto_columns": null,
      "grid_auto_flow": null,
      "grid_auto_rows": null,
      "grid_column": null,
      "grid_gap": null,
      "grid_row": null,
      "grid_template_areas": null,
      "grid_template_columns": null,
      "grid_template_rows": null,
      "height": null,
      "justify_content": null,
      "justify_items": null,
      "left": null,
      "margin": null,
      "max_height": null,
      "max_width": null,
      "min_height": null,
      "min_width": null,
      "object_fit": null,
      "object_position": null,
      "order": null,
      "overflow": null,
      "overflow_x": null,
      "overflow_y": null,
      "padding": null,
      "right": null,
      "top": null,
      "visibility": null,
      "width": null
     }
    },
    "e3c1bb16c0c44bd0a558ecce23aded23": {
     "model_module": "@jupyter-widgets/base",
     "model_module_version": "1.2.0",
     "model_name": "LayoutModel",
     "state": {
      "_model_module": "@jupyter-widgets/base",
      "_model_module_version": "1.2.0",
      "_model_name": "LayoutModel",
      "_view_count": null,
      "_view_module": "@jupyter-widgets/base",
      "_view_module_version": "1.2.0",
      "_view_name": "LayoutView",
      "align_content": null,
      "align_items": null,
      "align_self": null,
      "border": null,
      "bottom": null,
      "display": null,
      "flex": null,
      "flex_flow": null,
      "grid_area": null,
      "grid_auto_columns": null,
      "grid_auto_flow": null,
      "grid_auto_rows": null,
      "grid_column": null,
      "grid_gap": null,
      "grid_row": null,
      "grid_template_areas": null,
      "grid_template_columns": null,
      "grid_template_rows": null,
      "height": null,
      "justify_content": null,
      "justify_items": null,
      "left": null,
      "margin": null,
      "max_height": null,
      "max_width": null,
      "min_height": null,
      "min_width": null,
      "object_fit": null,
      "object_position": null,
      "order": null,
      "overflow": null,
      "overflow_x": null,
      "overflow_y": null,
      "padding": null,
      "right": null,
      "top": null,
      "visibility": null,
      "width": null
     }
    },
    "e7256026207e4d8cb37b2e46af45b7c1": {
     "model_module": "@jupyter-widgets/base",
     "model_module_version": "1.2.0",
     "model_name": "LayoutModel",
     "state": {
      "_model_module": "@jupyter-widgets/base",
      "_model_module_version": "1.2.0",
      "_model_name": "LayoutModel",
      "_view_count": null,
      "_view_module": "@jupyter-widgets/base",
      "_view_module_version": "1.2.0",
      "_view_name": "LayoutView",
      "align_content": null,
      "align_items": null,
      "align_self": null,
      "border": null,
      "bottom": null,
      "display": null,
      "flex": null,
      "flex_flow": null,
      "grid_area": null,
      "grid_auto_columns": null,
      "grid_auto_flow": null,
      "grid_auto_rows": null,
      "grid_column": null,
      "grid_gap": null,
      "grid_row": null,
      "grid_template_areas": null,
      "grid_template_columns": null,
      "grid_template_rows": null,
      "height": null,
      "justify_content": null,
      "justify_items": null,
      "left": null,
      "margin": null,
      "max_height": null,
      "max_width": null,
      "min_height": null,
      "min_width": null,
      "object_fit": null,
      "object_position": null,
      "order": null,
      "overflow": null,
      "overflow_x": null,
      "overflow_y": null,
      "padding": null,
      "right": null,
      "top": null,
      "visibility": null,
      "width": null
     }
    },
    "eba043f3e7b64a51a30c35d2dff4a310": {
     "model_module": "@jupyter-widgets/controls",
     "model_module_version": "1.5.0",
     "model_name": "HTMLModel",
     "state": {
      "_dom_classes": [],
      "_model_module": "@jupyter-widgets/controls",
      "_model_module_version": "1.5.0",
      "_model_name": "HTMLModel",
      "_view_count": null,
      "_view_module": "@jupyter-widgets/controls",
      "_view_module_version": "1.5.0",
      "_view_name": "HTMLView",
      "description": "",
      "description_tooltip": null,
      "layout": "IPY_MODEL_e3c1bb16c0c44bd0a558ecce23aded23",
      "placeholder": "​",
      "style": "IPY_MODEL_9a7652fd49a04b2fba24fd7899e6de7d",
      "value": " 1902/1902 [00:00&lt;00:00, 6743.63it/s]"
     }
    },
    "ebc5b433984748b2b9d3a5ce882e2a4c": {
     "model_module": "@jupyter-widgets/controls",
     "model_module_version": "1.5.0",
     "model_name": "ProgressStyleModel",
     "state": {
      "_model_module": "@jupyter-widgets/controls",
      "_model_module_version": "1.5.0",
      "_model_name": "ProgressStyleModel",
      "_view_count": null,
      "_view_module": "@jupyter-widgets/base",
      "_view_module_version": "1.2.0",
      "_view_name": "StyleView",
      "bar_color": null,
      "description_width": ""
     }
    },
    "f350a58bf7754e8f8b8bc3cd114a4684": {
     "model_module": "@jupyter-widgets/base",
     "model_module_version": "1.2.0",
     "model_name": "LayoutModel",
     "state": {
      "_model_module": "@jupyter-widgets/base",
      "_model_module_version": "1.2.0",
      "_model_name": "LayoutModel",
      "_view_count": null,
      "_view_module": "@jupyter-widgets/base",
      "_view_module_version": "1.2.0",
      "_view_name": "LayoutView",
      "align_content": null,
      "align_items": null,
      "align_self": null,
      "border": null,
      "bottom": null,
      "display": null,
      "flex": null,
      "flex_flow": null,
      "grid_area": null,
      "grid_auto_columns": null,
      "grid_auto_flow": null,
      "grid_auto_rows": null,
      "grid_column": null,
      "grid_gap": null,
      "grid_row": null,
      "grid_template_areas": null,
      "grid_template_columns": null,
      "grid_template_rows": null,
      "height": null,
      "justify_content": null,
      "justify_items": null,
      "left": null,
      "margin": null,
      "max_height": null,
      "max_width": null,
      "min_height": null,
      "min_width": null,
      "object_fit": null,
      "object_position": null,
      "order": null,
      "overflow": null,
      "overflow_x": null,
      "overflow_y": null,
      "padding": null,
      "right": null,
      "top": null,
      "visibility": null,
      "width": null
     }
    },
    "f7270e93b6fd42448071f24cba058ff8": {
     "model_module": "@jupyter-widgets/base",
     "model_module_version": "1.2.0",
     "model_name": "LayoutModel",
     "state": {
      "_model_module": "@jupyter-widgets/base",
      "_model_module_version": "1.2.0",
      "_model_name": "LayoutModel",
      "_view_count": null,
      "_view_module": "@jupyter-widgets/base",
      "_view_module_version": "1.2.0",
      "_view_name": "LayoutView",
      "align_content": null,
      "align_items": null,
      "align_self": null,
      "border": null,
      "bottom": null,
      "display": null,
      "flex": null,
      "flex_flow": null,
      "grid_area": null,
      "grid_auto_columns": null,
      "grid_auto_flow": null,
      "grid_auto_rows": null,
      "grid_column": null,
      "grid_gap": null,
      "grid_row": null,
      "grid_template_areas": null,
      "grid_template_columns": null,
      "grid_template_rows": null,
      "height": null,
      "justify_content": null,
      "justify_items": null,
      "left": null,
      "margin": null,
      "max_height": null,
      "max_width": null,
      "min_height": null,
      "min_width": null,
      "object_fit": null,
      "object_position": null,
      "order": null,
      "overflow": null,
      "overflow_x": null,
      "overflow_y": null,
      "padding": null,
      "right": null,
      "top": null,
      "visibility": null,
      "width": null
     }
    }
   }
  }
 },
 "nbformat": 4,
 "nbformat_minor": 1
}

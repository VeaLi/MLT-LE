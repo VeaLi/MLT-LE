{
 "cells": [
  {
   "cell_type": "markdown",
   "id": "4f35b9f5",
   "metadata": {
    "toc": true
   },
   "source": [
    "<h1>Table of Contents<span class=\"tocSkip\"></span></h1>\n",
    "<div class=\"toc\"><ul class=\"toc-item\"></ul></div>"
   ]
  },
  {
   "cell_type": "code",
   "execution_count": 1,
   "id": "01c13686",
   "metadata": {
    "ExecuteTime": {
     "end_time": "2022-05-13T11:41:36.033376Z",
     "start_time": "2022-05-13T11:41:32.356060Z"
    }
   },
   "outputs": [
    {
     "name": "stdout",
     "output_type": "stream",
     "text": [
      ">> loading mltle\n"
     ]
    }
   ],
   "source": [
    "from examples.example_target_sequences import VDR, MTOR, GABA\n",
    "import pandas as pd\n",
    "import mltle as mlt"
   ]
  },
  {
   "cell_type": "code",
   "execution_count": 2,
   "id": "6c0542bf",
   "metadata": {
    "ExecuteTime": {
     "end_time": "2022-05-13T11:41:36.907048Z",
     "start_time": "2022-05-13T11:41:36.036391Z"
    }
   },
   "outputs": [],
   "source": [
    "model = mlt.predict.Model('Res2_06')"
   ]
  },
  {
   "cell_type": "code",
   "execution_count": 3,
   "id": "31b28c42",
   "metadata": {
    "ExecuteTime": {
     "end_time": "2022-05-13T11:41:36.953747Z",
     "start_time": "2022-05-13T11:41:36.912071Z"
    }
   },
   "outputs": [],
   "source": [
    "# this model expect SMILES string to be canonical\n",
    "vdr_ligand_calcitriol = \"C=C1C(=CC=C2CCCC3(C)C2CCC3C(C)CCCC(C)(C)O)CC(O)CC1O\"\n",
    "vdr_ligand_calcitriol = mlt.utils.to_non_isomeric_canonical(vdr_ligand_calcitriol)\n",
    "\n",
    "gaba_ligand_diazepam = \"CN1C(=O)CN=C(c2ccccc2)c2cc(Cl)ccc21\"\n",
    "gaba_ligand_diazepam = mlt.utils.to_non_isomeric_canonical(gaba_ligand_diazepam)\n",
    "\n",
    "mtor_ligand_torin1 = \"CCC(=O)N1CCN(c2ccc(-n3c(=O)ccc4cnc5ccc(-c6cnc7ccccc7c6)cc5c43)cc2C(F)(F)F)CC1\"\n",
    "mtor_ligand_torin1 = mlt.utils.to_non_isomeric_canonical(mtor_ligand_torin1)"
   ]
  },
  {
   "cell_type": "code",
   "execution_count": 4,
   "id": "79ec5ad6",
   "metadata": {
    "ExecuteTime": {
     "end_time": "2022-05-13T11:41:37.017748Z",
     "start_time": "2022-05-13T11:41:36.955758Z"
    }
   },
   "outputs": [
    {
     "data": {
      "text/html": [
       "<div>\n",
       "<style scoped>\n",
       "    .dataframe tbody tr th:only-of-type {\n",
       "        vertical-align: middle;\n",
       "    }\n",
       "\n",
       "    .dataframe tbody tr th {\n",
       "        vertical-align: top;\n",
       "    }\n",
       "\n",
       "    .dataframe thead th {\n",
       "        text-align: right;\n",
       "    }\n",
       "</style>\n",
       "<table border=\"1\" class=\"dataframe\">\n",
       "  <thead>\n",
       "    <tr style=\"text-align: right;\">\n",
       "      <th></th>\n",
       "      <th>drug</th>\n",
       "      <th>protein</th>\n",
       "    </tr>\n",
       "  </thead>\n",
       "  <tbody>\n",
       "    <tr>\n",
       "      <th>0</th>\n",
       "      <td>C=C1C(=CC=C2CCCC3(C)C2CCC3C(C)CCCC(C)(C)O)CC(O...</td>\n",
       "      <td>MEAMAASTSLPDPGDFDRNVPRICGVCGDRATGFHFNAMTCEGCKG...</td>\n",
       "    </tr>\n",
       "    <tr>\n",
       "      <th>1</th>\n",
       "      <td>CN1C(=O)CN=C(c2ccccc2)c2cc(Cl)ccc21</td>\n",
       "      <td>MRKSPGLSDCLWAWILLLSTLTGRSYGQPSLQDELKDNTTVFTRIL...</td>\n",
       "    </tr>\n",
       "    <tr>\n",
       "      <th>2</th>\n",
       "      <td>CCC(=O)N1CCN(c2ccc(-n3c(=O)ccc4cnc5ccc(-c6cnc7...</td>\n",
       "      <td>MLGTGPAAATTAATTSSNVSVLQQFASGLKSRNEETRAKAAKELQH...</td>\n",
       "    </tr>\n",
       "  </tbody>\n",
       "</table>\n",
       "</div>"
      ],
      "text/plain": [
       "                                                drug  \\\n",
       "0  C=C1C(=CC=C2CCCC3(C)C2CCC3C(C)CCCC(C)(C)O)CC(O...   \n",
       "1                CN1C(=O)CN=C(c2ccccc2)c2cc(Cl)ccc21   \n",
       "2  CCC(=O)N1CCN(c2ccc(-n3c(=O)ccc4cnc5ccc(-c6cnc7...   \n",
       "\n",
       "                                             protein  \n",
       "0  MEAMAASTSLPDPGDFDRNVPRICGVCGDRATGFHFNAMTCEGCKG...  \n",
       "1  MRKSPGLSDCLWAWILLLSTLTGRSYGQPSLQDELKDNTTVFTRIL...  \n",
       "2  MLGTGPAAATTAATTSSNVSVLQQFASGLKSRNEETRAKAAKELQH...  "
      ]
     },
     "execution_count": 4,
     "metadata": {},
     "output_type": "execute_result"
    }
   ],
   "source": [
    "X_predict = pd.DataFrame()\n",
    "X_predict['drug'] = [vdr_ligand_calcitriol, gaba_ligand_diazepam, mtor_ligand_torin1]\n",
    "X_predict['protein'] = [VDR, GABA, MTOR]\n",
    "X_predict.head()"
   ]
  },
  {
   "cell_type": "code",
   "execution_count": 5,
   "id": "1f4c92a3",
   "metadata": {
    "ExecuteTime": {
     "end_time": "2022-05-13T11:41:37.981748Z",
     "start_time": "2022-05-13T11:41:37.021754Z"
    }
   },
   "outputs": [
    {
     "data": {
      "application/vnd.jupyter.widget-view+json": {
       "model_id": "a5c97ffe5194457a8ad7994dec3867d2",
       "version_major": 2,
       "version_minor": 0
      },
      "text/plain": [
       "  0%|          | 0/3 [00:00<?, ?it/s]"
      ]
     },
     "metadata": {},
     "output_type": "display_data"
    },
    {
     "data": {
      "application/vnd.jupyter.widget-view+json": {
       "model_id": "5786de9a613d41328b17b0eeaae21074",
       "version_major": 2,
       "version_minor": 0
      },
      "text/plain": [
       "  0%|          | 0/3 [00:00<?, ?it/s]"
      ]
     },
     "metadata": {},
     "output_type": "display_data"
    },
    {
     "name": "stdout",
     "output_type": "stream",
     "text": [
      "`data_size`=3, `max_data_batch_size`=1\n",
      "Predicting ...\n",
      "3/3 [==============================] - 1s 11ms/step\n"
     ]
    },
    {
     "data": {
      "text/html": [
       "<div>\n",
       "<style scoped>\n",
       "    .dataframe tbody tr th:only-of-type {\n",
       "        vertical-align: middle;\n",
       "    }\n",
       "\n",
       "    .dataframe tbody tr th {\n",
       "        vertical-align: top;\n",
       "    }\n",
       "\n",
       "    .dataframe thead th {\n",
       "        text-align: right;\n",
       "    }\n",
       "</style>\n",
       "<table border=\"1\" class=\"dataframe\">\n",
       "  <thead>\n",
       "    <tr style=\"text-align: right;\">\n",
       "      <th></th>\n",
       "      <th>drug</th>\n",
       "      <th>protein</th>\n",
       "      <th>p1Ki</th>\n",
       "      <th>p1IC50</th>\n",
       "      <th>p1Kd</th>\n",
       "      <th>p1EC50</th>\n",
       "      <th>is_active</th>\n",
       "      <th>pH</th>\n",
       "      <th>pSL</th>\n",
       "    </tr>\n",
       "  </thead>\n",
       "  <tbody>\n",
       "    <tr>\n",
       "      <th>0</th>\n",
       "      <td>C=C1C(=CC=C2CCCC3(C)C2CCC3C(C)CCCC(C)(C)O)CC(O...</td>\n",
       "      <td>MEAMAASTSLPDPGDFDRNVPRICGVCGDRATGFHFNAMTCEGCKG...</td>\n",
       "      <td>2.680734</td>\n",
       "      <td>3.598840</td>\n",
       "      <td>3.270571</td>\n",
       "      <td>3.900660</td>\n",
       "      <td>0.967072</td>\n",
       "      <td>7.373454</td>\n",
       "      <td>4.001479</td>\n",
       "    </tr>\n",
       "    <tr>\n",
       "      <th>1</th>\n",
       "      <td>CN1C(=O)CN=C(c2ccccc2)c2cc(Cl)ccc21</td>\n",
       "      <td>MRKSPGLSDCLWAWILLLSTLTGRSYGQPSLQDELKDNTTVFTRIL...</td>\n",
       "      <td>4.327497</td>\n",
       "      <td>5.825420</td>\n",
       "      <td>6.494320</td>\n",
       "      <td>9.083035</td>\n",
       "      <td>0.643822</td>\n",
       "      <td>7.386202</td>\n",
       "      <td>3.852743</td>\n",
       "    </tr>\n",
       "    <tr>\n",
       "      <th>2</th>\n",
       "      <td>CCC(=O)N1CCN(c2ccc(-n3c(=O)ccc4cnc5ccc(-c6cnc7...</td>\n",
       "      <td>MLGTGPAAATTAATTSSNVSVLQQFASGLKSRNEETRAKAAKELQH...</td>\n",
       "      <td>3.600263</td>\n",
       "      <td>4.579668</td>\n",
       "      <td>5.345810</td>\n",
       "      <td>4.833831</td>\n",
       "      <td>0.844220</td>\n",
       "      <td>7.342356</td>\n",
       "      <td>4.214447</td>\n",
       "    </tr>\n",
       "  </tbody>\n",
       "</table>\n",
       "</div>"
      ],
      "text/plain": [
       "                                                drug  \\\n",
       "0  C=C1C(=CC=C2CCCC3(C)C2CCC3C(C)CCCC(C)(C)O)CC(O...   \n",
       "1                CN1C(=O)CN=C(c2ccccc2)c2cc(Cl)ccc21   \n",
       "2  CCC(=O)N1CCN(c2ccc(-n3c(=O)ccc4cnc5ccc(-c6cnc7...   \n",
       "\n",
       "                                             protein      p1Ki    p1IC50  \\\n",
       "0  MEAMAASTSLPDPGDFDRNVPRICGVCGDRATGFHFNAMTCEGCKG...  2.680734  3.598840   \n",
       "1  MRKSPGLSDCLWAWILLLSTLTGRSYGQPSLQDELKDNTTVFTRIL...  4.327497  5.825420   \n",
       "2  MLGTGPAAATTAATTSSNVSVLQQFASGLKSRNEETRAKAAKELQH...  3.600263  4.579668   \n",
       "\n",
       "       p1Kd    p1EC50  is_active        pH       pSL  \n",
       "0  3.270571  3.900660   0.967072  7.373454  4.001479  \n",
       "1  6.494320  9.083035   0.643822  7.386202  3.852743  \n",
       "2  5.345810  4.833831   0.844220  7.342356  4.214447  "
      ]
     },
     "execution_count": 5,
     "metadata": {},
     "output_type": "execute_result"
    }
   ],
   "source": [
    "model.predict(X_predict)"
   ]
  }
 ],
 "metadata": {
  "kernelspec": {
   "display_name": "Python 3",
   "language": "python",
   "name": "python3"
  },
  "language_info": {
   "codemirror_mode": {
    "name": "ipython",
    "version": 3
   },
   "file_extension": ".py",
   "mimetype": "text/x-python",
   "name": "python",
   "nbconvert_exporter": "python",
   "pygments_lexer": "ipython3",
   "version": "3.8.8"
  },
  "latex_envs": {
   "LaTeX_envs_menu_present": true,
   "autoclose": false,
   "autocomplete": true,
   "bibliofile": "biblio.bib",
   "cite_by": "apalike",
   "current_citInitial": 1,
   "eqLabelWithNumbers": true,
   "eqNumInitial": 1,
   "hotkeys": {
    "equation": "Ctrl-E",
    "itemize": "Ctrl-I"
   },
   "labels_anchors": false,
   "latex_user_defs": false,
   "report_style_numbering": false,
   "user_envs_cfg": false
  },
  "nbTranslate": {
   "displayLangs": [
    "*"
   ],
   "hotkey": "alt-t",
   "langInMainMenu": true,
   "sourceLang": "en",
   "targetLang": "fr",
   "useGoogleTranslate": true
  },
  "toc": {
   "base_numbering": 1,
   "nav_menu": {},
   "number_sections": true,
   "sideBar": true,
   "skip_h1_title": false,
   "title_cell": "Table of Contents",
   "title_sidebar": "Contents",
   "toc_cell": true,
   "toc_position": {},
   "toc_section_display": true,
   "toc_window_display": false
  }
 },
 "nbformat": 4,
 "nbformat_minor": 5
}

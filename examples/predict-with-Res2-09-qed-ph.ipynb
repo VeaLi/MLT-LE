{
 "cells": [
  {
   "cell_type": "markdown",
   "id": "4f35b9f5",
   "metadata": {
    "toc": true
   },
   "source": [
    "<h1>Table of Contents<span class=\"tocSkip\"></span></h1>\n",
    "<div class=\"toc\"><ul class=\"toc-item\"></ul></div>"
   ]
  },
  {
   "cell_type": "code",
   "execution_count": 1,
   "id": "01c13686",
   "metadata": {
    "ExecuteTime": {
     "end_time": "2022-05-29T16:03:13.877862Z",
     "start_time": "2022-05-29T16:02:48.748612Z"
    }
   },
   "outputs": [
    {
     "name": "stdout",
     "output_type": "stream",
     "text": [
      "Done.\n"
     ]
    }
   ],
   "source": [
    "import sys\n",
    "sys.path.insert(0, '../')\n",
    "\n",
    "from examples.example_target_sequences import VDR, MTOR, GABA\n",
    "import pandas as pd\n",
    "import mltle as mlt"
   ]
  },
  {
   "cell_type": "code",
   "execution_count": 2,
   "id": "6c0542bf",
   "metadata": {
    "ExecuteTime": {
     "end_time": "2022-05-29T16:03:17.588840Z",
     "start_time": "2022-05-29T16:03:13.881872Z"
    }
   },
   "outputs": [],
   "source": [
    "model = mlt.predict.Model('Res2_09_qed_ph')"
   ]
  },
  {
   "cell_type": "code",
   "execution_count": 3,
   "id": "31b28c42",
   "metadata": {
    "ExecuteTime": {
     "end_time": "2022-05-29T16:03:17.684212Z",
     "start_time": "2022-05-29T16:03:17.591846Z"
    }
   },
   "outputs": [],
   "source": [
    "# this model expect SMILES string to be canonical\n",
    "vdr_ligand_calcitriol = \"C=C1C(=CC=C2CCCC3(C)C2CCC3C(C)CCCC(C)(C)O)CC(O)CC1O\"\n",
    "vdr_ligand_calcitriol = mlt.utils.to_non_isomeric_canonical(vdr_ligand_calcitriol)\n",
    "\n",
    "gaba_ligand_diazepam = \"CN1C(=O)CN=C(c2ccccc2)c2cc(Cl)ccc21\"\n",
    "gaba_ligand_diazepam = mlt.utils.to_non_isomeric_canonical(gaba_ligand_diazepam)\n",
    "\n",
    "mtor_ligand_torin1 = \"CCC(=O)N1CCN(c2ccc(-n3c(=O)ccc4cnc5ccc(-c6cnc7ccccc7c6)cc5c43)cc2C(F)(F)F)CC1\"\n",
    "mtor_ligand_torin1 = mlt.utils.to_non_isomeric_canonical(mtor_ligand_torin1)"
   ]
  },
  {
   "cell_type": "code",
   "execution_count": 4,
   "id": "79ec5ad6",
   "metadata": {
    "ExecuteTime": {
     "end_time": "2022-05-29T16:03:17.969707Z",
     "start_time": "2022-05-29T16:03:17.687218Z"
    }
   },
   "outputs": [
    {
     "data": {
      "text/html": [
       "<div>\n",
       "<style scoped>\n",
       "    .dataframe tbody tr th:only-of-type {\n",
       "        vertical-align: middle;\n",
       "    }\n",
       "\n",
       "    .dataframe tbody tr th {\n",
       "        vertical-align: top;\n",
       "    }\n",
       "\n",
       "    .dataframe thead th {\n",
       "        text-align: right;\n",
       "    }\n",
       "</style>\n",
       "<table border=\"1\" class=\"dataframe\">\n",
       "  <thead>\n",
       "    <tr style=\"text-align: right;\">\n",
       "      <th></th>\n",
       "      <th>drug</th>\n",
       "      <th>protein</th>\n",
       "    </tr>\n",
       "  </thead>\n",
       "  <tbody>\n",
       "    <tr>\n",
       "      <th>0</th>\n",
       "      <td>C=C1C(=CC=C2CCCC3(C)C2CCC3C(C)CCCC(C)(C)O)CC(O...</td>\n",
       "      <td>MEAMAASTSLPDPGDFDRNVPRICGVCGDRATGFHFNAMTCEGCKG...</td>\n",
       "    </tr>\n",
       "    <tr>\n",
       "      <th>1</th>\n",
       "      <td>CN1C(=O)CN=C(c2ccccc2)c2cc(Cl)ccc21</td>\n",
       "      <td>MRKSPGLSDCLWAWILLLSTLTGRSYGQPSLQDELKDNTTVFTRIL...</td>\n",
       "    </tr>\n",
       "    <tr>\n",
       "      <th>2</th>\n",
       "      <td>CCC(=O)N1CCN(c2ccc(-n3c(=O)ccc4cnc5ccc(-c6cnc7...</td>\n",
       "      <td>MLGTGPAAATTAATTSSNVSVLQQFASGLKSRNEETRAKAAKELQH...</td>\n",
       "    </tr>\n",
       "  </tbody>\n",
       "</table>\n",
       "</div>"
      ],
      "text/plain": [
       "                                                drug  \\\n",
       "0  C=C1C(=CC=C2CCCC3(C)C2CCC3C(C)CCCC(C)(C)O)CC(O...   \n",
       "1                CN1C(=O)CN=C(c2ccccc2)c2cc(Cl)ccc21   \n",
       "2  CCC(=O)N1CCN(c2ccc(-n3c(=O)ccc4cnc5ccc(-c6cnc7...   \n",
       "\n",
       "                                             protein  \n",
       "0  MEAMAASTSLPDPGDFDRNVPRICGVCGDRATGFHFNAMTCEGCKG...  \n",
       "1  MRKSPGLSDCLWAWILLLSTLTGRSYGQPSLQDELKDNTTVFTRIL...  \n",
       "2  MLGTGPAAATTAATTSSNVSVLQQFASGLKSRNEETRAKAAKELQH...  "
      ]
     },
     "execution_count": 4,
     "metadata": {},
     "output_type": "execute_result"
    }
   ],
   "source": [
    "X_predict = pd.DataFrame()\n",
    "X_predict['drug'] = [vdr_ligand_calcitriol, gaba_ligand_diazepam, mtor_ligand_torin1]\n",
    "X_predict['protein'] = [VDR, GABA, MTOR]\n",
    "X_predict.head()"
   ]
  },
  {
   "cell_type": "code",
   "execution_count": 5,
   "id": "1f4c92a3",
   "metadata": {
    "ExecuteTime": {
     "end_time": "2022-05-29T16:03:22.036277Z",
     "start_time": "2022-05-29T16:03:17.973712Z"
    }
   },
   "outputs": [
    {
     "data": {
      "application/vnd.jupyter.widget-view+json": {
       "model_id": "f917642f927643a68ea09dd266739978",
       "version_major": 2,
       "version_minor": 0
      },
      "text/plain": [
       "  0%|          | 0/3 [00:00<?, ?it/s]"
      ]
     },
     "metadata": {},
     "output_type": "display_data"
    },
    {
     "data": {
      "application/vnd.jupyter.widget-view+json": {
       "model_id": "20885d3fb2be40c1be0394b3141d4a7b",
       "version_major": 2,
       "version_minor": 0
      },
      "text/plain": [
       "  0%|          | 0/3 [00:00<?, ?it/s]"
      ]
     },
     "metadata": {},
     "output_type": "display_data"
    },
    {
     "name": "stdout",
     "output_type": "stream",
     "text": [
      "`data_size`=3, `max_data_batch_size`=1\n",
      "Predicting ...\n",
      "3/3 [==============================] - 3s 34ms/step\n"
     ]
    },
    {
     "data": {
      "text/html": [
       "<div>\n",
       "<style scoped>\n",
       "    .dataframe tbody tr th:only-of-type {\n",
       "        vertical-align: middle;\n",
       "    }\n",
       "\n",
       "    .dataframe tbody tr th {\n",
       "        vertical-align: top;\n",
       "    }\n",
       "\n",
       "    .dataframe thead th {\n",
       "        text-align: right;\n",
       "    }\n",
       "</style>\n",
       "<table border=\"1\" class=\"dataframe\">\n",
       "  <thead>\n",
       "    <tr style=\"text-align: right;\">\n",
       "      <th></th>\n",
       "      <th>drug</th>\n",
       "      <th>protein</th>\n",
       "      <th>p1Ki</th>\n",
       "      <th>p1IC50</th>\n",
       "      <th>p1Kd</th>\n",
       "      <th>p1EC50</th>\n",
       "      <th>is_active</th>\n",
       "      <th>qed</th>\n",
       "      <th>pH</th>\n",
       "    </tr>\n",
       "  </thead>\n",
       "  <tbody>\n",
       "    <tr>\n",
       "      <th>0</th>\n",
       "      <td>C=C1C(=CC=C2CCCC3(C)C2CCC3C(C)CCCC(C)(C)O)CC(O...</td>\n",
       "      <td>MEAMAASTSLPDPGDFDRNVPRICGVCGDRATGFHFNAMTCEGCKG...</td>\n",
       "      <td>1.942578</td>\n",
       "      <td>3.304957</td>\n",
       "      <td>2.143850</td>\n",
       "      <td>2.625101</td>\n",
       "      <td>0.994911</td>\n",
       "      <td>0.344082</td>\n",
       "      <td>7.270250</td>\n",
       "    </tr>\n",
       "    <tr>\n",
       "      <th>1</th>\n",
       "      <td>CN1C(=O)CN=C(c2ccccc2)c2cc(Cl)ccc21</td>\n",
       "      <td>MRKSPGLSDCLWAWILLLSTLTGRSYGQPSLQDELKDNTTVFTRIL...</td>\n",
       "      <td>3.833895</td>\n",
       "      <td>5.133890</td>\n",
       "      <td>4.268735</td>\n",
       "      <td>5.689556</td>\n",
       "      <td>0.910887</td>\n",
       "      <td>0.675182</td>\n",
       "      <td>7.355516</td>\n",
       "    </tr>\n",
       "    <tr>\n",
       "      <th>2</th>\n",
       "      <td>CCC(=O)N1CCN(c2ccc(-n3c(=O)ccc4cnc5ccc(-c6cnc7...</td>\n",
       "      <td>MLGTGPAAATTAATTSSNVSVLQQFASGLKSRNEETRAKAAKELQH...</td>\n",
       "      <td>3.112528</td>\n",
       "      <td>4.007699</td>\n",
       "      <td>3.711790</td>\n",
       "      <td>5.095421</td>\n",
       "      <td>0.968470</td>\n",
       "      <td>0.330529</td>\n",
       "      <td>7.349970</td>\n",
       "    </tr>\n",
       "  </tbody>\n",
       "</table>\n",
       "</div>"
      ],
      "text/plain": [
       "                                                drug  \\\n",
       "0  C=C1C(=CC=C2CCCC3(C)C2CCC3C(C)CCCC(C)(C)O)CC(O...   \n",
       "1                CN1C(=O)CN=C(c2ccccc2)c2cc(Cl)ccc21   \n",
       "2  CCC(=O)N1CCN(c2ccc(-n3c(=O)ccc4cnc5ccc(-c6cnc7...   \n",
       "\n",
       "                                             protein      p1Ki    p1IC50  \\\n",
       "0  MEAMAASTSLPDPGDFDRNVPRICGVCGDRATGFHFNAMTCEGCKG...  1.942578  3.304957   \n",
       "1  MRKSPGLSDCLWAWILLLSTLTGRSYGQPSLQDELKDNTTVFTRIL...  3.833895  5.133890   \n",
       "2  MLGTGPAAATTAATTSSNVSVLQQFASGLKSRNEETRAKAAKELQH...  3.112528  4.007699   \n",
       "\n",
       "       p1Kd    p1EC50  is_active       qed        pH  \n",
       "0  2.143850  2.625101   0.994911  0.344082  7.270250  \n",
       "1  4.268735  5.689556   0.910887  0.675182  7.355516  \n",
       "2  3.711790  5.095421   0.968470  0.330529  7.349970  "
      ]
     },
     "execution_count": 5,
     "metadata": {},
     "output_type": "execute_result"
    }
   ],
   "source": [
    "model.predict(X_predict)"
   ]
  },
  {
   "cell_type": "code",
   "execution_count": 6,
   "id": "96b2c99b",
   "metadata": {
    "ExecuteTime": {
     "end_time": "2022-05-29T16:03:22.291794Z",
     "start_time": "2022-05-29T16:03:22.039292Z"
    }
   },
   "outputs": [
    {
     "data": {
      "application/vnd.jupyter.widget-view+json": {
       "model_id": "c0f65c47541b4406a0a0fde87aa37402",
       "version_major": 2,
       "version_minor": 0
      },
      "text/plain": [
       "  0%|          | 0/3 [00:00<?, ?it/s]"
      ]
     },
     "metadata": {},
     "output_type": "display_data"
    },
    {
     "data": {
      "application/vnd.jupyter.widget-view+json": {
       "model_id": "059a0c1ea28741e69e21dc595ad30631",
       "version_major": 2,
       "version_minor": 0
      },
      "text/plain": [
       "  0%|          | 0/1 [00:00<?, ?it/s]"
      ]
     },
     "metadata": {},
     "output_type": "display_data"
    },
    {
     "name": "stdout",
     "output_type": "stream",
     "text": [
      "`data_size`=3, `max_data_batch_size`=1\n",
      "Predicting ...\n",
      "3/3 [==============================] - 0s 7ms/step\n"
     ]
    },
    {
     "data": {
      "text/html": [
       "<div>\n",
       "<style scoped>\n",
       "    .dataframe tbody tr th:only-of-type {\n",
       "        vertical-align: middle;\n",
       "    }\n",
       "\n",
       "    .dataframe tbody tr th {\n",
       "        vertical-align: top;\n",
       "    }\n",
       "\n",
       "    .dataframe thead th {\n",
       "        text-align: right;\n",
       "    }\n",
       "</style>\n",
       "<table border=\"1\" class=\"dataframe\">\n",
       "  <thead>\n",
       "    <tr style=\"text-align: right;\">\n",
       "      <th></th>\n",
       "      <th>drug</th>\n",
       "      <th>protein</th>\n",
       "      <th>p1Ki</th>\n",
       "      <th>p1IC50</th>\n",
       "      <th>p1Kd</th>\n",
       "      <th>p1EC50</th>\n",
       "      <th>is_active</th>\n",
       "      <th>qed</th>\n",
       "      <th>pH</th>\n",
       "    </tr>\n",
       "  </thead>\n",
       "  <tbody>\n",
       "    <tr>\n",
       "      <th>0</th>\n",
       "      <td>C=C1C(=CC=C2CCCC3(C)C2CCC3C(C)CCCC(C)(C)O)CC(O...</td>\n",
       "      <td>MEAMAASTSLPDPGDFDRNVPRICGVCGDRATGFHFNAMTCEGCKG...</td>\n",
       "      <td>1.942578</td>\n",
       "      <td>3.304957</td>\n",
       "      <td>2.143850</td>\n",
       "      <td>2.625101</td>\n",
       "      <td>0.994911</td>\n",
       "      <td>0.344082</td>\n",
       "      <td>7.270250</td>\n",
       "    </tr>\n",
       "    <tr>\n",
       "      <th>1</th>\n",
       "      <td>CN1C(=O)CN=C(c2ccccc2)c2cc(Cl)ccc21</td>\n",
       "      <td>MEAMAASTSLPDPGDFDRNVPRICGVCGDRATGFHFNAMTCEGCKG...</td>\n",
       "      <td>6.334634</td>\n",
       "      <td>9.365030</td>\n",
       "      <td>10.913046</td>\n",
       "      <td>9.026347</td>\n",
       "      <td>0.012598</td>\n",
       "      <td>0.723363</td>\n",
       "      <td>7.598413</td>\n",
       "    </tr>\n",
       "    <tr>\n",
       "      <th>2</th>\n",
       "      <td>CCC(=O)N1CCN(c2ccc(-n3c(=O)ccc4cnc5ccc(-c6cnc7...</td>\n",
       "      <td>MEAMAASTSLPDPGDFDRNVPRICGVCGDRATGFHFNAMTCEGCKG...</td>\n",
       "      <td>5.355877</td>\n",
       "      <td>7.365163</td>\n",
       "      <td>6.980690</td>\n",
       "      <td>6.381368</td>\n",
       "      <td>0.440527</td>\n",
       "      <td>0.215472</td>\n",
       "      <td>7.289138</td>\n",
       "    </tr>\n",
       "  </tbody>\n",
       "</table>\n",
       "</div>"
      ],
      "text/plain": [
       "                                                drug  \\\n",
       "0  C=C1C(=CC=C2CCCC3(C)C2CCC3C(C)CCCC(C)(C)O)CC(O...   \n",
       "1                CN1C(=O)CN=C(c2ccccc2)c2cc(Cl)ccc21   \n",
       "2  CCC(=O)N1CCN(c2ccc(-n3c(=O)ccc4cnc5ccc(-c6cnc7...   \n",
       "\n",
       "                                             protein      p1Ki    p1IC50  \\\n",
       "0  MEAMAASTSLPDPGDFDRNVPRICGVCGDRATGFHFNAMTCEGCKG...  1.942578  3.304957   \n",
       "1  MEAMAASTSLPDPGDFDRNVPRICGVCGDRATGFHFNAMTCEGCKG...  6.334634  9.365030   \n",
       "2  MEAMAASTSLPDPGDFDRNVPRICGVCGDRATGFHFNAMTCEGCKG...  5.355877  7.365163   \n",
       "\n",
       "        p1Kd    p1EC50  is_active       qed        pH  \n",
       "0   2.143850  2.625101   0.994911  0.344082  7.270250  \n",
       "1  10.913046  9.026347   0.012598  0.723363  7.598413  \n",
       "2   6.980690  6.381368   0.440527  0.215472  7.289138  "
      ]
     },
     "execution_count": 6,
     "metadata": {},
     "output_type": "execute_result"
    }
   ],
   "source": [
    "X_predict = pd.DataFrame()\n",
    "X_predict['drug'] = [vdr_ligand_calcitriol, gaba_ligand_diazepam, mtor_ligand_torin1]\n",
    "X_predict['protein'] = [VDR, VDR, VDR]\n",
    "model.predict(X_predict)"
   ]
  },
  {
   "cell_type": "code",
   "execution_count": 7,
   "id": "4c88127c",
   "metadata": {
    "ExecuteTime": {
     "end_time": "2022-05-29T16:03:22.544795Z",
     "start_time": "2022-05-29T16:03:22.294800Z"
    }
   },
   "outputs": [
    {
     "data": {
      "application/vnd.jupyter.widget-view+json": {
       "model_id": "d31bea885e56432d80900f3f38d6cde8",
       "version_major": 2,
       "version_minor": 0
      },
      "text/plain": [
       "  0%|          | 0/3 [00:00<?, ?it/s]"
      ]
     },
     "metadata": {},
     "output_type": "display_data"
    },
    {
     "data": {
      "application/vnd.jupyter.widget-view+json": {
       "model_id": "18eca88737e644d3a29ab8eec88ac995",
       "version_major": 2,
       "version_minor": 0
      },
      "text/plain": [
       "  0%|          | 0/1 [00:00<?, ?it/s]"
      ]
     },
     "metadata": {},
     "output_type": "display_data"
    },
    {
     "name": "stdout",
     "output_type": "stream",
     "text": [
      "`data_size`=3, `max_data_batch_size`=1\n",
      "Predicting ...\n",
      "3/3 [==============================] - 0s 8ms/step\n"
     ]
    },
    {
     "data": {
      "text/html": [
       "<div>\n",
       "<style scoped>\n",
       "    .dataframe tbody tr th:only-of-type {\n",
       "        vertical-align: middle;\n",
       "    }\n",
       "\n",
       "    .dataframe tbody tr th {\n",
       "        vertical-align: top;\n",
       "    }\n",
       "\n",
       "    .dataframe thead th {\n",
       "        text-align: right;\n",
       "    }\n",
       "</style>\n",
       "<table border=\"1\" class=\"dataframe\">\n",
       "  <thead>\n",
       "    <tr style=\"text-align: right;\">\n",
       "      <th></th>\n",
       "      <th>drug</th>\n",
       "      <th>protein</th>\n",
       "      <th>p1Ki</th>\n",
       "      <th>p1IC50</th>\n",
       "      <th>p1Kd</th>\n",
       "      <th>p1EC50</th>\n",
       "      <th>is_active</th>\n",
       "      <th>qed</th>\n",
       "      <th>pH</th>\n",
       "    </tr>\n",
       "  </thead>\n",
       "  <tbody>\n",
       "    <tr>\n",
       "      <th>0</th>\n",
       "      <td>C=C1C(=CC=C2CCCC3(C)C2CCC3C(C)CCCC(C)(C)O)CC(O...</td>\n",
       "      <td>MRKSPGLSDCLWAWILLLSTLTGRSYGQPSLQDELKDNTTVFTRIL...</td>\n",
       "      <td>5.777559</td>\n",
       "      <td>6.879545</td>\n",
       "      <td>5.545080</td>\n",
       "      <td>6.025587</td>\n",
       "      <td>0.533981</td>\n",
       "      <td>0.418317</td>\n",
       "      <td>7.309780</td>\n",
       "    </tr>\n",
       "    <tr>\n",
       "      <th>1</th>\n",
       "      <td>CN1C(=O)CN=C(c2ccccc2)c2cc(Cl)ccc21</td>\n",
       "      <td>MRKSPGLSDCLWAWILLLSTLTGRSYGQPSLQDELKDNTTVFTRIL...</td>\n",
       "      <td>3.833895</td>\n",
       "      <td>5.133890</td>\n",
       "      <td>4.268735</td>\n",
       "      <td>5.689556</td>\n",
       "      <td>0.910887</td>\n",
       "      <td>0.675182</td>\n",
       "      <td>7.355516</td>\n",
       "    </tr>\n",
       "    <tr>\n",
       "      <th>2</th>\n",
       "      <td>CCC(=O)N1CCN(c2ccc(-n3c(=O)ccc4cnc5ccc(-c6cnc7...</td>\n",
       "      <td>MRKSPGLSDCLWAWILLLSTLTGRSYGQPSLQDELKDNTTVFTRIL...</td>\n",
       "      <td>4.346396</td>\n",
       "      <td>4.324799</td>\n",
       "      <td>4.992847</td>\n",
       "      <td>5.316618</td>\n",
       "      <td>0.947282</td>\n",
       "      <td>0.264302</td>\n",
       "      <td>7.305233</td>\n",
       "    </tr>\n",
       "  </tbody>\n",
       "</table>\n",
       "</div>"
      ],
      "text/plain": [
       "                                                drug  \\\n",
       "0  C=C1C(=CC=C2CCCC3(C)C2CCC3C(C)CCCC(C)(C)O)CC(O...   \n",
       "1                CN1C(=O)CN=C(c2ccccc2)c2cc(Cl)ccc21   \n",
       "2  CCC(=O)N1CCN(c2ccc(-n3c(=O)ccc4cnc5ccc(-c6cnc7...   \n",
       "\n",
       "                                             protein      p1Ki    p1IC50  \\\n",
       "0  MRKSPGLSDCLWAWILLLSTLTGRSYGQPSLQDELKDNTTVFTRIL...  5.777559  6.879545   \n",
       "1  MRKSPGLSDCLWAWILLLSTLTGRSYGQPSLQDELKDNTTVFTRIL...  3.833895  5.133890   \n",
       "2  MRKSPGLSDCLWAWILLLSTLTGRSYGQPSLQDELKDNTTVFTRIL...  4.346396  4.324799   \n",
       "\n",
       "       p1Kd    p1EC50  is_active       qed        pH  \n",
       "0  5.545080  6.025587   0.533981  0.418317  7.309780  \n",
       "1  4.268735  5.689556   0.910887  0.675182  7.355516  \n",
       "2  4.992847  5.316618   0.947282  0.264302  7.305233  "
      ]
     },
     "execution_count": 7,
     "metadata": {},
     "output_type": "execute_result"
    }
   ],
   "source": [
    "X_predict = pd.DataFrame()\n",
    "X_predict['drug'] = [vdr_ligand_calcitriol, gaba_ligand_diazepam, mtor_ligand_torin1]\n",
    "X_predict['protein'] = [GABA, GABA, GABA]\n",
    "model.predict(X_predict)"
   ]
  },
  {
   "cell_type": "code",
   "execution_count": 8,
   "id": "b8bc9151",
   "metadata": {
    "ExecuteTime": {
     "end_time": "2022-05-29T16:03:22.877348Z",
     "start_time": "2022-05-29T16:03:22.547805Z"
    }
   },
   "outputs": [
    {
     "data": {
      "application/vnd.jupyter.widget-view+json": {
       "model_id": "32959d82b7344298aa743ae41b368136",
       "version_major": 2,
       "version_minor": 0
      },
      "text/plain": [
       "  0%|          | 0/3 [00:00<?, ?it/s]"
      ]
     },
     "metadata": {},
     "output_type": "display_data"
    },
    {
     "data": {
      "application/vnd.jupyter.widget-view+json": {
       "model_id": "3b2c911c4a1c4c618e7973f474203fcd",
       "version_major": 2,
       "version_minor": 0
      },
      "text/plain": [
       "  0%|          | 0/1 [00:00<?, ?it/s]"
      ]
     },
     "metadata": {},
     "output_type": "display_data"
    },
    {
     "name": "stdout",
     "output_type": "stream",
     "text": [
      "`data_size`=3, `max_data_batch_size`=1\n",
      "Predicting ...\n",
      "3/3 [==============================] - 0s 24ms/step\n"
     ]
    },
    {
     "data": {
      "text/html": [
       "<div>\n",
       "<style scoped>\n",
       "    .dataframe tbody tr th:only-of-type {\n",
       "        vertical-align: middle;\n",
       "    }\n",
       "\n",
       "    .dataframe tbody tr th {\n",
       "        vertical-align: top;\n",
       "    }\n",
       "\n",
       "    .dataframe thead th {\n",
       "        text-align: right;\n",
       "    }\n",
       "</style>\n",
       "<table border=\"1\" class=\"dataframe\">\n",
       "  <thead>\n",
       "    <tr style=\"text-align: right;\">\n",
       "      <th></th>\n",
       "      <th>drug</th>\n",
       "      <th>protein</th>\n",
       "      <th>p1Ki</th>\n",
       "      <th>p1IC50</th>\n",
       "      <th>p1Kd</th>\n",
       "      <th>p1EC50</th>\n",
       "      <th>is_active</th>\n",
       "      <th>qed</th>\n",
       "      <th>pH</th>\n",
       "    </tr>\n",
       "  </thead>\n",
       "  <tbody>\n",
       "    <tr>\n",
       "      <th>0</th>\n",
       "      <td>C=C1C(=CC=C2CCCC3(C)C2CCC3C(C)CCCC(C)(C)O)CC(O...</td>\n",
       "      <td>MLGTGPAAATTAATTSSNVSVLQQFASGLKSRNEETRAKAAKELQH...</td>\n",
       "      <td>6.812375</td>\n",
       "      <td>7.543509</td>\n",
       "      <td>6.383578</td>\n",
       "      <td>7.938704</td>\n",
       "      <td>0.385709</td>\n",
       "      <td>0.409452</td>\n",
       "      <td>7.409512</td>\n",
       "    </tr>\n",
       "    <tr>\n",
       "      <th>1</th>\n",
       "      <td>CN1C(=O)CN=C(c2ccccc2)c2cc(Cl)ccc21</td>\n",
       "      <td>MLGTGPAAATTAATTSSNVSVLQQFASGLKSRNEETRAKAAKELQH...</td>\n",
       "      <td>5.976816</td>\n",
       "      <td>7.901477</td>\n",
       "      <td>7.483284</td>\n",
       "      <td>8.537107</td>\n",
       "      <td>0.281235</td>\n",
       "      <td>0.720361</td>\n",
       "      <td>7.343540</td>\n",
       "    </tr>\n",
       "    <tr>\n",
       "      <th>2</th>\n",
       "      <td>CCC(=O)N1CCN(c2ccc(-n3c(=O)ccc4cnc5ccc(-c6cnc7...</td>\n",
       "      <td>MLGTGPAAATTAATTSSNVSVLQQFASGLKSRNEETRAKAAKELQH...</td>\n",
       "      <td>3.112528</td>\n",
       "      <td>4.007699</td>\n",
       "      <td>3.711790</td>\n",
       "      <td>5.095421</td>\n",
       "      <td>0.968470</td>\n",
       "      <td>0.330529</td>\n",
       "      <td>7.349970</td>\n",
       "    </tr>\n",
       "  </tbody>\n",
       "</table>\n",
       "</div>"
      ],
      "text/plain": [
       "                                                drug  \\\n",
       "0  C=C1C(=CC=C2CCCC3(C)C2CCC3C(C)CCCC(C)(C)O)CC(O...   \n",
       "1                CN1C(=O)CN=C(c2ccccc2)c2cc(Cl)ccc21   \n",
       "2  CCC(=O)N1CCN(c2ccc(-n3c(=O)ccc4cnc5ccc(-c6cnc7...   \n",
       "\n",
       "                                             protein      p1Ki    p1IC50  \\\n",
       "0  MLGTGPAAATTAATTSSNVSVLQQFASGLKSRNEETRAKAAKELQH...  6.812375  7.543509   \n",
       "1  MLGTGPAAATTAATTSSNVSVLQQFASGLKSRNEETRAKAAKELQH...  5.976816  7.901477   \n",
       "2  MLGTGPAAATTAATTSSNVSVLQQFASGLKSRNEETRAKAAKELQH...  3.112528  4.007699   \n",
       "\n",
       "       p1Kd    p1EC50  is_active       qed        pH  \n",
       "0  6.383578  7.938704   0.385709  0.409452  7.409512  \n",
       "1  7.483284  8.537107   0.281235  0.720361  7.343540  \n",
       "2  3.711790  5.095421   0.968470  0.330529  7.349970  "
      ]
     },
     "execution_count": 8,
     "metadata": {},
     "output_type": "execute_result"
    }
   ],
   "source": [
    "X_predict = pd.DataFrame()\n",
    "X_predict['drug'] = [vdr_ligand_calcitriol, gaba_ligand_diazepam, mtor_ligand_torin1]\n",
    "X_predict['protein'] = [MTOR, MTOR, MTOR]\n",
    "model.predict(X_predict)"
   ]
  },
  {
   "cell_type": "code",
   "execution_count": 10,
   "id": "5ff602bc",
   "metadata": {
    "ExecuteTime": {
     "end_time": "2022-05-29T16:03:39.276017Z",
     "start_time": "2022-05-29T16:03:38.869003Z"
    }
   },
   "outputs": [
    {
     "data": {
      "application/vnd.jupyter.widget-view+json": {
       "model_id": "d776fc21a92e4494a78eb4e29d03b7a6",
       "version_major": 2,
       "version_minor": 0
      },
      "text/plain": [
       "  0%|          | 0/3 [00:00<?, ?it/s]"
      ]
     },
     "metadata": {},
     "output_type": "display_data"
    },
    {
     "data": {
      "application/vnd.jupyter.widget-view+json": {
       "model_id": "f1ec89d6b5eb4cff8c90f82cc2f60388",
       "version_major": 2,
       "version_minor": 0
      },
      "text/plain": [
       "  0%|          | 0/1 [00:00<?, ?it/s]"
      ]
     },
     "metadata": {},
     "output_type": "display_data"
    },
    {
     "name": "stdout",
     "output_type": "stream",
     "text": [
      "`data_size`=3, `max_data_batch_size`=1\n",
      "Predicting ...\n",
      "3/3 [==============================] - 0s 21ms/step\n"
     ]
    },
    {
     "data": {
      "text/plain": [
       "0    0.591042\n",
       "1    1.777070\n",
       "2    0.039927\n",
       "Name: p1Kd, dtype: float32"
      ]
     },
     "execution_count": 10,
     "metadata": {},
     "output_type": "execute_result"
    }
   ],
   "source": [
    "prediction_result = model.predict(X_predict)\n",
    "model.to_uM(prediction_result.p1Kd)"
   ]
  },
  {
   "cell_type": "code",
   "execution_count": null,
   "id": "e8d37c1f",
   "metadata": {},
   "outputs": [],
   "source": []
  }
 ],
 "metadata": {
  "kernelspec": {
   "display_name": "Python 3",
   "language": "python",
   "name": "python3"
  },
  "language_info": {
   "codemirror_mode": {
    "name": "ipython",
    "version": 3
   },
   "file_extension": ".py",
   "mimetype": "text/x-python",
   "name": "python",
   "nbconvert_exporter": "python",
   "pygments_lexer": "ipython3",
   "version": "3.8.8"
  },
  "latex_envs": {
   "LaTeX_envs_menu_present": true,
   "autoclose": false,
   "autocomplete": true,
   "bibliofile": "biblio.bib",
   "cite_by": "apalike",
   "current_citInitial": 1,
   "eqLabelWithNumbers": true,
   "eqNumInitial": 1,
   "hotkeys": {
    "equation": "Ctrl-E",
    "itemize": "Ctrl-I"
   },
   "labels_anchors": false,
   "latex_user_defs": false,
   "report_style_numbering": false,
   "user_envs_cfg": false
  },
  "nbTranslate": {
   "displayLangs": [
    "*"
   ],
   "hotkey": "alt-t",
   "langInMainMenu": true,
   "sourceLang": "en",
   "targetLang": "fr",
   "useGoogleTranslate": true
  },
  "toc": {
   "base_numbering": 1,
   "nav_menu": {},
   "number_sections": true,
   "sideBar": true,
   "skip_h1_title": false,
   "title_cell": "Table of Contents",
   "title_sidebar": "Contents",
   "toc_cell": true,
   "toc_position": {},
   "toc_section_display": true,
   "toc_window_display": false
  }
 },
 "nbformat": 4,
 "nbformat_minor": 5
}

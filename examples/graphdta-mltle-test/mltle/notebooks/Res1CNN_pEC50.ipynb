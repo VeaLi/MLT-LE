{
 "cells": [
  {
   "cell_type": "markdown",
   "metadata": {
    "id": "iCMd3In9QDJ8",
    "toc": true
   },
   "source": [
    "<h1>Table of Contents<span class=\"tocSkip\"></span></h1>\n",
    "<div class=\"toc\"><ul class=\"toc-item\"></ul></div>"
   ]
  },
  {
   "cell_type": "code",
   "execution_count": null,
   "metadata": {
    "ExecuteTime": {
     "end_time": "2022-07-21T14:11:04.305860Z",
     "start_time": "2022-07-21T14:10:36.259964Z"
    },
    "id": "L1JQ_tmpmljn"
   },
   "outputs": [],
   "source": [
    "import scikitplot as skplt\n",
    "from sklearn.metrics import mean_squared_error\n",
    "from lifelines.utils import concordance_index\n",
    "import matplotlib.pyplot as plt\n",
    "from scipy import stats\n",
    "import tensorflow_addons as tfa\n",
    "from keras import backend as K\n",
    "import tensorflow as tf"
   ]
  },
  {
   "cell_type": "code",
   "execution_count": null,
   "metadata": {
    "ExecuteTime": {
     "end_time": "2022-07-21T14:11:04.385861Z",
     "start_time": "2022-07-21T14:11:04.307864Z"
    },
    "id": "RaL8uTW7mod-"
   },
   "outputs": [],
   "source": [
    "from tqdm.keras import TqdmCallback\n",
    "from tqdm.auto import tqdm\n",
    "from collections import defaultdict\n",
    "import pandas as pd\n",
    "import numpy as np"
   ]
  },
  {
   "cell_type": "code",
   "execution_count": null,
   "metadata": {
    "ExecuteTime": {
     "end_time": "2022-07-21T14:11:06.691428Z",
     "start_time": "2022-07-21T14:11:04.389867Z"
    },
    "colab": {
     "base_uri": "https://localhost:8080/"
    },
    "id": "jq2gAVtompvn",
    "outputId": "10c851aa-249c-405f-db7d-59da1e2fee48"
   },
   "outputs": [],
   "source": [
    "import mltle as mlt"
   ]
  },
  {
   "cell_type": "code",
   "execution_count": null,
   "metadata": {
    "ExecuteTime": {
     "end_time": "2022-07-21T14:11:06.707428Z",
     "start_time": "2022-07-21T14:11:06.694431Z"
    },
    "id": "QNiJqzIPmq0e"
   },
   "outputs": [],
   "source": [
    "SEED = 7\n",
    "\n",
    "NUM_RES_BLOCKS = 1\n",
    "NUM_EPOCHS = 1000\n",
    "DISCOUNT = 0.9\n",
    "BATCH_SIZE = 1024\n",
    "\n",
    "data_path = '../data/data_pEC50/'\n",
    "data_type = 'pEC50'\n",
    "model_name = f'Res1CNN_{data_type}'"
   ]
  },
  {
   "cell_type": "code",
   "execution_count": null,
   "metadata": {
    "ExecuteTime": {
     "end_time": "2022-07-21T14:11:19.227537Z",
     "start_time": "2022-07-21T14:11:18.381077Z"
    },
    "colab": {
     "base_uri": "https://localhost:8080/"
    },
    "id": "kvAr8TtOmuh4",
    "outputId": "8699c43b-907f-4256-fdff-9002ce1c39c9"
   },
   "outputs": [],
   "source": [
    "tf.keras.backend.clear_session()\n",
    "np.random.seed(SEED)\n",
    "tf.random.set_seed(SEED)\n",
    "\n",
    "model = mlt.training.Model(drug_emb_size=128,\n",
    "                           protein_emb_size=64,\n",
    "                           max_drug_len=200,\n",
    "                           drug_alphabet_len=53,\n",
    "                           protein_alphabet_len=8006)\n",
    "\n",
    "order = ['pKi', 'pIC50', 'pKd', 'pEC50', 'is_active', 'qed', 'pH']\n",
    "loss_weights = [1.0] * len(order)\n",
    "\n",
    "variables = {}\n",
    "for var in order:\n",
    "    variables[var] = K.variable(0.0)\n",
    "\n",
    "LossCallback = mlt.training_utils.LossWithMemoryCallback(variables,\n",
    "                                                         discount=DISCOUNT,\n",
    "                                                         decay=0.8)\n",
    "\n",
    "uselosses = defaultdict(lambda: mlt.training_utils.mse_loss_wrapper)\n",
    "uselosses['is_active'] = 'binary_crossentropy'\n",
    "uselosses['qed'] = 'binary_crossentropy'\n",
    "\n",
    "for k, v in variables.items():\n",
    "    if k not in uselosses.keys():\n",
    "        uselosses[k] = uselosses[k](v)\n",
    "\n",
    "usemetrics = {\n",
    "    data_type: [tf.keras.metrics.mse, mlt.training_utils.cindex_score]\n",
    "}\n",
    "\n",
    "activations = defaultdict(lambda: 'linear')\n",
    "activations['is_active'] = 'sigmoid'\n",
    "activations['qed'] = 'sigmoid'\n",
    "\n",
    "initializer = tf.keras.initializers.VarianceScaling(scale=1.,\n",
    "                                                    mode='fan_in',\n",
    "                                                    distribution='normal',\n",
    "                                                    seed=SEED)\n",
    "optimizer = tfa.optimizers.Lookahead(tf.keras.optimizers.Nadam(),\n",
    "                                     sync_period=3)\n",
    "\n",
    "model = model.create_model(order=order,\n",
    "                           activations=activations,\n",
    "                           activation='relu',\n",
    "                           pooling_mode='max',\n",
    "                           num_res_blocks=NUM_RES_BLOCKS,\n",
    "                           units_per_head=64,\n",
    "                           units_per_layer=1024,\n",
    "                           dropout_rate=0.3,\n",
    "                           drug_kernel=(2, 3),\n",
    "                           protein_kernel=(7, 7),\n",
    "                           loss_weights=loss_weights,\n",
    "                           usemetrics=usemetrics,\n",
    "                           uselosses=uselosses,\n",
    "                           initializer=initializer,\n",
    "                           optimizer=optimizer,\n",
    "                           drug_strides_up=1,\n",
    "                           protein_strides_down=1,\n",
    "                           positional=False)"
   ]
  },
  {
   "cell_type": "code",
   "execution_count": null,
   "metadata": {
    "ExecuteTime": {
     "end_time": "2022-07-21T14:11:24.198736Z",
     "start_time": "2022-07-21T14:11:22.547402Z"
    },
    "colab": {
     "base_uri": "https://localhost:8080/",
     "height": 168
    },
    "id": "5xnix5Gmm8i6",
    "outputId": "7c6a8584-0af9-4313-ccda-570e8e1e187e"
   },
   "outputs": [],
   "source": [
    "tf.keras.utils.plot_model(model,\n",
    "                          rankdir='LR',\n",
    "                          show_shapes=True,\n",
    "                          show_layer_activations=True,\n",
    "                          dpi=96)"
   ]
  },
  {
   "cell_type": "code",
   "execution_count": null,
   "metadata": {
    "ExecuteTime": {
     "end_time": "2022-07-21T14:11:27.231197Z",
     "start_time": "2022-07-21T14:11:26.988382Z"
    },
    "colab": {
     "base_uri": "https://localhost:8080/",
     "height": 176
    },
    "id": "9O451AcGm9-6",
    "outputId": "6d16f40e-6117-4ddc-c957-2355d23d4f3f"
   },
   "outputs": [],
   "source": [
    "X_train = pd.read_csv(data_path + f\"data_human_agg05_{data_type}_train.csv\")[['smiles', 'target'] + order]\n",
    "X_valid = pd.read_csv(data_path + f\"data_human_agg05_{data_type}_valid.csv\")[['smiles', 'target'] + order]\n",
    "X_test = pd.read_csv(data_path + f\"data_human_agg05_{data_type}_test.csv\")[['smiles', 'target'] + order]\n",
    "X_train.head(2)"
   ]
  },
  {
   "cell_type": "code",
   "execution_count": null,
   "metadata": {
    "ExecuteTime": {
     "end_time": "2022-07-21T14:11:29.188241Z",
     "start_time": "2022-07-21T14:11:27.940165Z"
    },
    "colab": {
     "base_uri": "https://localhost:8080/",
     "height": 81,
     "referenced_widgets": [
      "8c73ebeda4864c61956d0b8a8b04c5fd",
      "a51f1201873644aaac470447d8220176",
      "d5d4f52159e84883abe19a502cf17fc0",
      "708e6c24cf644129895522e665070a2a",
      "601a89ac1f534de28bb209c3ee5ed615",
      "b063699aebb54bd0a558dec54f07e27b",
      "78c2f0105f1445b3974767ff2a054ccb",
      "0a6f308d3e3442558b43ed1882858a7c",
      "5f0e8d9d441b422b9b4ccd3140b53bde",
      "914274769abd44f69d85e133d5342032",
      "8e8793f25bde4342b936786e3e0ff5b2",
      "fbcf2dec4070465b88e4fe1f0226734e",
      "e4526f36444e4a298ab04cdd3c9d459e",
      "3af35c1ad2f5444eaf9e4a865c2cf152",
      "e454b3f132654914a4bc2d216a88902e",
      "7aa754456e4a48a289d8232edc4cd46e",
      "db5117d2d3654bf1a06248c899c74dc5",
      "872ad6e9eb7a411385b00cf118919d00",
      "1ad721fc0b0941f888fda422e9a85dca",
      "f938ee7226d94ed8850e0024c404f7c1",
      "c139bc4df76f4a6e83ca07638c6a6628",
      "7b42968c10844d4cb16b6b8f7999a79b"
     ]
    },
    "id": "YbMz7Ue1nQxo",
    "outputId": "9b928171-be75-4f57-c82b-494954caca7a"
   },
   "outputs": [],
   "source": [
    "mapseq = mlt.datamap.MapSeq(drug_mode='smiles_1',\n",
    "                            protein_mode='protein_3',\n",
    "                            max_drug_len=200,\n",
    "                            max_protein_len=1000)\n",
    "\n",
    "drug_seqs = np.hstack((X_train['smiles'].unique(), X_valid['smiles'].unique(), X_test['smiles'].unique()))\n",
    "protein_seqs = np.hstack((X_train['target'].unique(), X_valid['target'].unique(), X_test['target'].unique()))\n",
    "\n",
    "map_drug, map_protein = mapseq.create_maps(drug_seqs = drug_seqs, protein_seqs = protein_seqs)"
   ]
  },
  {
   "cell_type": "code",
   "execution_count": null,
   "metadata": {
    "ExecuteTime": {
     "end_time": "2022-07-21T14:11:29.830603Z",
     "start_time": "2022-07-21T14:11:29.812478Z"
    },
    "id": "MZQHgmxbnUNc"
   },
   "outputs": [],
   "source": [
    "batch_size = BATCH_SIZE\n",
    "\n",
    "train_gen = mlt.datagen.DataGen(X_train, map_drug, map_protein)\n",
    "train_gen = train_gen.get_generator(batch_size)\n",
    "\n",
    "valid_gen = mlt.datagen.DataGen(X_valid, map_drug, map_protein, shuffle=False)\n",
    "valid_gen = valid_gen.get_generator(batch_size)"
   ]
  },
  {
   "cell_type": "code",
   "execution_count": null,
   "metadata": {
    "ExecuteTime": {
     "end_time": "2022-07-21T14:11:30.484225Z",
     "start_time": "2022-07-21T14:11:30.467216Z"
    },
    "id": "sPIh58E9nV0d"
   },
   "outputs": [],
   "source": [
    "steps_per_epoch = X_train.shape[0] // batch_size\n",
    "valid_steps = X_valid.shape[0] // batch_size"
   ]
  },
  {
   "cell_type": "code",
   "execution_count": null,
   "metadata": {
    "ExecuteTime": {
     "end_time": "2022-07-21T14:11:30.973472Z",
     "start_time": "2022-07-21T14:11:30.955379Z"
    },
    "id": "VDyqk9wynXQ3"
   },
   "outputs": [],
   "source": [
    "best_model_path = f\"Best_{model_name}.h5\"\n",
    "CheckPointCallback = tf.keras.callbacks.ModelCheckpoint(best_model_path,\n",
    "                                                        monitor=f'val_{data_type}_mean_squared_error',\n",
    "                                                        verbose=1,\n",
    "                                                        save_best_only=True,\n",
    "                                                        mode='auto',\n",
    "                                                        save_weights_only=True)\n",
    "\n",
    "CSVLoggerCallback = tf.keras.callbacks.CSVLogger(f\"{model_name}.log\")"
   ]
  },
  {
   "cell_type": "code",
   "execution_count": null,
   "metadata": {
    "ExecuteTime": {
     "end_time": "2022-07-21T14:11:49.252396Z",
     "start_time": "2022-07-21T14:11:32.636572Z"
    },
    "colab": {
     "base_uri": "https://localhost:8080/",
     "height": 1000,
     "referenced_widgets": [
      "13eec6880ca34380a063459e5e4e8038",
      "88d29ef0c321480abe44c8fcce7e6b84",
      "3988f73749c942bd9d40853495f96070",
      "2e4d7d6638b344f9a21236a8480722b2",
      "32ac2d3747544349a234ec3d7f1fce10",
      "3bcc515bd3934c3ca3b683d510d98232",
      "feb154a7e1c84daf96acbe9869b28b3b",
      "400c5f46286e4bed9fcb2c75229fd1b6",
      "662ddbbb7cfe490c8493a6411a3375d9",
      "490cf52180c84b20a7cda539fc8307fe",
      "f05c581f4572407a91722b13b69d12ae",
      "e41effd5120744a69ba8bba550b7c1fe",
      "09fa370aa24140c3b6445a2e76cbb858",
      "7bd22f54922e4c60a6b936ff1eaef334",
      "0de9ad40157048df9c76061b59df9929",
      "f09e03eea73c4b9e8f1e5fce9fd16ba0",
      "c31e1ca7e1084927bec7c1c7eda65ce0",
      "d05ca14126cf4011a6b8280faea4ff9a",
      "66ff9f1e130645f4b5ce838998f4663c",
      "f7592a5f88ed4a858c81135fc258cc5e",
      "f730de0a0ac8461685a0a177c1068bed",
      "d21341e34c5e4d4ca067df6bfe5f6d2a"
     ]
    },
    "id": "uKaxFqmJnbPt",
    "outputId": "3b0c9091-67c1-4bb2-8e9a-e7df702dd904"
   },
   "outputs": [],
   "source": [
    "history = model.fit(train_gen,\n",
    "                    validation_data=valid_gen,\n",
    "                    steps_per_epoch=steps_per_epoch,\n",
    "                    validation_steps=valid_steps,\n",
    "                    verbose=0,\n",
    "                    callbacks=[TqdmCallback(), CheckPointCallback,\n",
    "                               LossCallback, CSVLoggerCallback],\n",
    "                    epochs=NUM_EPOCHS)"
   ]
  },
  {
   "cell_type": "code",
   "execution_count": null,
   "metadata": {
    "ExecuteTime": {
     "end_time": "2022-07-21T14:11:51.563222Z",
     "start_time": "2022-07-21T14:11:51.532231Z"
    },
    "colab": {
     "base_uri": "https://localhost:8080/"
    },
    "id": "oqxm9zZKnbp2",
    "outputId": "4b2c79bb-785e-4c82-888b-e9d491138fc3"
   },
   "outputs": [],
   "source": [
    "[f\"{k} : {float(v)}\" for k, v in variables.items()]"
   ]
  },
  {
   "cell_type": "code",
   "execution_count": null,
   "metadata": {
    "ExecuteTime": {
     "end_time": "2022-07-21T13:48:57.468204Z",
     "start_time": "2022-07-21T13:48:57.092690Z"
    },
    "id": "WZZsvikunc02"
   },
   "outputs": [],
   "source": [
    "model.load_weights(best_model_path)\n",
    "model.compile()\n",
    "model.save(f\"{model_name}.hdf5\")"
   ]
  },
  {
   "cell_type": "code",
   "execution_count": null,
   "metadata": {
    "ExecuteTime": {
     "end_time": "2022-07-18T12:43:06.089589Z",
     "start_time": "2022-07-18T12:43:05.101071Z"
    }
   },
   "outputs": [],
   "source": [
    "plt.plot(history.history[f'{data_type}_cindex_score'], label='train')\n",
    "plt.plot(history.history[f'val_{data_type}_cindex_score'], label='valid')\n",
    "plt.xlabel('Epoch')\n",
    "plt.title('CI on train-valid subsets')\n",
    "plt.legend()"
   ]
  },
  {
   "cell_type": "code",
   "execution_count": null,
   "metadata": {
    "ExecuteTime": {
     "end_time": "2022-07-18T12:43:06.309099Z",
     "start_time": "2022-07-18T12:43:06.098597Z"
    },
    "colab": {
     "base_uri": "https://localhost:8080/",
     "height": 312
    },
    "id": "GOoRtZv-neAe",
    "outputId": "57912ee2-4aae-452b-a135-42498ad928e5"
   },
   "outputs": [],
   "source": [
    "plt.plot(history.history['loss'], label='train')\n",
    "plt.plot(history.history['val_loss'], label='valid')\n",
    "plt.xlabel('Epoch')\n",
    "plt.title('Loss on train-valid subsets')\n",
    "plt.legend()"
   ]
  },
  {
   "cell_type": "code",
   "execution_count": null,
   "metadata": {
    "ExecuteTime": {
     "end_time": "2022-07-21T14:11:54.722986Z",
     "start_time": "2022-07-21T14:11:54.708984Z"
    },
    "colab": {
     "base_uri": "https://localhost:8080/"
    },
    "id": "jFS0yFZus6NW",
    "outputId": "ff8bb0bd-0bd0-4933-d2cf-87bf2bc9ffe0"
   },
   "outputs": [],
   "source": [
    "test_batch_size = mlt.training_utils.get_batch_size(X_test.shape[0])\n",
    "test_batch_size"
   ]
  },
  {
   "cell_type": "code",
   "execution_count": null,
   "metadata": {
    "ExecuteTime": {
     "end_time": "2022-07-21T14:11:55.192483Z",
     "start_time": "2022-07-21T14:11:55.176485Z"
    },
    "id": "82RcF7Y-s6NX"
   },
   "outputs": [],
   "source": [
    "test_gen = mlt.datagen.DataGen(X_test,\n",
    "                               map_drug,\n",
    "                               map_protein,\n",
    "                               shuffle=False,\n",
    "                               test_only=True)\n",
    "\n",
    "test_gen = test_gen.get_generator(test_batch_size)"
   ]
  },
  {
   "cell_type": "code",
   "execution_count": null,
   "metadata": {
    "ExecuteTime": {
     "end_time": "2022-07-21T14:15:04.761687Z",
     "start_time": "2022-07-21T14:11:56.013868Z"
    },
    "colab": {
     "base_uri": "https://localhost:8080/"
    },
    "id": "Ob18PB0_s6NX",
    "outputId": "65927305-a513-44ec-bd28-81681efd09e5"
   },
   "outputs": [],
   "source": [
    "prediction = model.predict(test_gen,\n",
    "                           steps=X_test.shape[0] // test_batch_size,\n",
    "                           verbose=1)"
   ]
  },
  {
   "cell_type": "code",
   "execution_count": null,
   "metadata": {
    "ExecuteTime": {
     "end_time": "2022-07-21T14:15:08.964414Z",
     "start_time": "2022-07-21T14:15:06.095975Z"
    },
    "colab": {
     "base_uri": "https://localhost:8080/",
     "height": 1000
    },
    "id": "7aENdtBes6NY",
    "outputId": "ae898c41-228c-47cc-d8fc-1b3545952209"
   },
   "outputs": [],
   "source": [
    "for k, col in enumerate(order):\n",
    "    try:\n",
    "        plt.scatter(X_test[col], prediction[k], alpha=0.7, c='k')\n",
    "        plt.xlabel('true')\n",
    "        plt.ylabel('predicted')\n",
    "        y_true = X_test[col][X_test[col].notna()]\n",
    "        y_pred = prediction[k][X_test[col].notna()].ravel()\n",
    "        plt.title(col + \":\\n\" + mlt.training_utils.get_scores(y_true, y_pred))\n",
    "        plt.show()\n",
    "    except ValueError as e:\n",
    "        print(f'Empty set test set for: {col}, values sum = {X_test[col].sum()}')"
   ]
  },
  {
   "cell_type": "code",
   "execution_count": null,
   "metadata": {
    "ExecuteTime": {
     "end_time": "2022-07-21T14:15:15.481296Z",
     "start_time": "2022-07-21T14:15:15.475292Z"
    },
    "id": "EYAqgwMNs6NZ"
   },
   "outputs": [],
   "source": [
    "P = prediction[order.index(data_type)].ravel().tolist()\n",
    "G = X_test[data_type].values.tolist()"
   ]
  },
  {
   "cell_type": "code",
   "execution_count": null,
   "metadata": {
    "ExecuteTime": {
     "end_time": "2022-07-21T14:15:16.059051Z",
     "start_time": "2022-07-21T14:15:16.019962Z"
    }
   },
   "outputs": [],
   "source": [
    "with open(f'test_{data_type}_{model_name}.csv', 'w', encoding='utf-8') as f:\n",
    "    f.write('true, pred\\n')\n",
    "    for g, p in zip(G, P):\n",
    "        f.write(f\"{g},{p}\\n\")"
   ]
  }
 ],
 "metadata": {
  "accelerator": "GPU",
  "colab": {
   "collapsed_sections": [],
   "name": "Res1_9_gcn78_4.ipynb",
   "provenance": []
  },
  "kernelspec": {
   "display_name": "Python 3",
   "language": "python",
   "name": "python3"
  },
  "language_info": {
   "codemirror_mode": {
    "name": "ipython",
    "version": 3
   },
   "file_extension": ".py",
   "mimetype": "text/x-python",
   "name": "python",
   "nbconvert_exporter": "python",
   "pygments_lexer": "ipython3",
   "version": "3.8.8"
  },
  "latex_envs": {
   "LaTeX_envs_menu_present": true,
   "autoclose": false,
   "autocomplete": true,
   "bibliofile": "biblio.bib",
   "cite_by": "apalike",
   "current_citInitial": 1,
   "eqLabelWithNumbers": true,
   "eqNumInitial": 1,
   "hotkeys": {
    "equation": "Ctrl-E",
    "itemize": "Ctrl-I"
   },
   "labels_anchors": false,
   "latex_user_defs": false,
   "report_style_numbering": false,
   "user_envs_cfg": false
  },
  "nbTranslate": {
   "displayLangs": [
    "*"
   ],
   "hotkey": "alt-t",
   "langInMainMenu": true,
   "sourceLang": "en",
   "targetLang": "fr",
   "useGoogleTranslate": true
  },
  "toc": {
   "base_numbering": 1,
   "nav_menu": {},
   "number_sections": true,
   "sideBar": true,
   "skip_h1_title": false,
   "title_cell": "Table of Contents",
   "title_sidebar": "Contents",
   "toc_cell": true,
   "toc_position": {},
   "toc_section_display": true,
   "toc_window_display": false
  },
  "widgets": {
   "application/vnd.jupyter.widget-state+json": {
    "09fa370aa24140c3b6445a2e76cbb858": {
     "model_module": "@jupyter-widgets/controls",
     "model_module_version": "1.5.0",
     "model_name": "HTMLModel",
     "state": {
      "_dom_classes": [],
      "_model_module": "@jupyter-widgets/controls",
      "_model_module_version": "1.5.0",
      "_model_name": "HTMLModel",
      "_view_count": null,
      "_view_module": "@jupyter-widgets/controls",
      "_view_module_version": "1.5.0",
      "_view_name": "HTMLView",
      "description": "",
      "description_tooltip": null,
      "layout": "IPY_MODEL_c31e1ca7e1084927bec7c1c7eda65ce0",
      "placeholder": "​",
      "style": "IPY_MODEL_d05ca14126cf4011a6b8280faea4ff9a",
      "value": " 16%"
     }
    },
    "0a6f308d3e3442558b43ed1882858a7c": {
     "model_module": "@jupyter-widgets/base",
     "model_module_version": "1.2.0",
     "model_name": "LayoutModel",
     "state": {
      "_model_module": "@jupyter-widgets/base",
      "_model_module_version": "1.2.0",
      "_model_name": "LayoutModel",
      "_view_count": null,
      "_view_module": "@jupyter-widgets/base",
      "_view_module_version": "1.2.0",
      "_view_name": "LayoutView",
      "align_content": null,
      "align_items": null,
      "align_self": null,
      "border": null,
      "bottom": null,
      "display": null,
      "flex": null,
      "flex_flow": null,
      "grid_area": null,
      "grid_auto_columns": null,
      "grid_auto_flow": null,
      "grid_auto_rows": null,
      "grid_column": null,
      "grid_gap": null,
      "grid_row": null,
      "grid_template_areas": null,
      "grid_template_columns": null,
      "grid_template_rows": null,
      "height": null,
      "justify_content": null,
      "justify_items": null,
      "left": null,
      "margin": null,
      "max_height": null,
      "max_width": null,
      "min_height": null,
      "min_width": null,
      "object_fit": null,
      "object_position": null,
      "order": null,
      "overflow": null,
      "overflow_x": null,
      "overflow_y": null,
      "padding": null,
      "right": null,
      "top": null,
      "visibility": null,
      "width": null
     }
    },
    "0de9ad40157048df9c76061b59df9929": {
     "model_module": "@jupyter-widgets/controls",
     "model_module_version": "1.5.0",
     "model_name": "HTMLModel",
     "state": {
      "_dom_classes": [],
      "_model_module": "@jupyter-widgets/controls",
      "_model_module_version": "1.5.0",
      "_model_name": "HTMLModel",
      "_view_count": null,
      "_view_module": "@jupyter-widgets/controls",
      "_view_module_version": "1.5.0",
      "_view_name": "HTMLView",
      "description": "",
      "description_tooltip": null,
      "layout": "IPY_MODEL_f730de0a0ac8461685a0a177c1068bed",
      "placeholder": "​",
      "style": "IPY_MODEL_d21341e34c5e4d4ca067df6bfe5f6d2a",
      "value": " 4.00/25.0 [00:01&lt;00:10, 2.09batch/s, loss=2.2, pKd_loss=1.09, pKi_loss=0.00541, pIC50_loss=0.00728, pEC50_loss=1.59e-18, is_active_loss=0.424, qed_loss=0.639, pH_loss=0.0325, pKd_mean_squared_error=1.09, pKd_cindex_score=0.764]"
     }
    },
    "13eec6880ca34380a063459e5e4e8038": {
     "model_module": "@jupyter-widgets/controls",
     "model_module_version": "1.5.0",
     "model_name": "HBoxModel",
     "state": {
      "_dom_classes": [],
      "_model_module": "@jupyter-widgets/controls",
      "_model_module_version": "1.5.0",
      "_model_name": "HBoxModel",
      "_view_count": null,
      "_view_module": "@jupyter-widgets/controls",
      "_view_module_version": "1.5.0",
      "_view_name": "HBoxView",
      "box_style": "",
      "children": [
       "IPY_MODEL_88d29ef0c321480abe44c8fcce7e6b84",
       "IPY_MODEL_3988f73749c942bd9d40853495f96070",
       "IPY_MODEL_2e4d7d6638b344f9a21236a8480722b2"
      ],
      "layout": "IPY_MODEL_32ac2d3747544349a234ec3d7f1fce10"
     }
    },
    "1ad721fc0b0941f888fda422e9a85dca": {
     "model_module": "@jupyter-widgets/base",
     "model_module_version": "1.2.0",
     "model_name": "LayoutModel",
     "state": {
      "_model_module": "@jupyter-widgets/base",
      "_model_module_version": "1.2.0",
      "_model_name": "LayoutModel",
      "_view_count": null,
      "_view_module": "@jupyter-widgets/base",
      "_view_module_version": "1.2.0",
      "_view_name": "LayoutView",
      "align_content": null,
      "align_items": null,
      "align_self": null,
      "border": null,
      "bottom": null,
      "display": null,
      "flex": null,
      "flex_flow": null,
      "grid_area": null,
      "grid_auto_columns": null,
      "grid_auto_flow": null,
      "grid_auto_rows": null,
      "grid_column": null,
      "grid_gap": null,
      "grid_row": null,
      "grid_template_areas": null,
      "grid_template_columns": null,
      "grid_template_rows": null,
      "height": null,
      "justify_content": null,
      "justify_items": null,
      "left": null,
      "margin": null,
      "max_height": null,
      "max_width": null,
      "min_height": null,
      "min_width": null,
      "object_fit": null,
      "object_position": null,
      "order": null,
      "overflow": null,
      "overflow_x": null,
      "overflow_y": null,
      "padding": null,
      "right": null,
      "top": null,
      "visibility": null,
      "width": null
     }
    },
    "2e4d7d6638b344f9a21236a8480722b2": {
     "model_module": "@jupyter-widgets/controls",
     "model_module_version": "1.5.0",
     "model_name": "HTMLModel",
     "state": {
      "_dom_classes": [],
      "_model_module": "@jupyter-widgets/controls",
      "_model_module_version": "1.5.0",
      "_model_name": "HTMLModel",
      "_view_count": null,
      "_view_module": "@jupyter-widgets/controls",
      "_view_module_version": "1.5.0",
      "_view_name": "HTMLView",
      "description": "",
      "description_tooltip": null,
      "layout": "IPY_MODEL_490cf52180c84b20a7cda539fc8307fe",
      "placeholder": "​",
      "style": "IPY_MODEL_f05c581f4572407a91722b13b69d12ae",
      "value": " 77/100 [29:01&lt;08:22, 21.87s/epoch, loss=2.04, pKd_loss=0.97, pKi_loss=0.00168, pIC50_loss=0.000993, pEC50_loss=0.00422, is_active_loss=0.406, qed_loss=0.635, pH_loss=0.0254, pKd_mean_squared_error=0.97, pKd_cindex_score=0.774, val_loss=4.61, val_pKd_loss=3.21, val_pKi_loss=1.36e-5, val_pIC50_loss=0.00591, val_pEC50_loss=0.000808, val_is_active_loss=0.631, val_qed_loss=0.637, val_pH_loss=0.125, val_pKd_mean_squared_error=3.21, val_pKd_cindex_score=0.708]"
     }
    },
    "32ac2d3747544349a234ec3d7f1fce10": {
     "model_module": "@jupyter-widgets/base",
     "model_module_version": "1.2.0",
     "model_name": "LayoutModel",
     "state": {
      "_model_module": "@jupyter-widgets/base",
      "_model_module_version": "1.2.0",
      "_model_name": "LayoutModel",
      "_view_count": null,
      "_view_module": "@jupyter-widgets/base",
      "_view_module_version": "1.2.0",
      "_view_name": "LayoutView",
      "align_content": null,
      "align_items": null,
      "align_self": null,
      "border": null,
      "bottom": null,
      "display": null,
      "flex": null,
      "flex_flow": null,
      "grid_area": null,
      "grid_auto_columns": null,
      "grid_auto_flow": null,
      "grid_auto_rows": null,
      "grid_column": null,
      "grid_gap": null,
      "grid_row": null,
      "grid_template_areas": null,
      "grid_template_columns": null,
      "grid_template_rows": null,
      "height": null,
      "justify_content": null,
      "justify_items": null,
      "left": null,
      "margin": null,
      "max_height": null,
      "max_width": null,
      "min_height": null,
      "min_width": null,
      "object_fit": null,
      "object_position": null,
      "order": null,
      "overflow": null,
      "overflow_x": null,
      "overflow_y": null,
      "padding": null,
      "right": null,
      "top": null,
      "visibility": null,
      "width": null
     }
    },
    "3988f73749c942bd9d40853495f96070": {
     "model_module": "@jupyter-widgets/controls",
     "model_module_version": "1.5.0",
     "model_name": "FloatProgressModel",
     "state": {
      "_dom_classes": [],
      "_model_module": "@jupyter-widgets/controls",
      "_model_module_version": "1.5.0",
      "_model_name": "FloatProgressModel",
      "_view_count": null,
      "_view_module": "@jupyter-widgets/controls",
      "_view_module_version": "1.5.0",
      "_view_name": "ProgressView",
      "bar_style": "",
      "description": "",
      "description_tooltip": null,
      "layout": "IPY_MODEL_400c5f46286e4bed9fcb2c75229fd1b6",
      "max": 100,
      "min": 0,
      "orientation": "horizontal",
      "style": "IPY_MODEL_662ddbbb7cfe490c8493a6411a3375d9",
      "value": 77
     }
    },
    "3af35c1ad2f5444eaf9e4a865c2cf152": {
     "model_module": "@jupyter-widgets/controls",
     "model_module_version": "1.5.0",
     "model_name": "FloatProgressModel",
     "state": {
      "_dom_classes": [],
      "_model_module": "@jupyter-widgets/controls",
      "_model_module_version": "1.5.0",
      "_model_name": "FloatProgressModel",
      "_view_count": null,
      "_view_module": "@jupyter-widgets/controls",
      "_view_module_version": "1.5.0",
      "_view_name": "ProgressView",
      "bar_style": "success",
      "description": "",
      "description_tooltip": null,
      "layout": "IPY_MODEL_1ad721fc0b0941f888fda422e9a85dca",
      "max": 1977,
      "min": 0,
      "orientation": "horizontal",
      "style": "IPY_MODEL_f938ee7226d94ed8850e0024c404f7c1",
      "value": 1977
     }
    },
    "3bcc515bd3934c3ca3b683d510d98232": {
     "model_module": "@jupyter-widgets/base",
     "model_module_version": "1.2.0",
     "model_name": "LayoutModel",
     "state": {
      "_model_module": "@jupyter-widgets/base",
      "_model_module_version": "1.2.0",
      "_model_name": "LayoutModel",
      "_view_count": null,
      "_view_module": "@jupyter-widgets/base",
      "_view_module_version": "1.2.0",
      "_view_name": "LayoutView",
      "align_content": null,
      "align_items": null,
      "align_self": null,
      "border": null,
      "bottom": null,
      "display": null,
      "flex": null,
      "flex_flow": null,
      "grid_area": null,
      "grid_auto_columns": null,
      "grid_auto_flow": null,
      "grid_auto_rows": null,
      "grid_column": null,
      "grid_gap": null,
      "grid_row": null,
      "grid_template_areas": null,
      "grid_template_columns": null,
      "grid_template_rows": null,
      "height": null,
      "justify_content": null,
      "justify_items": null,
      "left": null,
      "margin": null,
      "max_height": null,
      "max_width": null,
      "min_height": null,
      "min_width": null,
      "object_fit": null,
      "object_position": null,
      "order": null,
      "overflow": null,
      "overflow_x": null,
      "overflow_y": null,
      "padding": null,
      "right": null,
      "top": null,
      "visibility": null,
      "width": null
     }
    },
    "400c5f46286e4bed9fcb2c75229fd1b6": {
     "model_module": "@jupyter-widgets/base",
     "model_module_version": "1.2.0",
     "model_name": "LayoutModel",
     "state": {
      "_model_module": "@jupyter-widgets/base",
      "_model_module_version": "1.2.0",
      "_model_name": "LayoutModel",
      "_view_count": null,
      "_view_module": "@jupyter-widgets/base",
      "_view_module_version": "1.2.0",
      "_view_name": "LayoutView",
      "align_content": null,
      "align_items": null,
      "align_self": null,
      "border": null,
      "bottom": null,
      "display": null,
      "flex": null,
      "flex_flow": null,
      "grid_area": null,
      "grid_auto_columns": null,
      "grid_auto_flow": null,
      "grid_auto_rows": null,
      "grid_column": null,
      "grid_gap": null,
      "grid_row": null,
      "grid_template_areas": null,
      "grid_template_columns": null,
      "grid_template_rows": null,
      "height": null,
      "justify_content": null,
      "justify_items": null,
      "left": null,
      "margin": null,
      "max_height": null,
      "max_width": null,
      "min_height": null,
      "min_width": null,
      "object_fit": null,
      "object_position": null,
      "order": null,
      "overflow": null,
      "overflow_x": null,
      "overflow_y": null,
      "padding": null,
      "right": null,
      "top": null,
      "visibility": null,
      "width": null
     }
    },
    "490cf52180c84b20a7cda539fc8307fe": {
     "model_module": "@jupyter-widgets/base",
     "model_module_version": "1.2.0",
     "model_name": "LayoutModel",
     "state": {
      "_model_module": "@jupyter-widgets/base",
      "_model_module_version": "1.2.0",
      "_model_name": "LayoutModel",
      "_view_count": null,
      "_view_module": "@jupyter-widgets/base",
      "_view_module_version": "1.2.0",
      "_view_name": "LayoutView",
      "align_content": null,
      "align_items": null,
      "align_self": null,
      "border": null,
      "bottom": null,
      "display": null,
      "flex": null,
      "flex_flow": null,
      "grid_area": null,
      "grid_auto_columns": null,
      "grid_auto_flow": null,
      "grid_auto_rows": null,
      "grid_column": null,
      "grid_gap": null,
      "grid_row": null,
      "grid_template_areas": null,
      "grid_template_columns": null,
      "grid_template_rows": null,
      "height": null,
      "justify_content": null,
      "justify_items": null,
      "left": null,
      "margin": null,
      "max_height": null,
      "max_width": null,
      "min_height": null,
      "min_width": null,
      "object_fit": null,
      "object_position": null,
      "order": null,
      "overflow": null,
      "overflow_x": null,
      "overflow_y": null,
      "padding": null,
      "right": null,
      "top": null,
      "visibility": null,
      "width": null
     }
    },
    "5f0e8d9d441b422b9b4ccd3140b53bde": {
     "model_module": "@jupyter-widgets/controls",
     "model_module_version": "1.5.0",
     "model_name": "ProgressStyleModel",
     "state": {
      "_model_module": "@jupyter-widgets/controls",
      "_model_module_version": "1.5.0",
      "_model_name": "ProgressStyleModel",
      "_view_count": null,
      "_view_module": "@jupyter-widgets/base",
      "_view_module_version": "1.2.0",
      "_view_name": "StyleView",
      "bar_color": null,
      "description_width": ""
     }
    },
    "601a89ac1f534de28bb209c3ee5ed615": {
     "model_module": "@jupyter-widgets/base",
     "model_module_version": "1.2.0",
     "model_name": "LayoutModel",
     "state": {
      "_model_module": "@jupyter-widgets/base",
      "_model_module_version": "1.2.0",
      "_model_name": "LayoutModel",
      "_view_count": null,
      "_view_module": "@jupyter-widgets/base",
      "_view_module_version": "1.2.0",
      "_view_name": "LayoutView",
      "align_content": null,
      "align_items": null,
      "align_self": null,
      "border": null,
      "bottom": null,
      "display": null,
      "flex": null,
      "flex_flow": null,
      "grid_area": null,
      "grid_auto_columns": null,
      "grid_auto_flow": null,
      "grid_auto_rows": null,
      "grid_column": null,
      "grid_gap": null,
      "grid_row": null,
      "grid_template_areas": null,
      "grid_template_columns": null,
      "grid_template_rows": null,
      "height": null,
      "justify_content": null,
      "justify_items": null,
      "left": null,
      "margin": null,
      "max_height": null,
      "max_width": null,
      "min_height": null,
      "min_width": null,
      "object_fit": null,
      "object_position": null,
      "order": null,
      "overflow": null,
      "overflow_x": null,
      "overflow_y": null,
      "padding": null,
      "right": null,
      "top": null,
      "visibility": null,
      "width": null
     }
    },
    "662ddbbb7cfe490c8493a6411a3375d9": {
     "model_module": "@jupyter-widgets/controls",
     "model_module_version": "1.5.0",
     "model_name": "ProgressStyleModel",
     "state": {
      "_model_module": "@jupyter-widgets/controls",
      "_model_module_version": "1.5.0",
      "_model_name": "ProgressStyleModel",
      "_view_count": null,
      "_view_module": "@jupyter-widgets/base",
      "_view_module_version": "1.2.0",
      "_view_name": "StyleView",
      "bar_color": null,
      "description_width": ""
     }
    },
    "66ff9f1e130645f4b5ce838998f4663c": {
     "model_module": "@jupyter-widgets/base",
     "model_module_version": "1.2.0",
     "model_name": "LayoutModel",
     "state": {
      "_model_module": "@jupyter-widgets/base",
      "_model_module_version": "1.2.0",
      "_model_name": "LayoutModel",
      "_view_count": null,
      "_view_module": "@jupyter-widgets/base",
      "_view_module_version": "1.2.0",
      "_view_name": "LayoutView",
      "align_content": null,
      "align_items": null,
      "align_self": null,
      "border": null,
      "bottom": null,
      "display": null,
      "flex": null,
      "flex_flow": null,
      "grid_area": null,
      "grid_auto_columns": null,
      "grid_auto_flow": null,
      "grid_auto_rows": null,
      "grid_column": null,
      "grid_gap": null,
      "grid_row": null,
      "grid_template_areas": null,
      "grid_template_columns": null,
      "grid_template_rows": null,
      "height": null,
      "justify_content": null,
      "justify_items": null,
      "left": null,
      "margin": null,
      "max_height": null,
      "max_width": null,
      "min_height": null,
      "min_width": null,
      "object_fit": null,
      "object_position": null,
      "order": null,
      "overflow": null,
      "overflow_x": null,
      "overflow_y": null,
      "padding": null,
      "right": null,
      "top": null,
      "visibility": null,
      "width": null
     }
    },
    "708e6c24cf644129895522e665070a2a": {
     "model_module": "@jupyter-widgets/controls",
     "model_module_version": "1.5.0",
     "model_name": "HTMLModel",
     "state": {
      "_dom_classes": [],
      "_model_module": "@jupyter-widgets/controls",
      "_model_module_version": "1.5.0",
      "_model_name": "HTMLModel",
      "_view_count": null,
      "_view_module": "@jupyter-widgets/controls",
      "_view_module_version": "1.5.0",
      "_view_name": "HTMLView",
      "description": "",
      "description_tooltip": null,
      "layout": "IPY_MODEL_914274769abd44f69d85e133d5342032",
      "placeholder": "​",
      "style": "IPY_MODEL_8e8793f25bde4342b936786e3e0ff5b2",
      "value": " 10300/10300 [01:10&lt;00:00, 184.96it/s]"
     }
    },
    "78c2f0105f1445b3974767ff2a054ccb": {
     "model_module": "@jupyter-widgets/controls",
     "model_module_version": "1.5.0",
     "model_name": "DescriptionStyleModel",
     "state": {
      "_model_module": "@jupyter-widgets/controls",
      "_model_module_version": "1.5.0",
      "_model_name": "DescriptionStyleModel",
      "_view_count": null,
      "_view_module": "@jupyter-widgets/base",
      "_view_module_version": "1.2.0",
      "_view_name": "StyleView",
      "description_width": ""
     }
    },
    "7aa754456e4a48a289d8232edc4cd46e": {
     "model_module": "@jupyter-widgets/base",
     "model_module_version": "1.2.0",
     "model_name": "LayoutModel",
     "state": {
      "_model_module": "@jupyter-widgets/base",
      "_model_module_version": "1.2.0",
      "_model_name": "LayoutModel",
      "_view_count": null,
      "_view_module": "@jupyter-widgets/base",
      "_view_module_version": "1.2.0",
      "_view_name": "LayoutView",
      "align_content": null,
      "align_items": null,
      "align_self": null,
      "border": null,
      "bottom": null,
      "display": null,
      "flex": null,
      "flex_flow": null,
      "grid_area": null,
      "grid_auto_columns": null,
      "grid_auto_flow": null,
      "grid_auto_rows": null,
      "grid_column": null,
      "grid_gap": null,
      "grid_row": null,
      "grid_template_areas": null,
      "grid_template_columns": null,
      "grid_template_rows": null,
      "height": null,
      "justify_content": null,
      "justify_items": null,
      "left": null,
      "margin": null,
      "max_height": null,
      "max_width": null,
      "min_height": null,
      "min_width": null,
      "object_fit": null,
      "object_position": null,
      "order": null,
      "overflow": null,
      "overflow_x": null,
      "overflow_y": null,
      "padding": null,
      "right": null,
      "top": null,
      "visibility": null,
      "width": null
     }
    },
    "7b42968c10844d4cb16b6b8f7999a79b": {
     "model_module": "@jupyter-widgets/controls",
     "model_module_version": "1.5.0",
     "model_name": "DescriptionStyleModel",
     "state": {
      "_model_module": "@jupyter-widgets/controls",
      "_model_module_version": "1.5.0",
      "_model_name": "DescriptionStyleModel",
      "_view_count": null,
      "_view_module": "@jupyter-widgets/base",
      "_view_module_version": "1.2.0",
      "_view_name": "StyleView",
      "description_width": ""
     }
    },
    "7bd22f54922e4c60a6b936ff1eaef334": {
     "model_module": "@jupyter-widgets/controls",
     "model_module_version": "1.5.0",
     "model_name": "FloatProgressModel",
     "state": {
      "_dom_classes": [],
      "_model_module": "@jupyter-widgets/controls",
      "_model_module_version": "1.5.0",
      "_model_name": "FloatProgressModel",
      "_view_count": null,
      "_view_module": "@jupyter-widgets/controls",
      "_view_module_version": "1.5.0",
      "_view_name": "ProgressView",
      "bar_style": "",
      "description": "",
      "description_tooltip": null,
      "layout": "IPY_MODEL_66ff9f1e130645f4b5ce838998f4663c",
      "max": 25,
      "min": 0,
      "orientation": "horizontal",
      "style": "IPY_MODEL_f7592a5f88ed4a858c81135fc258cc5e",
      "value": 4
     }
    },
    "872ad6e9eb7a411385b00cf118919d00": {
     "model_module": "@jupyter-widgets/controls",
     "model_module_version": "1.5.0",
     "model_name": "DescriptionStyleModel",
     "state": {
      "_model_module": "@jupyter-widgets/controls",
      "_model_module_version": "1.5.0",
      "_model_name": "DescriptionStyleModel",
      "_view_count": null,
      "_view_module": "@jupyter-widgets/base",
      "_view_module_version": "1.2.0",
      "_view_name": "StyleView",
      "description_width": ""
     }
    },
    "88d29ef0c321480abe44c8fcce7e6b84": {
     "model_module": "@jupyter-widgets/controls",
     "model_module_version": "1.5.0",
     "model_name": "HTMLModel",
     "state": {
      "_dom_classes": [],
      "_model_module": "@jupyter-widgets/controls",
      "_model_module_version": "1.5.0",
      "_model_name": "HTMLModel",
      "_view_count": null,
      "_view_module": "@jupyter-widgets/controls",
      "_view_module_version": "1.5.0",
      "_view_name": "HTMLView",
      "description": "",
      "description_tooltip": null,
      "layout": "IPY_MODEL_3bcc515bd3934c3ca3b683d510d98232",
      "placeholder": "​",
      "style": "IPY_MODEL_feb154a7e1c84daf96acbe9869b28b3b",
      "value": " 77%"
     }
    },
    "8c73ebeda4864c61956d0b8a8b04c5fd": {
     "model_module": "@jupyter-widgets/controls",
     "model_module_version": "1.5.0",
     "model_name": "HBoxModel",
     "state": {
      "_dom_classes": [],
      "_model_module": "@jupyter-widgets/controls",
      "_model_module_version": "1.5.0",
      "_model_name": "HBoxModel",
      "_view_count": null,
      "_view_module": "@jupyter-widgets/controls",
      "_view_module_version": "1.5.0",
      "_view_name": "HBoxView",
      "box_style": "",
      "children": [
       "IPY_MODEL_a51f1201873644aaac470447d8220176",
       "IPY_MODEL_d5d4f52159e84883abe19a502cf17fc0",
       "IPY_MODEL_708e6c24cf644129895522e665070a2a"
      ],
      "layout": "IPY_MODEL_601a89ac1f534de28bb209c3ee5ed615"
     }
    },
    "8e8793f25bde4342b936786e3e0ff5b2": {
     "model_module": "@jupyter-widgets/controls",
     "model_module_version": "1.5.0",
     "model_name": "DescriptionStyleModel",
     "state": {
      "_model_module": "@jupyter-widgets/controls",
      "_model_module_version": "1.5.0",
      "_model_name": "DescriptionStyleModel",
      "_view_count": null,
      "_view_module": "@jupyter-widgets/base",
      "_view_module_version": "1.2.0",
      "_view_name": "StyleView",
      "description_width": ""
     }
    },
    "914274769abd44f69d85e133d5342032": {
     "model_module": "@jupyter-widgets/base",
     "model_module_version": "1.2.0",
     "model_name": "LayoutModel",
     "state": {
      "_model_module": "@jupyter-widgets/base",
      "_model_module_version": "1.2.0",
      "_model_name": "LayoutModel",
      "_view_count": null,
      "_view_module": "@jupyter-widgets/base",
      "_view_module_version": "1.2.0",
      "_view_name": "LayoutView",
      "align_content": null,
      "align_items": null,
      "align_self": null,
      "border": null,
      "bottom": null,
      "display": null,
      "flex": null,
      "flex_flow": null,
      "grid_area": null,
      "grid_auto_columns": null,
      "grid_auto_flow": null,
      "grid_auto_rows": null,
      "grid_column": null,
      "grid_gap": null,
      "grid_row": null,
      "grid_template_areas": null,
      "grid_template_columns": null,
      "grid_template_rows": null,
      "height": null,
      "justify_content": null,
      "justify_items": null,
      "left": null,
      "margin": null,
      "max_height": null,
      "max_width": null,
      "min_height": null,
      "min_width": null,
      "object_fit": null,
      "object_position": null,
      "order": null,
      "overflow": null,
      "overflow_x": null,
      "overflow_y": null,
      "padding": null,
      "right": null,
      "top": null,
      "visibility": null,
      "width": null
     }
    },
    "a51f1201873644aaac470447d8220176": {
     "model_module": "@jupyter-widgets/controls",
     "model_module_version": "1.5.0",
     "model_name": "HTMLModel",
     "state": {
      "_dom_classes": [],
      "_model_module": "@jupyter-widgets/controls",
      "_model_module_version": "1.5.0",
      "_model_name": "HTMLModel",
      "_view_count": null,
      "_view_module": "@jupyter-widgets/controls",
      "_view_module_version": "1.5.0",
      "_view_name": "HTMLView",
      "description": "",
      "description_tooltip": null,
      "layout": "IPY_MODEL_b063699aebb54bd0a558dec54f07e27b",
      "placeholder": "​",
      "style": "IPY_MODEL_78c2f0105f1445b3974767ff2a054ccb",
      "value": "100%"
     }
    },
    "b063699aebb54bd0a558dec54f07e27b": {
     "model_module": "@jupyter-widgets/base",
     "model_module_version": "1.2.0",
     "model_name": "LayoutModel",
     "state": {
      "_model_module": "@jupyter-widgets/base",
      "_model_module_version": "1.2.0",
      "_model_name": "LayoutModel",
      "_view_count": null,
      "_view_module": "@jupyter-widgets/base",
      "_view_module_version": "1.2.0",
      "_view_name": "LayoutView",
      "align_content": null,
      "align_items": null,
      "align_self": null,
      "border": null,
      "bottom": null,
      "display": null,
      "flex": null,
      "flex_flow": null,
      "grid_area": null,
      "grid_auto_columns": null,
      "grid_auto_flow": null,
      "grid_auto_rows": null,
      "grid_column": null,
      "grid_gap": null,
      "grid_row": null,
      "grid_template_areas": null,
      "grid_template_columns": null,
      "grid_template_rows": null,
      "height": null,
      "justify_content": null,
      "justify_items": null,
      "left": null,
      "margin": null,
      "max_height": null,
      "max_width": null,
      "min_height": null,
      "min_width": null,
      "object_fit": null,
      "object_position": null,
      "order": null,
      "overflow": null,
      "overflow_x": null,
      "overflow_y": null,
      "padding": null,
      "right": null,
      "top": null,
      "visibility": null,
      "width": null
     }
    },
    "c139bc4df76f4a6e83ca07638c6a6628": {
     "model_module": "@jupyter-widgets/base",
     "model_module_version": "1.2.0",
     "model_name": "LayoutModel",
     "state": {
      "_model_module": "@jupyter-widgets/base",
      "_model_module_version": "1.2.0",
      "_model_name": "LayoutModel",
      "_view_count": null,
      "_view_module": "@jupyter-widgets/base",
      "_view_module_version": "1.2.0",
      "_view_name": "LayoutView",
      "align_content": null,
      "align_items": null,
      "align_self": null,
      "border": null,
      "bottom": null,
      "display": null,
      "flex": null,
      "flex_flow": null,
      "grid_area": null,
      "grid_auto_columns": null,
      "grid_auto_flow": null,
      "grid_auto_rows": null,
      "grid_column": null,
      "grid_gap": null,
      "grid_row": null,
      "grid_template_areas": null,
      "grid_template_columns": null,
      "grid_template_rows": null,
      "height": null,
      "justify_content": null,
      "justify_items": null,
      "left": null,
      "margin": null,
      "max_height": null,
      "max_width": null,
      "min_height": null,
      "min_width": null,
      "object_fit": null,
      "object_position": null,
      "order": null,
      "overflow": null,
      "overflow_x": null,
      "overflow_y": null,
      "padding": null,
      "right": null,
      "top": null,
      "visibility": null,
      "width": null
     }
    },
    "c31e1ca7e1084927bec7c1c7eda65ce0": {
     "model_module": "@jupyter-widgets/base",
     "model_module_version": "1.2.0",
     "model_name": "LayoutModel",
     "state": {
      "_model_module": "@jupyter-widgets/base",
      "_model_module_version": "1.2.0",
      "_model_name": "LayoutModel",
      "_view_count": null,
      "_view_module": "@jupyter-widgets/base",
      "_view_module_version": "1.2.0",
      "_view_name": "LayoutView",
      "align_content": null,
      "align_items": null,
      "align_self": null,
      "border": null,
      "bottom": null,
      "display": null,
      "flex": null,
      "flex_flow": null,
      "grid_area": null,
      "grid_auto_columns": null,
      "grid_auto_flow": null,
      "grid_auto_rows": null,
      "grid_column": null,
      "grid_gap": null,
      "grid_row": null,
      "grid_template_areas": null,
      "grid_template_columns": null,
      "grid_template_rows": null,
      "height": null,
      "justify_content": null,
      "justify_items": null,
      "left": null,
      "margin": null,
      "max_height": null,
      "max_width": null,
      "min_height": null,
      "min_width": null,
      "object_fit": null,
      "object_position": null,
      "order": null,
      "overflow": null,
      "overflow_x": null,
      "overflow_y": null,
      "padding": null,
      "right": null,
      "top": null,
      "visibility": null,
      "width": null
     }
    },
    "d05ca14126cf4011a6b8280faea4ff9a": {
     "model_module": "@jupyter-widgets/controls",
     "model_module_version": "1.5.0",
     "model_name": "DescriptionStyleModel",
     "state": {
      "_model_module": "@jupyter-widgets/controls",
      "_model_module_version": "1.5.0",
      "_model_name": "DescriptionStyleModel",
      "_view_count": null,
      "_view_module": "@jupyter-widgets/base",
      "_view_module_version": "1.2.0",
      "_view_name": "StyleView",
      "description_width": ""
     }
    },
    "d21341e34c5e4d4ca067df6bfe5f6d2a": {
     "model_module": "@jupyter-widgets/controls",
     "model_module_version": "1.5.0",
     "model_name": "DescriptionStyleModel",
     "state": {
      "_model_module": "@jupyter-widgets/controls",
      "_model_module_version": "1.5.0",
      "_model_name": "DescriptionStyleModel",
      "_view_count": null,
      "_view_module": "@jupyter-widgets/base",
      "_view_module_version": "1.2.0",
      "_view_name": "StyleView",
      "description_width": ""
     }
    },
    "d5d4f52159e84883abe19a502cf17fc0": {
     "model_module": "@jupyter-widgets/controls",
     "model_module_version": "1.5.0",
     "model_name": "FloatProgressModel",
     "state": {
      "_dom_classes": [],
      "_model_module": "@jupyter-widgets/controls",
      "_model_module_version": "1.5.0",
      "_model_name": "FloatProgressModel",
      "_view_count": null,
      "_view_module": "@jupyter-widgets/controls",
      "_view_module_version": "1.5.0",
      "_view_name": "ProgressView",
      "bar_style": "success",
      "description": "",
      "description_tooltip": null,
      "layout": "IPY_MODEL_0a6f308d3e3442558b43ed1882858a7c",
      "max": 10300,
      "min": 0,
      "orientation": "horizontal",
      "style": "IPY_MODEL_5f0e8d9d441b422b9b4ccd3140b53bde",
      "value": 10300
     }
    },
    "db5117d2d3654bf1a06248c899c74dc5": {
     "model_module": "@jupyter-widgets/base",
     "model_module_version": "1.2.0",
     "model_name": "LayoutModel",
     "state": {
      "_model_module": "@jupyter-widgets/base",
      "_model_module_version": "1.2.0",
      "_model_name": "LayoutModel",
      "_view_count": null,
      "_view_module": "@jupyter-widgets/base",
      "_view_module_version": "1.2.0",
      "_view_name": "LayoutView",
      "align_content": null,
      "align_items": null,
      "align_self": null,
      "border": null,
      "bottom": null,
      "display": null,
      "flex": null,
      "flex_flow": null,
      "grid_area": null,
      "grid_auto_columns": null,
      "grid_auto_flow": null,
      "grid_auto_rows": null,
      "grid_column": null,
      "grid_gap": null,
      "grid_row": null,
      "grid_template_areas": null,
      "grid_template_columns": null,
      "grid_template_rows": null,
      "height": null,
      "justify_content": null,
      "justify_items": null,
      "left": null,
      "margin": null,
      "max_height": null,
      "max_width": null,
      "min_height": null,
      "min_width": null,
      "object_fit": null,
      "object_position": null,
      "order": null,
      "overflow": null,
      "overflow_x": null,
      "overflow_y": null,
      "padding": null,
      "right": null,
      "top": null,
      "visibility": null,
      "width": null
     }
    },
    "e41effd5120744a69ba8bba550b7c1fe": {
     "model_module": "@jupyter-widgets/controls",
     "model_module_version": "1.5.0",
     "model_name": "HBoxModel",
     "state": {
      "_dom_classes": [],
      "_model_module": "@jupyter-widgets/controls",
      "_model_module_version": "1.5.0",
      "_model_name": "HBoxModel",
      "_view_count": null,
      "_view_module": "@jupyter-widgets/controls",
      "_view_module_version": "1.5.0",
      "_view_name": "HBoxView",
      "box_style": "",
      "children": [
       "IPY_MODEL_09fa370aa24140c3b6445a2e76cbb858",
       "IPY_MODEL_7bd22f54922e4c60a6b936ff1eaef334",
       "IPY_MODEL_0de9ad40157048df9c76061b59df9929"
      ],
      "layout": "IPY_MODEL_f09e03eea73c4b9e8f1e5fce9fd16ba0"
     }
    },
    "e4526f36444e4a298ab04cdd3c9d459e": {
     "model_module": "@jupyter-widgets/controls",
     "model_module_version": "1.5.0",
     "model_name": "HTMLModel",
     "state": {
      "_dom_classes": [],
      "_model_module": "@jupyter-widgets/controls",
      "_model_module_version": "1.5.0",
      "_model_name": "HTMLModel",
      "_view_count": null,
      "_view_module": "@jupyter-widgets/controls",
      "_view_module_version": "1.5.0",
      "_view_name": "HTMLView",
      "description": "",
      "description_tooltip": null,
      "layout": "IPY_MODEL_db5117d2d3654bf1a06248c899c74dc5",
      "placeholder": "​",
      "style": "IPY_MODEL_872ad6e9eb7a411385b00cf118919d00",
      "value": "100%"
     }
    },
    "e454b3f132654914a4bc2d216a88902e": {
     "model_module": "@jupyter-widgets/controls",
     "model_module_version": "1.5.0",
     "model_name": "HTMLModel",
     "state": {
      "_dom_classes": [],
      "_model_module": "@jupyter-widgets/controls",
      "_model_module_version": "1.5.0",
      "_model_name": "HTMLModel",
      "_view_count": null,
      "_view_module": "@jupyter-widgets/controls",
      "_view_module_version": "1.5.0",
      "_view_name": "HTMLView",
      "description": "",
      "description_tooltip": null,
      "layout": "IPY_MODEL_c139bc4df76f4a6e83ca07638c6a6628",
      "placeholder": "​",
      "style": "IPY_MODEL_7b42968c10844d4cb16b6b8f7999a79b",
      "value": " 1977/1977 [00:00&lt;00:00, 3536.68it/s]"
     }
    },
    "f05c581f4572407a91722b13b69d12ae": {
     "model_module": "@jupyter-widgets/controls",
     "model_module_version": "1.5.0",
     "model_name": "DescriptionStyleModel",
     "state": {
      "_model_module": "@jupyter-widgets/controls",
      "_model_module_version": "1.5.0",
      "_model_name": "DescriptionStyleModel",
      "_view_count": null,
      "_view_module": "@jupyter-widgets/base",
      "_view_module_version": "1.2.0",
      "_view_name": "StyleView",
      "description_width": ""
     }
    },
    "f09e03eea73c4b9e8f1e5fce9fd16ba0": {
     "model_module": "@jupyter-widgets/base",
     "model_module_version": "1.2.0",
     "model_name": "LayoutModel",
     "state": {
      "_model_module": "@jupyter-widgets/base",
      "_model_module_version": "1.2.0",
      "_model_name": "LayoutModel",
      "_view_count": null,
      "_view_module": "@jupyter-widgets/base",
      "_view_module_version": "1.2.0",
      "_view_name": "LayoutView",
      "align_content": null,
      "align_items": null,
      "align_self": null,
      "border": null,
      "bottom": null,
      "display": null,
      "flex": null,
      "flex_flow": null,
      "grid_area": null,
      "grid_auto_columns": null,
      "grid_auto_flow": null,
      "grid_auto_rows": null,
      "grid_column": null,
      "grid_gap": null,
      "grid_row": null,
      "grid_template_areas": null,
      "grid_template_columns": null,
      "grid_template_rows": null,
      "height": null,
      "justify_content": null,
      "justify_items": null,
      "left": null,
      "margin": null,
      "max_height": null,
      "max_width": null,
      "min_height": null,
      "min_width": null,
      "object_fit": null,
      "object_position": null,
      "order": null,
      "overflow": null,
      "overflow_x": null,
      "overflow_y": null,
      "padding": null,
      "right": null,
      "top": null,
      "visibility": null,
      "width": null
     }
    },
    "f730de0a0ac8461685a0a177c1068bed": {
     "model_module": "@jupyter-widgets/base",
     "model_module_version": "1.2.0",
     "model_name": "LayoutModel",
     "state": {
      "_model_module": "@jupyter-widgets/base",
      "_model_module_version": "1.2.0",
      "_model_name": "LayoutModel",
      "_view_count": null,
      "_view_module": "@jupyter-widgets/base",
      "_view_module_version": "1.2.0",
      "_view_name": "LayoutView",
      "align_content": null,
      "align_items": null,
      "align_self": null,
      "border": null,
      "bottom": null,
      "display": null,
      "flex": null,
      "flex_flow": null,
      "grid_area": null,
      "grid_auto_columns": null,
      "grid_auto_flow": null,
      "grid_auto_rows": null,
      "grid_column": null,
      "grid_gap": null,
      "grid_row": null,
      "grid_template_areas": null,
      "grid_template_columns": null,
      "grid_template_rows": null,
      "height": null,
      "justify_content": null,
      "justify_items": null,
      "left": null,
      "margin": null,
      "max_height": null,
      "max_width": null,
      "min_height": null,
      "min_width": null,
      "object_fit": null,
      "object_position": null,
      "order": null,
      "overflow": null,
      "overflow_x": null,
      "overflow_y": null,
      "padding": null,
      "right": null,
      "top": null,
      "visibility": null,
      "width": null
     }
    },
    "f7592a5f88ed4a858c81135fc258cc5e": {
     "model_module": "@jupyter-widgets/controls",
     "model_module_version": "1.5.0",
     "model_name": "ProgressStyleModel",
     "state": {
      "_model_module": "@jupyter-widgets/controls",
      "_model_module_version": "1.5.0",
      "_model_name": "ProgressStyleModel",
      "_view_count": null,
      "_view_module": "@jupyter-widgets/base",
      "_view_module_version": "1.2.0",
      "_view_name": "StyleView",
      "bar_color": null,
      "description_width": ""
     }
    },
    "f938ee7226d94ed8850e0024c404f7c1": {
     "model_module": "@jupyter-widgets/controls",
     "model_module_version": "1.5.0",
     "model_name": "ProgressStyleModel",
     "state": {
      "_model_module": "@jupyter-widgets/controls",
      "_model_module_version": "1.5.0",
      "_model_name": "ProgressStyleModel",
      "_view_count": null,
      "_view_module": "@jupyter-widgets/base",
      "_view_module_version": "1.2.0",
      "_view_name": "StyleView",
      "bar_color": null,
      "description_width": ""
     }
    },
    "fbcf2dec4070465b88e4fe1f0226734e": {
     "model_module": "@jupyter-widgets/controls",
     "model_module_version": "1.5.0",
     "model_name": "HBoxModel",
     "state": {
      "_dom_classes": [],
      "_model_module": "@jupyter-widgets/controls",
      "_model_module_version": "1.5.0",
      "_model_name": "HBoxModel",
      "_view_count": null,
      "_view_module": "@jupyter-widgets/controls",
      "_view_module_version": "1.5.0",
      "_view_name": "HBoxView",
      "box_style": "",
      "children": [
       "IPY_MODEL_e4526f36444e4a298ab04cdd3c9d459e",
       "IPY_MODEL_3af35c1ad2f5444eaf9e4a865c2cf152",
       "IPY_MODEL_e454b3f132654914a4bc2d216a88902e"
      ],
      "layout": "IPY_MODEL_7aa754456e4a48a289d8232edc4cd46e"
     }
    },
    "feb154a7e1c84daf96acbe9869b28b3b": {
     "model_module": "@jupyter-widgets/controls",
     "model_module_version": "1.5.0",
     "model_name": "DescriptionStyleModel",
     "state": {
      "_model_module": "@jupyter-widgets/controls",
      "_model_module_version": "1.5.0",
      "_model_name": "DescriptionStyleModel",
      "_view_count": null,
      "_view_module": "@jupyter-widgets/base",
      "_view_module_version": "1.2.0",
      "_view_name": "StyleView",
      "description_width": ""
     }
    }
   }
  }
 },
 "nbformat": 4,
 "nbformat_minor": 1
}

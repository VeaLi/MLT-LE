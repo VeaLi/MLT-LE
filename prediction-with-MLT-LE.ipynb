{
 "cells": [
  {
   "cell_type": "markdown",
   "id": "5b64e2be",
   "metadata": {
    "toc": true
   },
   "source": [
    "<h1>Table of Contents<span class=\"tocSkip\"></span></h1>\n",
    "<div class=\"toc\"><ul class=\"toc-item\"><li><span><a href=\"#Model\" data-toc-modified-id=\"Model-1\"><span class=\"toc-item-num\">1&nbsp;&nbsp;</span>Model</a></span></li><li><span><a href=\"#Test\" data-toc-modified-id=\"Test-2\"><span class=\"toc-item-num\">2&nbsp;&nbsp;</span>Test</a></span><ul class=\"toc-item\"><li><span><a href=\"#NB!-All-smiles-should-be-canonicalized-using-RDkit.\" data-toc-modified-id=\"NB!-All-smiles-should-be-canonicalized-using-RDkit.-2.1\"><span class=\"toc-item-num\">2.1&nbsp;&nbsp;</span>NB! All smiles should be canonicalized using RDkit.</a></span><ul class=\"toc-item\"><li><span><a href=\"#How-to-canonicalize-smiles-with-RDKit-for-MLT-LE\" data-toc-modified-id=\"How-to-canonicalize-smiles-with-RDKit-for-MLT-LE-2.1.1\"><span class=\"toc-item-num\">2.1.1&nbsp;&nbsp;</span>How to canonicalize smiles with RDKit for MLT-LE</a></span></li></ul></li><li><span><a href=\"#Calcitriol---VDR-ligand\" data-toc-modified-id=\"Calcitriol---VDR-ligand-2.2\"><span class=\"toc-item-num\">2.2&nbsp;&nbsp;</span>Calcitriol - VDR ligand</a></span></li><li><span><a href=\"#Diazepam---GABA-ligand\" data-toc-modified-id=\"Diazepam---GABA-ligand-2.3\"><span class=\"toc-item-num\">2.3&nbsp;&nbsp;</span>Diazepam - GABA ligand</a></span></li><li><span><a href=\"#Torin1---mTor-ligand\" data-toc-modified-id=\"Torin1---mTor-ligand-2.4\"><span class=\"toc-item-num\">2.4&nbsp;&nbsp;</span>Torin1 - mTor ligand</a></span></li></ul></li><li><span><a href=\"#Log1p-to-pKd,-μM\" data-toc-modified-id=\"Log1p-to-pKd,-μM-3\"><span class=\"toc-item-num\">3&nbsp;&nbsp;</span>Log1p to pKd, μM</a></span></li></ul></div>"
   ]
  },
  {
   "cell_type": "markdown",
   "id": "7b2fc31e",
   "metadata": {},
   "source": [
    "# Model"
   ]
  },
  {
   "cell_type": "code",
   "execution_count": 1,
   "id": "13c6021f",
   "metadata": {
    "ExecuteTime": {
     "end_time": "2022-03-11T14:03:41.678438Z",
     "start_time": "2022-03-11T14:03:20.937176Z"
    }
   },
   "outputs": [],
   "source": [
    "from models.mlt_le import *\n",
    "import pandas as pd\n",
    "from data.example_target_sequences import VDR, MTOR, GABA"
   ]
  },
  {
   "cell_type": "code",
   "execution_count": 2,
   "id": "9a3fd8ed",
   "metadata": {
    "ExecuteTime": {
     "end_time": "2022-03-11T14:03:44.162574Z",
     "start_time": "2022-03-11T14:03:41.681441Z"
    }
   },
   "outputs": [],
   "source": [
    "model = MLTLE()"
   ]
  },
  {
   "cell_type": "code",
   "execution_count": 3,
   "id": "ba1f8fd6",
   "metadata": {
    "ExecuteTime": {
     "end_time": "2022-03-11T14:03:44.177581Z",
     "start_time": "2022-03-11T14:03:44.165576Z"
    }
   },
   "outputs": [],
   "source": [
    "# model.model.summary()"
   ]
  },
  {
   "cell_type": "markdown",
   "id": "94ac3058",
   "metadata": {},
   "source": [
    "# Test\n",
    "\n",
    "## NB! All smiles should be canonicalized using RDkit.\n",
    "### How to canonicalize smiles with RDKit for MLT-LE\n",
    "\n",
    "```python\n",
    "\n",
    "# install RDKit\n",
    "!pip install rdkit-pypi\n",
    "from rdkit import Chem\n",
    "def to_non_isomeric_canonical(s):\n",
    "    \"\"\"\n",
    "    Removes isomeric features and makes RDKit canonical.\n",
    "    \n",
    "    Example:\n",
    "    pubchem_torin1 = \"CCC(=O)N1CCN(CC1)C2=C(C=C(C=C2)N3C(=O)C=CC4=CN=C5C=CC(=CC5=C43)C6=CC7=CC=CC=C7N=C6)C(F)(F)F\"\n",
    "    to_non_isomeric_canonical(pubchem_torin1)\n",
    "    >>CCC(=O)N1CCN(c2ccc(-n3c(=O)ccc4cnc5ccc(-c6cnc7ccccc7c6)cc5c43)cc2C(F)(F)F)CC1\n",
    "    \"\"\"\n",
    "    try:\n",
    "        mol = Chem.MolFromSmiles(s)\n",
    "        s = Chem.MolToSmiles(mol, isomericSmiles=False, canonical=True)\n",
    "        return s\n",
    "    except Exception as e:\n",
    "        # if smiles is invalid return NaN\n",
    "        print(s, e)\n",
    "        return np.nan\n",
    "```"
   ]
  },
  {
   "cell_type": "markdown",
   "id": "69fd6532",
   "metadata": {},
   "source": [
    "## Calcitriol - VDR ligand"
   ]
  },
  {
   "cell_type": "code",
   "execution_count": 4,
   "id": "2d51cb4e",
   "metadata": {
    "ExecuteTime": {
     "end_time": "2022-03-11T14:03:44.269576Z",
     "start_time": "2022-03-11T14:03:44.181585Z"
    }
   },
   "outputs": [
    {
     "data": {
      "text/html": [
       "<div>\n",
       "<style scoped>\n",
       "    .dataframe tbody tr th:only-of-type {\n",
       "        vertical-align: middle;\n",
       "    }\n",
       "\n",
       "    .dataframe tbody tr th {\n",
       "        vertical-align: top;\n",
       "    }\n",
       "\n",
       "    .dataframe thead th {\n",
       "        text-align: right;\n",
       "    }\n",
       "</style>\n",
       "<table border=\"1\" class=\"dataframe\">\n",
       "  <thead>\n",
       "    <tr style=\"text-align: right;\">\n",
       "      <th></th>\n",
       "      <th>smiles</th>\n",
       "      <th>target</th>\n",
       "    </tr>\n",
       "  </thead>\n",
       "  <tbody>\n",
       "    <tr>\n",
       "      <th>0</th>\n",
       "      <td>C=C1C(=CC=C2CCCC3(C)C2CCC3C(C)CCCC(C)(C)O)CC(O...</td>\n",
       "      <td>MEAMAASTSLPDPGDFDRNVPRICGVCGDRATGFHFNAMTCEGCKG...</td>\n",
       "    </tr>\n",
       "    <tr>\n",
       "      <th>1</th>\n",
       "      <td>C=C1C(=CC=C2CCCC3(C)C2CCC3C(C)CCCC(C)(C)O)CC(O...</td>\n",
       "      <td>MLGTGPAAATTAATTSSNVSVLQQFASGLKSRNEETRAKAAKELQH...</td>\n",
       "    </tr>\n",
       "    <tr>\n",
       "      <th>2</th>\n",
       "      <td>C=C1C(=CC=C2CCCC3(C)C2CCC3C(C)CCCC(C)(C)O)CC(O...</td>\n",
       "      <td>MRKSPGLSDCLWAWILLLSTLTGRSYGQPSLQDELKDNTTVFTRIL...</td>\n",
       "    </tr>\n",
       "  </tbody>\n",
       "</table>\n",
       "</div>"
      ],
      "text/plain": [
       "                                              smiles  \\\n",
       "0  C=C1C(=CC=C2CCCC3(C)C2CCC3C(C)CCCC(C)(C)O)CC(O...   \n",
       "1  C=C1C(=CC=C2CCCC3(C)C2CCC3C(C)CCCC(C)(C)O)CC(O...   \n",
       "2  C=C1C(=CC=C2CCCC3(C)C2CCC3C(C)CCCC(C)(C)O)CC(O...   \n",
       "\n",
       "                                              target  \n",
       "0  MEAMAASTSLPDPGDFDRNVPRICGVCGDRATGFHFNAMTCEGCKG...  \n",
       "1  MLGTGPAAATTAATTSSNVSVLQQFASGLKSRNEETRAKAAKELQH...  \n",
       "2  MRKSPGLSDCLWAWILLLSTLTGRSYGQPSLQDELKDNTTVFTRIL...  "
      ]
     },
     "execution_count": 4,
     "metadata": {},
     "output_type": "execute_result"
    }
   ],
   "source": [
    "calcitriol = \"C=C1C(=CC=C2CCCC3(C)C2CCC3C(C)CCCC(C)(C)O)CC(O)CC1O\"\n",
    "X_predict = pd.DataFrame()\n",
    "X_predict['smiles'] = [calcitriol, calcitriol, calcitriol]\n",
    "X_predict['target'] = [VDR, MTOR, GABA]\n",
    "X_predict.head()"
   ]
  },
  {
   "cell_type": "code",
   "execution_count": 5,
   "id": "c774b7a8",
   "metadata": {
    "ExecuteTime": {
     "end_time": "2022-03-11T14:03:45.057630Z",
     "start_time": "2022-03-11T14:03:44.271575Z"
    }
   },
   "outputs": [
    {
     "data": {
      "application/vnd.jupyter.widget-view+json": {
       "model_id": "806f38ed8d5341ce80266369078eb25e",
       "version_major": 2,
       "version_minor": 0
      },
      "text/plain": [
       "  0%|          | 0/1 [00:00<?, ?it/s]"
      ]
     },
     "metadata": {},
     "output_type": "display_data"
    },
    {
     "data": {
      "application/vnd.jupyter.widget-view+json": {
       "model_id": "62f8687adca14ef3aad073da279c04ae",
       "version_major": 2,
       "version_minor": 0
      },
      "text/plain": [
       "  0%|          | 0/3 [00:00<?, ?it/s]"
      ]
     },
     "metadata": {},
     "output_type": "display_data"
    },
    {
     "name": "stdout",
     "output_type": "stream",
     "text": [
      "3/3 [==============================] - 1s 10ms/step\n"
     ]
    },
    {
     "data": {
      "text/html": [
       "<div>\n",
       "<style scoped>\n",
       "    .dataframe tbody tr th:only-of-type {\n",
       "        vertical-align: middle;\n",
       "    }\n",
       "\n",
       "    .dataframe tbody tr th {\n",
       "        vertical-align: top;\n",
       "    }\n",
       "\n",
       "    .dataframe thead th {\n",
       "        text-align: right;\n",
       "    }\n",
       "</style>\n",
       "<table border=\"1\" class=\"dataframe\">\n",
       "  <thead>\n",
       "    <tr style=\"text-align: right;\">\n",
       "      <th></th>\n",
       "      <th>smiles</th>\n",
       "      <th>target</th>\n",
       "      <th>Ki (nM) log1p</th>\n",
       "      <th>IC50 (nM) log1p</th>\n",
       "      <th>Kd (nM) log1p</th>\n",
       "      <th>EC50 (nM) log1p</th>\n",
       "      <th>is_active</th>\n",
       "    </tr>\n",
       "  </thead>\n",
       "  <tbody>\n",
       "    <tr>\n",
       "      <th>0</th>\n",
       "      <td>C=C1C(=CC=C2CCCC3(C)C2CCC3C(C)CCCC(C)(C)O)CC(O...</td>\n",
       "      <td>MEAMAASTSLPDPGDFDRNVPRICGVCGDRATGFHFNAMTCEGCKG...</td>\n",
       "      <td>1.646734</td>\n",
       "      <td>1.644245</td>\n",
       "      <td>1.077023</td>\n",
       "      <td>1.596539</td>\n",
       "      <td>0.808490</td>\n",
       "    </tr>\n",
       "    <tr>\n",
       "      <th>1</th>\n",
       "      <td>C=C1C(=CC=C2CCCC3(C)C2CCC3C(C)CCCC(C)(C)O)CC(O...</td>\n",
       "      <td>MLGTGPAAATTAATTSSNVSVLQQFASGLKSRNEETRAKAAKELQH...</td>\n",
       "      <td>5.727450</td>\n",
       "      <td>7.401005</td>\n",
       "      <td>5.536683</td>\n",
       "      <td>7.136034</td>\n",
       "      <td>0.539038</td>\n",
       "    </tr>\n",
       "    <tr>\n",
       "      <th>2</th>\n",
       "      <td>C=C1C(=CC=C2CCCC3(C)C2CCC3C(C)CCCC(C)(C)O)CC(O...</td>\n",
       "      <td>MRKSPGLSDCLWAWILLLSTLTGRSYGQPSLQDELKDNTTVFTRIL...</td>\n",
       "      <td>4.972584</td>\n",
       "      <td>7.159822</td>\n",
       "      <td>2.865565</td>\n",
       "      <td>6.029324</td>\n",
       "      <td>0.607581</td>\n",
       "    </tr>\n",
       "  </tbody>\n",
       "</table>\n",
       "</div>"
      ],
      "text/plain": [
       "                                              smiles  \\\n",
       "0  C=C1C(=CC=C2CCCC3(C)C2CCC3C(C)CCCC(C)(C)O)CC(O...   \n",
       "1  C=C1C(=CC=C2CCCC3(C)C2CCC3C(C)CCCC(C)(C)O)CC(O...   \n",
       "2  C=C1C(=CC=C2CCCC3(C)C2CCC3C(C)CCCC(C)(C)O)CC(O...   \n",
       "\n",
       "                                              target  Ki (nM) log1p  \\\n",
       "0  MEAMAASTSLPDPGDFDRNVPRICGVCGDRATGFHFNAMTCEGCKG...       1.646734   \n",
       "1  MLGTGPAAATTAATTSSNVSVLQQFASGLKSRNEETRAKAAKELQH...       5.727450   \n",
       "2  MRKSPGLSDCLWAWILLLSTLTGRSYGQPSLQDELKDNTTVFTRIL...       4.972584   \n",
       "\n",
       "   IC50 (nM) log1p  Kd (nM) log1p  EC50 (nM) log1p  is_active  \n",
       "0         1.644245       1.077023         1.596539   0.808490  \n",
       "1         7.401005       5.536683         7.136034   0.539038  \n",
       "2         7.159822       2.865565         6.029324   0.607581  "
      ]
     },
     "execution_count": 5,
     "metadata": {},
     "output_type": "execute_result"
    }
   ],
   "source": [
    "VDR_prediction = model.predict(X_predict)\n",
    "VDR_prediction"
   ]
  },
  {
   "cell_type": "markdown",
   "id": "38c3504f",
   "metadata": {},
   "source": [
    "## Diazepam - GABA ligand"
   ]
  },
  {
   "cell_type": "code",
   "execution_count": 6,
   "id": "cb5defae",
   "metadata": {
    "ExecuteTime": {
     "end_time": "2022-03-11T14:03:45.090134Z",
     "start_time": "2022-03-11T14:03:45.059643Z"
    }
   },
   "outputs": [
    {
     "data": {
      "text/html": [
       "<div>\n",
       "<style scoped>\n",
       "    .dataframe tbody tr th:only-of-type {\n",
       "        vertical-align: middle;\n",
       "    }\n",
       "\n",
       "    .dataframe tbody tr th {\n",
       "        vertical-align: top;\n",
       "    }\n",
       "\n",
       "    .dataframe thead th {\n",
       "        text-align: right;\n",
       "    }\n",
       "</style>\n",
       "<table border=\"1\" class=\"dataframe\">\n",
       "  <thead>\n",
       "    <tr style=\"text-align: right;\">\n",
       "      <th></th>\n",
       "      <th>smiles</th>\n",
       "      <th>target</th>\n",
       "    </tr>\n",
       "  </thead>\n",
       "  <tbody>\n",
       "    <tr>\n",
       "      <th>0</th>\n",
       "      <td>CN1C(=O)CN=C(c2ccccc2)c2cc(Cl)ccc21</td>\n",
       "      <td>MEAMAASTSLPDPGDFDRNVPRICGVCGDRATGFHFNAMTCEGCKG...</td>\n",
       "    </tr>\n",
       "    <tr>\n",
       "      <th>1</th>\n",
       "      <td>CN1C(=O)CN=C(c2ccccc2)c2cc(Cl)ccc21</td>\n",
       "      <td>MLGTGPAAATTAATTSSNVSVLQQFASGLKSRNEETRAKAAKELQH...</td>\n",
       "    </tr>\n",
       "    <tr>\n",
       "      <th>2</th>\n",
       "      <td>CN1C(=O)CN=C(c2ccccc2)c2cc(Cl)ccc21</td>\n",
       "      <td>MRKSPGLSDCLWAWILLLSTLTGRSYGQPSLQDELKDNTTVFTRIL...</td>\n",
       "    </tr>\n",
       "  </tbody>\n",
       "</table>\n",
       "</div>"
      ],
      "text/plain": [
       "                                smiles  \\\n",
       "0  CN1C(=O)CN=C(c2ccccc2)c2cc(Cl)ccc21   \n",
       "1  CN1C(=O)CN=C(c2ccccc2)c2cc(Cl)ccc21   \n",
       "2  CN1C(=O)CN=C(c2ccccc2)c2cc(Cl)ccc21   \n",
       "\n",
       "                                              target  \n",
       "0  MEAMAASTSLPDPGDFDRNVPRICGVCGDRATGFHFNAMTCEGCKG...  \n",
       "1  MLGTGPAAATTAATTSSNVSVLQQFASGLKSRNEETRAKAAKELQH...  \n",
       "2  MRKSPGLSDCLWAWILLLSTLTGRSYGQPSLQDELKDNTTVFTRIL...  "
      ]
     },
     "execution_count": 6,
     "metadata": {},
     "output_type": "execute_result"
    }
   ],
   "source": [
    "diazepam = \"CN1C(=O)CN=C(c2ccccc2)c2cc(Cl)ccc21\"\n",
    "X_predict = pd.DataFrame()\n",
    "X_predict['smiles'] = [diazepam, diazepam, diazepam]\n",
    "X_predict['target'] = [VDR, MTOR, GABA]\n",
    "X_predict.head()"
   ]
  },
  {
   "cell_type": "code",
   "execution_count": 7,
   "id": "c5b89051",
   "metadata": {
    "ExecuteTime": {
     "end_time": "2022-03-11T14:03:45.360128Z",
     "start_time": "2022-03-11T14:03:45.096139Z"
    }
   },
   "outputs": [
    {
     "data": {
      "application/vnd.jupyter.widget-view+json": {
       "model_id": "ebe9ef6a5ff1404cb7af9889b60a1c07",
       "version_major": 2,
       "version_minor": 0
      },
      "text/plain": [
       "  0%|          | 0/1 [00:00<?, ?it/s]"
      ]
     },
     "metadata": {},
     "output_type": "display_data"
    },
    {
     "data": {
      "application/vnd.jupyter.widget-view+json": {
       "model_id": "9598944efd2a48a4987e8b552c61be2a",
       "version_major": 2,
       "version_minor": 0
      },
      "text/plain": [
       "  0%|          | 0/3 [00:00<?, ?it/s]"
      ]
     },
     "metadata": {},
     "output_type": "display_data"
    },
    {
     "name": "stdout",
     "output_type": "stream",
     "text": [
      "3/3 [==============================] - 0s 9ms/step\n"
     ]
    },
    {
     "data": {
      "text/html": [
       "<div>\n",
       "<style scoped>\n",
       "    .dataframe tbody tr th:only-of-type {\n",
       "        vertical-align: middle;\n",
       "    }\n",
       "\n",
       "    .dataframe tbody tr th {\n",
       "        vertical-align: top;\n",
       "    }\n",
       "\n",
       "    .dataframe thead th {\n",
       "        text-align: right;\n",
       "    }\n",
       "</style>\n",
       "<table border=\"1\" class=\"dataframe\">\n",
       "  <thead>\n",
       "    <tr style=\"text-align: right;\">\n",
       "      <th></th>\n",
       "      <th>smiles</th>\n",
       "      <th>target</th>\n",
       "      <th>Ki (nM) log1p</th>\n",
       "      <th>IC50 (nM) log1p</th>\n",
       "      <th>Kd (nM) log1p</th>\n",
       "      <th>EC50 (nM) log1p</th>\n",
       "      <th>is_active</th>\n",
       "    </tr>\n",
       "  </thead>\n",
       "  <tbody>\n",
       "    <tr>\n",
       "      <th>0</th>\n",
       "      <td>CN1C(=O)CN=C(c2ccccc2)c2cc(Cl)ccc21</td>\n",
       "      <td>MEAMAASTSLPDPGDFDRNVPRICGVCGDRATGFHFNAMTCEGCKG...</td>\n",
       "      <td>7.800803</td>\n",
       "      <td>10.138390</td>\n",
       "      <td>7.038860</td>\n",
       "      <td>9.023358</td>\n",
       "      <td>0.059901</td>\n",
       "    </tr>\n",
       "    <tr>\n",
       "      <th>1</th>\n",
       "      <td>CN1C(=O)CN=C(c2ccccc2)c2cc(Cl)ccc21</td>\n",
       "      <td>MLGTGPAAATTAATTSSNVSVLQQFASGLKSRNEETRAKAAKELQH...</td>\n",
       "      <td>5.405934</td>\n",
       "      <td>9.038071</td>\n",
       "      <td>6.264541</td>\n",
       "      <td>9.872234</td>\n",
       "      <td>0.242897</td>\n",
       "    </tr>\n",
       "    <tr>\n",
       "      <th>2</th>\n",
       "      <td>CN1C(=O)CN=C(c2ccccc2)c2cc(Cl)ccc21</td>\n",
       "      <td>MRKSPGLSDCLWAWILLLSTLTGRSYGQPSLQDELKDNTTVFTRIL...</td>\n",
       "      <td>3.412857</td>\n",
       "      <td>5.453036</td>\n",
       "      <td>4.336466</td>\n",
       "      <td>5.837235</td>\n",
       "      <td>0.778886</td>\n",
       "    </tr>\n",
       "  </tbody>\n",
       "</table>\n",
       "</div>"
      ],
      "text/plain": [
       "                                smiles  \\\n",
       "0  CN1C(=O)CN=C(c2ccccc2)c2cc(Cl)ccc21   \n",
       "1  CN1C(=O)CN=C(c2ccccc2)c2cc(Cl)ccc21   \n",
       "2  CN1C(=O)CN=C(c2ccccc2)c2cc(Cl)ccc21   \n",
       "\n",
       "                                              target  Ki (nM) log1p  \\\n",
       "0  MEAMAASTSLPDPGDFDRNVPRICGVCGDRATGFHFNAMTCEGCKG...       7.800803   \n",
       "1  MLGTGPAAATTAATTSSNVSVLQQFASGLKSRNEETRAKAAKELQH...       5.405934   \n",
       "2  MRKSPGLSDCLWAWILLLSTLTGRSYGQPSLQDELKDNTTVFTRIL...       3.412857   \n",
       "\n",
       "   IC50 (nM) log1p  Kd (nM) log1p  EC50 (nM) log1p  is_active  \n",
       "0        10.138390       7.038860         9.023358   0.059901  \n",
       "1         9.038071       6.264541         9.872234   0.242897  \n",
       "2         5.453036       4.336466         5.837235   0.778886  "
      ]
     },
     "execution_count": 7,
     "metadata": {},
     "output_type": "execute_result"
    }
   ],
   "source": [
    "GABA_prediction = model.predict(X_predict)\n",
    "GABA_prediction"
   ]
  },
  {
   "cell_type": "markdown",
   "id": "f4c3ca27",
   "metadata": {},
   "source": [
    "## Torin1 - mTor ligand"
   ]
  },
  {
   "cell_type": "code",
   "execution_count": 8,
   "id": "322e5a8c",
   "metadata": {
    "ExecuteTime": {
     "end_time": "2022-03-11T14:03:45.391138Z",
     "start_time": "2022-03-11T14:03:45.363135Z"
    }
   },
   "outputs": [
    {
     "data": {
      "text/html": [
       "<div>\n",
       "<style scoped>\n",
       "    .dataframe tbody tr th:only-of-type {\n",
       "        vertical-align: middle;\n",
       "    }\n",
       "\n",
       "    .dataframe tbody tr th {\n",
       "        vertical-align: top;\n",
       "    }\n",
       "\n",
       "    .dataframe thead th {\n",
       "        text-align: right;\n",
       "    }\n",
       "</style>\n",
       "<table border=\"1\" class=\"dataframe\">\n",
       "  <thead>\n",
       "    <tr style=\"text-align: right;\">\n",
       "      <th></th>\n",
       "      <th>smiles</th>\n",
       "      <th>target</th>\n",
       "    </tr>\n",
       "  </thead>\n",
       "  <tbody>\n",
       "    <tr>\n",
       "      <th>0</th>\n",
       "      <td>CCC(=O)N1CCN(c2ccc(-n3c(=O)ccc4cnc5ccc(-c6cnc7...</td>\n",
       "      <td>MEAMAASTSLPDPGDFDRNVPRICGVCGDRATGFHFNAMTCEGCKG...</td>\n",
       "    </tr>\n",
       "    <tr>\n",
       "      <th>1</th>\n",
       "      <td>CCC(=O)N1CCN(c2ccc(-n3c(=O)ccc4cnc5ccc(-c6cnc7...</td>\n",
       "      <td>MLGTGPAAATTAATTSSNVSVLQQFASGLKSRNEETRAKAAKELQH...</td>\n",
       "    </tr>\n",
       "    <tr>\n",
       "      <th>2</th>\n",
       "      <td>CCC(=O)N1CCN(c2ccc(-n3c(=O)ccc4cnc5ccc(-c6cnc7...</td>\n",
       "      <td>MRKSPGLSDCLWAWILLLSTLTGRSYGQPSLQDELKDNTTVFTRIL...</td>\n",
       "    </tr>\n",
       "  </tbody>\n",
       "</table>\n",
       "</div>"
      ],
      "text/plain": [
       "                                              smiles  \\\n",
       "0  CCC(=O)N1CCN(c2ccc(-n3c(=O)ccc4cnc5ccc(-c6cnc7...   \n",
       "1  CCC(=O)N1CCN(c2ccc(-n3c(=O)ccc4cnc5ccc(-c6cnc7...   \n",
       "2  CCC(=O)N1CCN(c2ccc(-n3c(=O)ccc4cnc5ccc(-c6cnc7...   \n",
       "\n",
       "                                              target  \n",
       "0  MEAMAASTSLPDPGDFDRNVPRICGVCGDRATGFHFNAMTCEGCKG...  \n",
       "1  MLGTGPAAATTAATTSSNVSVLQQFASGLKSRNEETRAKAAKELQH...  \n",
       "2  MRKSPGLSDCLWAWILLLSTLTGRSYGQPSLQDELKDNTTVFTRIL...  "
      ]
     },
     "execution_count": 8,
     "metadata": {},
     "output_type": "execute_result"
    }
   ],
   "source": [
    "torin1 = \"CCC(=O)N1CCN(c2ccc(-n3c(=O)ccc4cnc5ccc(-c6cnc7ccccc7c6)cc5c43)cc2C(F)(F)F)CC1\"\n",
    "X_predict = pd.DataFrame()\n",
    "X_predict['smiles'] = [torin1, torin1, torin1]\n",
    "X_predict['target'] = [VDR, MTOR, GABA]\n",
    "X_predict.head()"
   ]
  },
  {
   "cell_type": "code",
   "execution_count": 9,
   "id": "b2639a4e",
   "metadata": {
    "ExecuteTime": {
     "end_time": "2022-03-11T14:03:45.660135Z",
     "start_time": "2022-03-11T14:03:45.396137Z"
    }
   },
   "outputs": [
    {
     "data": {
      "application/vnd.jupyter.widget-view+json": {
       "model_id": "4427d8554b144209a46299e7dc2fea5b",
       "version_major": 2,
       "version_minor": 0
      },
      "text/plain": [
       "  0%|          | 0/1 [00:00<?, ?it/s]"
      ]
     },
     "metadata": {},
     "output_type": "display_data"
    },
    {
     "data": {
      "application/vnd.jupyter.widget-view+json": {
       "model_id": "800812cfbf514cf49662e104d50e616a",
       "version_major": 2,
       "version_minor": 0
      },
      "text/plain": [
       "  0%|          | 0/3 [00:00<?, ?it/s]"
      ]
     },
     "metadata": {},
     "output_type": "display_data"
    },
    {
     "name": "stdout",
     "output_type": "stream",
     "text": [
      "3/3 [==============================] - 0s 9ms/step\n"
     ]
    },
    {
     "data": {
      "text/html": [
       "<div>\n",
       "<style scoped>\n",
       "    .dataframe tbody tr th:only-of-type {\n",
       "        vertical-align: middle;\n",
       "    }\n",
       "\n",
       "    .dataframe tbody tr th {\n",
       "        vertical-align: top;\n",
       "    }\n",
       "\n",
       "    .dataframe thead th {\n",
       "        text-align: right;\n",
       "    }\n",
       "</style>\n",
       "<table border=\"1\" class=\"dataframe\">\n",
       "  <thead>\n",
       "    <tr style=\"text-align: right;\">\n",
       "      <th></th>\n",
       "      <th>smiles</th>\n",
       "      <th>target</th>\n",
       "      <th>Ki (nM) log1p</th>\n",
       "      <th>IC50 (nM) log1p</th>\n",
       "      <th>Kd (nM) log1p</th>\n",
       "      <th>EC50 (nM) log1p</th>\n",
       "      <th>is_active</th>\n",
       "    </tr>\n",
       "  </thead>\n",
       "  <tbody>\n",
       "    <tr>\n",
       "      <th>0</th>\n",
       "      <td>CCC(=O)N1CCN(c2ccc(-n3c(=O)ccc4cnc5ccc(-c6cnc7...</td>\n",
       "      <td>MEAMAASTSLPDPGDFDRNVPRICGVCGDRATGFHFNAMTCEGCKG...</td>\n",
       "      <td>3.533484</td>\n",
       "      <td>4.624649</td>\n",
       "      <td>5.141253</td>\n",
       "      <td>5.166994</td>\n",
       "      <td>0.858802</td>\n",
       "    </tr>\n",
       "    <tr>\n",
       "      <th>1</th>\n",
       "      <td>CCC(=O)N1CCN(c2ccc(-n3c(=O)ccc4cnc5ccc(-c6cnc7...</td>\n",
       "      <td>MLGTGPAAATTAATTSSNVSVLQQFASGLKSRNEETRAKAAKELQH...</td>\n",
       "      <td>3.315738</td>\n",
       "      <td>3.691458</td>\n",
       "      <td>5.633108</td>\n",
       "      <td>5.145761</td>\n",
       "      <td>0.904719</td>\n",
       "    </tr>\n",
       "    <tr>\n",
       "      <th>2</th>\n",
       "      <td>CCC(=O)N1CCN(c2ccc(-n3c(=O)ccc4cnc5ccc(-c6cnc7...</td>\n",
       "      <td>MRKSPGLSDCLWAWILLLSTLTGRSYGQPSLQDELKDNTTVFTRIL...</td>\n",
       "      <td>4.328304</td>\n",
       "      <td>4.940562</td>\n",
       "      <td>6.982586</td>\n",
       "      <td>6.887300</td>\n",
       "      <td>0.835559</td>\n",
       "    </tr>\n",
       "  </tbody>\n",
       "</table>\n",
       "</div>"
      ],
      "text/plain": [
       "                                              smiles  \\\n",
       "0  CCC(=O)N1CCN(c2ccc(-n3c(=O)ccc4cnc5ccc(-c6cnc7...   \n",
       "1  CCC(=O)N1CCN(c2ccc(-n3c(=O)ccc4cnc5ccc(-c6cnc7...   \n",
       "2  CCC(=O)N1CCN(c2ccc(-n3c(=O)ccc4cnc5ccc(-c6cnc7...   \n",
       "\n",
       "                                              target  Ki (nM) log1p  \\\n",
       "0  MEAMAASTSLPDPGDFDRNVPRICGVCGDRATGFHFNAMTCEGCKG...       3.533484   \n",
       "1  MLGTGPAAATTAATTSSNVSVLQQFASGLKSRNEETRAKAAKELQH...       3.315738   \n",
       "2  MRKSPGLSDCLWAWILLLSTLTGRSYGQPSLQDELKDNTTVFTRIL...       4.328304   \n",
       "\n",
       "   IC50 (nM) log1p  Kd (nM) log1p  EC50 (nM) log1p  is_active  \n",
       "0         4.624649       5.141253         5.166994   0.858802  \n",
       "1         3.691458       5.633108         5.145761   0.904719  \n",
       "2         4.940562       6.982586         6.887300   0.835559  "
      ]
     },
     "execution_count": 9,
     "metadata": {},
     "output_type": "execute_result"
    }
   ],
   "source": [
    "MTOR_prediction = model.predict(X_predict)\n",
    "MTOR_prediction"
   ]
  },
  {
   "cell_type": "markdown",
   "id": "61ce13b5",
   "metadata": {},
   "source": [
    "# Log1p to pKd, μM\n"
   ]
  },
  {
   "cell_type": "code",
   "execution_count": 10,
   "id": "4843bbc1",
   "metadata": {
    "ExecuteTime": {
     "end_time": "2022-03-11T14:03:45.676131Z",
     "start_time": "2022-03-11T14:03:45.663134Z"
    }
   },
   "outputs": [],
   "source": [
    "VDR_prediction['Kd [μM]'] = VDR_prediction['Kd (nM) log1p'].apply(model.to_uM)\n",
    "VDR_prediction['pKd'] = VDR_prediction['Kd (nM) log1p'].apply(model.to_pKd)"
   ]
  },
  {
   "cell_type": "code",
   "execution_count": 11,
   "id": "96409d17",
   "metadata": {
    "ExecuteTime": {
     "end_time": "2022-03-11T14:03:45.708130Z",
     "start_time": "2022-03-11T14:03:45.679130Z"
    }
   },
   "outputs": [
    {
     "data": {
      "text/html": [
       "<div>\n",
       "<style scoped>\n",
       "    .dataframe tbody tr th:only-of-type {\n",
       "        vertical-align: middle;\n",
       "    }\n",
       "\n",
       "    .dataframe tbody tr th {\n",
       "        vertical-align: top;\n",
       "    }\n",
       "\n",
       "    .dataframe thead th {\n",
       "        text-align: right;\n",
       "    }\n",
       "</style>\n",
       "<table border=\"1\" class=\"dataframe\">\n",
       "  <thead>\n",
       "    <tr style=\"text-align: right;\">\n",
       "      <th></th>\n",
       "      <th>Kd (nM) log1p</th>\n",
       "      <th>Kd [μM]</th>\n",
       "      <th>pKd</th>\n",
       "    </tr>\n",
       "  </thead>\n",
       "  <tbody>\n",
       "    <tr>\n",
       "      <th>0</th>\n",
       "      <td>1.077023</td>\n",
       "      <td>0.001936</td>\n",
       "      <td>8.713111</td>\n",
       "    </tr>\n",
       "    <tr>\n",
       "      <th>1</th>\n",
       "      <td>5.536683</td>\n",
       "      <td>0.252835</td>\n",
       "      <td>6.597163</td>\n",
       "    </tr>\n",
       "    <tr>\n",
       "      <th>2</th>\n",
       "      <td>2.865565</td>\n",
       "      <td>0.016559</td>\n",
       "      <td>7.780967</td>\n",
       "    </tr>\n",
       "  </tbody>\n",
       "</table>\n",
       "</div>"
      ],
      "text/plain": [
       "   Kd (nM) log1p   Kd [μM]       pKd\n",
       "0       1.077023  0.001936  8.713111\n",
       "1       5.536683  0.252835  6.597163\n",
       "2       2.865565  0.016559  7.780967"
      ]
     },
     "execution_count": 11,
     "metadata": {},
     "output_type": "execute_result"
    }
   ],
   "source": [
    "VDR_prediction.iloc[:, VDR_prediction.columns.str.contains('Kd')]"
   ]
  },
  {
   "cell_type": "code",
   "execution_count": null,
   "id": "91d5851d",
   "metadata": {},
   "outputs": [],
   "source": []
  }
 ],
 "metadata": {
  "kernelspec": {
   "display_name": "Python 3",
   "language": "python",
   "name": "python3"
  },
  "language_info": {
   "codemirror_mode": {
    "name": "ipython",
    "version": 3
   },
   "file_extension": ".py",
   "mimetype": "text/x-python",
   "name": "python",
   "nbconvert_exporter": "python",
   "pygments_lexer": "ipython3",
   "version": "3.8.8"
  },
  "latex_envs": {
   "LaTeX_envs_menu_present": true,
   "autoclose": false,
   "autocomplete": true,
   "bibliofile": "biblio.bib",
   "cite_by": "apalike",
   "current_citInitial": 1,
   "eqLabelWithNumbers": true,
   "eqNumInitial": 1,
   "hotkeys": {
    "equation": "Ctrl-E",
    "itemize": "Ctrl-I"
   },
   "labels_anchors": false,
   "latex_user_defs": false,
   "report_style_numbering": false,
   "user_envs_cfg": false
  },
  "nbTranslate": {
   "displayLangs": [
    "*"
   ],
   "hotkey": "alt-t",
   "langInMainMenu": true,
   "sourceLang": "en",
   "targetLang": "fr",
   "useGoogleTranslate": true
  },
  "toc": {
   "base_numbering": 1,
   "nav_menu": {},
   "number_sections": true,
   "sideBar": true,
   "skip_h1_title": false,
   "title_cell": "Table of Contents",
   "title_sidebar": "Contents",
   "toc_cell": true,
   "toc_position": {},
   "toc_section_display": true,
   "toc_window_display": false
  }
 },
 "nbformat": 4,
 "nbformat_minor": 5
}

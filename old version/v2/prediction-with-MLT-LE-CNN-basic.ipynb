{
 "cells": [
  {
   "cell_type": "markdown",
   "id": "5b64e2be",
   "metadata": {
    "toc": true
   },
   "source": [
    "<h1>Table of Contents<span class=\"tocSkip\"></span></h1>\n",
    "<div class=\"toc\"><ul class=\"toc-item\"><li><span><a href=\"#Model\" data-toc-modified-id=\"Model-1\"><span class=\"toc-item-num\">1&nbsp;&nbsp;</span>Model</a></span></li><li><span><a href=\"#Test\" data-toc-modified-id=\"Test-2\"><span class=\"toc-item-num\">2&nbsp;&nbsp;</span>Test</a></span><ul class=\"toc-item\"><li><span><a href=\"#NB!-All-smiles-should-be-canonicalized-using-RDkit.\" data-toc-modified-id=\"NB!-All-smiles-should-be-canonicalized-using-RDkit.-2.1\"><span class=\"toc-item-num\">2.1&nbsp;&nbsp;</span>NB! All smiles should be canonicalized using RDkit.</a></span><ul class=\"toc-item\"><li><span><a href=\"#How-to-canonicalize-smiles-with-RDKit-for-MLT-LE\" data-toc-modified-id=\"How-to-canonicalize-smiles-with-RDKit-for-MLT-LE-2.1.1\"><span class=\"toc-item-num\">2.1.1&nbsp;&nbsp;</span>How to canonicalize smiles with RDKit for MLT-LE</a></span></li></ul></li><li><span><a href=\"#Calcitriol---VDR-ligand\" data-toc-modified-id=\"Calcitriol---VDR-ligand-2.2\"><span class=\"toc-item-num\">2.2&nbsp;&nbsp;</span>Calcitriol - VDR ligand</a></span></li><li><span><a href=\"#Diazepam---GABA-ligand\" data-toc-modified-id=\"Diazepam---GABA-ligand-2.3\"><span class=\"toc-item-num\">2.3&nbsp;&nbsp;</span>Diazepam - GABA ligand</a></span></li><li><span><a href=\"#Torin1---mTor-ligand\" data-toc-modified-id=\"Torin1---mTor-ligand-2.4\"><span class=\"toc-item-num\">2.4&nbsp;&nbsp;</span>Torin1 - mTor ligand</a></span></li></ul></li><li><span><a href=\"#p1Kd-to-pKd,-μM\" data-toc-modified-id=\"p1Kd-to-pKd,-μM-3\"><span class=\"toc-item-num\">3&nbsp;&nbsp;</span>p1Kd to pKd, μM</a></span></li></ul></div>"
   ]
  },
  {
   "cell_type": "markdown",
   "id": "7b2fc31e",
   "metadata": {},
   "source": [
    "# Model"
   ]
  },
  {
   "cell_type": "code",
   "execution_count": 1,
   "id": "13c6021f",
   "metadata": {
    "ExecuteTime": {
     "end_time": "2022-04-12T05:58:28.886479Z",
     "start_time": "2022-04-12T05:57:49.420591Z"
    }
   },
   "outputs": [],
   "source": [
    "from models.mlt_le_cnn_basic import *\n",
    "import pandas as pd\n",
    "from data.example_target_sequences import VDR, MTOR, GABA"
   ]
  },
  {
   "cell_type": "code",
   "execution_count": 2,
   "id": "9a3fd8ed",
   "metadata": {
    "ExecuteTime": {
     "end_time": "2022-04-12T05:58:30.649587Z",
     "start_time": "2022-04-12T05:58:28.889481Z"
    }
   },
   "outputs": [],
   "source": [
    "model = MLTLE()"
   ]
  },
  {
   "cell_type": "markdown",
   "id": "94ac3058",
   "metadata": {},
   "source": [
    "# Test\n",
    "\n",
    "## NB! All smiles should be canonicalized using RDkit.\n",
    "### How to canonicalize smiles with RDKit for MLT-LE\n",
    "\n",
    "```python\n",
    "\n",
    "# install RDKit\n",
    "!pip install rdkit-pypi\n",
    "from rdkit import Chem\n",
    "def to_non_isomeric_canonical(s):\n",
    "    \"\"\"\n",
    "    Removes isomeric features and makes RDKit canonical.\n",
    "    \n",
    "    Example:\n",
    "    pubchem_torin1 = \"CCC(=O)N1CCN(CC1)C2=C(C=C(C=C2)N3C(=O)C=CC4=CN=C5C=CC(=CC5=C43)C6=CC7=CC=CC=C7N=C6)C(F)(F)F\"\n",
    "    to_non_isomeric_canonical(pubchem_torin1)\n",
    "    >>CCC(=O)N1CCN(c2ccc(-n3c(=O)ccc4cnc5ccc(-c6cnc7ccccc7c6)cc5c43)cc2C(F)(F)F)CC1\n",
    "    \"\"\"\n",
    "    try:\n",
    "        mol = Chem.MolFromSmiles(s)\n",
    "        s = Chem.MolToSmiles(mol, isomericSmiles=False, canonical=True)\n",
    "        return s\n",
    "    except Exception as e:\n",
    "        # if smiles is invalid return NaN\n",
    "        print(s, e)\n",
    "        return np.nan\n",
    "```"
   ]
  },
  {
   "cell_type": "markdown",
   "id": "69fd6532",
   "metadata": {},
   "source": [
    "## Calcitriol - VDR ligand"
   ]
  },
  {
   "cell_type": "code",
   "execution_count": 3,
   "id": "2d51cb4e",
   "metadata": {
    "ExecuteTime": {
     "end_time": "2022-04-12T05:58:30.805743Z",
     "start_time": "2022-04-12T05:58:30.653595Z"
    }
   },
   "outputs": [
    {
     "data": {
      "text/html": [
       "<div>\n",
       "<style scoped>\n",
       "    .dataframe tbody tr th:only-of-type {\n",
       "        vertical-align: middle;\n",
       "    }\n",
       "\n",
       "    .dataframe tbody tr th {\n",
       "        vertical-align: top;\n",
       "    }\n",
       "\n",
       "    .dataframe thead th {\n",
       "        text-align: right;\n",
       "    }\n",
       "</style>\n",
       "<table border=\"1\" class=\"dataframe\">\n",
       "  <thead>\n",
       "    <tr style=\"text-align: right;\">\n",
       "      <th></th>\n",
       "      <th>smiles</th>\n",
       "      <th>target</th>\n",
       "    </tr>\n",
       "  </thead>\n",
       "  <tbody>\n",
       "    <tr>\n",
       "      <th>0</th>\n",
       "      <td>C=C1C(=CC=C2CCCC3(C)C2CCC3C(C)CCCC(C)(C)O)CC(O...</td>\n",
       "      <td>MEAMAASTSLPDPGDFDRNVPRICGVCGDRATGFHFNAMTCEGCKG...</td>\n",
       "    </tr>\n",
       "    <tr>\n",
       "      <th>1</th>\n",
       "      <td>C=C1C(=CC=C2CCCC3(C)C2CCC3C(C)CCCC(C)(C)O)CC(O...</td>\n",
       "      <td>MLGTGPAAATTAATTSSNVSVLQQFASGLKSRNEETRAKAAKELQH...</td>\n",
       "    </tr>\n",
       "    <tr>\n",
       "      <th>2</th>\n",
       "      <td>C=C1C(=CC=C2CCCC3(C)C2CCC3C(C)CCCC(C)(C)O)CC(O...</td>\n",
       "      <td>MRKSPGLSDCLWAWILLLSTLTGRSYGQPSLQDELKDNTTVFTRIL...</td>\n",
       "    </tr>\n",
       "  </tbody>\n",
       "</table>\n",
       "</div>"
      ],
      "text/plain": [
       "                                              smiles  \\\n",
       "0  C=C1C(=CC=C2CCCC3(C)C2CCC3C(C)CCCC(C)(C)O)CC(O...   \n",
       "1  C=C1C(=CC=C2CCCC3(C)C2CCC3C(C)CCCC(C)(C)O)CC(O...   \n",
       "2  C=C1C(=CC=C2CCCC3(C)C2CCC3C(C)CCCC(C)(C)O)CC(O...   \n",
       "\n",
       "                                              target  \n",
       "0  MEAMAASTSLPDPGDFDRNVPRICGVCGDRATGFHFNAMTCEGCKG...  \n",
       "1  MLGTGPAAATTAATTSSNVSVLQQFASGLKSRNEETRAKAAKELQH...  \n",
       "2  MRKSPGLSDCLWAWILLLSTLTGRSYGQPSLQDELKDNTTVFTRIL...  "
      ]
     },
     "execution_count": 3,
     "metadata": {},
     "output_type": "execute_result"
    }
   ],
   "source": [
    "calcitriol = \"C=C1C(=CC=C2CCCC3(C)C2CCC3C(C)CCCC(C)(C)O)CC(O)CC1O\"\n",
    "X_predict = pd.DataFrame()\n",
    "X_predict['smiles'] = [calcitriol, calcitriol, calcitriol]\n",
    "X_predict['target'] = [VDR, MTOR, GABA]\n",
    "X_predict.head()"
   ]
  },
  {
   "cell_type": "code",
   "execution_count": 4,
   "id": "c774b7a8",
   "metadata": {
    "ExecuteTime": {
     "end_time": "2022-04-12T05:58:31.882051Z",
     "start_time": "2022-04-12T05:58:30.809748Z"
    }
   },
   "outputs": [
    {
     "data": {
      "application/vnd.jupyter.widget-view+json": {
       "model_id": "c92db68d22b24a2a8dc7ce8dca761b9e",
       "version_major": 2,
       "version_minor": 0
      },
      "text/plain": [
       "  0%|          | 0/1 [00:00<?, ?it/s]"
      ]
     },
     "metadata": {},
     "output_type": "display_data"
    },
    {
     "data": {
      "application/vnd.jupyter.widget-view+json": {
       "model_id": "884d8149402343e78da25a7c0b4e6884",
       "version_major": 2,
       "version_minor": 0
      },
      "text/plain": [
       "  0%|          | 0/3 [00:00<?, ?it/s]"
      ]
     },
     "metadata": {},
     "output_type": "display_data"
    },
    {
     "name": "stdout",
     "output_type": "stream",
     "text": [
      "3/3 [==============================] - 1s 11ms/step\n"
     ]
    },
    {
     "data": {
      "text/html": [
       "<div>\n",
       "<style scoped>\n",
       "    .dataframe tbody tr th:only-of-type {\n",
       "        vertical-align: middle;\n",
       "    }\n",
       "\n",
       "    .dataframe tbody tr th {\n",
       "        vertical-align: top;\n",
       "    }\n",
       "\n",
       "    .dataframe thead th {\n",
       "        text-align: right;\n",
       "    }\n",
       "</style>\n",
       "<table border=\"1\" class=\"dataframe\">\n",
       "  <thead>\n",
       "    <tr style=\"text-align: right;\">\n",
       "      <th></th>\n",
       "      <th>smiles</th>\n",
       "      <th>target</th>\n",
       "      <th>p1Kd</th>\n",
       "      <th>p1Ki</th>\n",
       "      <th>p1IC50</th>\n",
       "      <th>p1EC50</th>\n",
       "      <th>is_active</th>\n",
       "      <th>pH</th>\n",
       "    </tr>\n",
       "  </thead>\n",
       "  <tbody>\n",
       "    <tr>\n",
       "      <th>0</th>\n",
       "      <td>C=C1C(=CC=C2CCCC3(C)C2CCC3C(C)CCCC(C)(C)O)CC(O...</td>\n",
       "      <td>MEAMAASTSLPDPGDFDRNVPRICGVCGDRATGFHFNAMTCEGCKG...</td>\n",
       "      <td>2.260201</td>\n",
       "      <td>1.819644</td>\n",
       "      <td>3.304926</td>\n",
       "      <td>3.203917</td>\n",
       "      <td>0.990441</td>\n",
       "      <td>7.367224</td>\n",
       "    </tr>\n",
       "    <tr>\n",
       "      <th>1</th>\n",
       "      <td>C=C1C(=CC=C2CCCC3(C)C2CCC3C(C)CCCC(C)(C)O)CC(O...</td>\n",
       "      <td>MLGTGPAAATTAATTSSNVSVLQQFASGLKSRNEETRAKAAKELQH...</td>\n",
       "      <td>6.205508</td>\n",
       "      <td>5.156794</td>\n",
       "      <td>7.044888</td>\n",
       "      <td>6.678210</td>\n",
       "      <td>0.542838</td>\n",
       "      <td>7.489058</td>\n",
       "    </tr>\n",
       "    <tr>\n",
       "      <th>2</th>\n",
       "      <td>C=C1C(=CC=C2CCCC3(C)C2CCC3C(C)CCCC(C)(C)O)CC(O...</td>\n",
       "      <td>MRKSPGLSDCLWAWILLLSTLTGRSYGQPSLQDELKDNTTVFTRIL...</td>\n",
       "      <td>5.208076</td>\n",
       "      <td>4.989997</td>\n",
       "      <td>6.000576</td>\n",
       "      <td>6.255589</td>\n",
       "      <td>0.633526</td>\n",
       "      <td>7.444518</td>\n",
       "    </tr>\n",
       "  </tbody>\n",
       "</table>\n",
       "</div>"
      ],
      "text/plain": [
       "                                              smiles  \\\n",
       "0  C=C1C(=CC=C2CCCC3(C)C2CCC3C(C)CCCC(C)(C)O)CC(O...   \n",
       "1  C=C1C(=CC=C2CCCC3(C)C2CCC3C(C)CCCC(C)(C)O)CC(O...   \n",
       "2  C=C1C(=CC=C2CCCC3(C)C2CCC3C(C)CCCC(C)(C)O)CC(O...   \n",
       "\n",
       "                                              target      p1Kd      p1Ki  \\\n",
       "0  MEAMAASTSLPDPGDFDRNVPRICGVCGDRATGFHFNAMTCEGCKG...  2.260201  1.819644   \n",
       "1  MLGTGPAAATTAATTSSNVSVLQQFASGLKSRNEETRAKAAKELQH...  6.205508  5.156794   \n",
       "2  MRKSPGLSDCLWAWILLLSTLTGRSYGQPSLQDELKDNTTVFTRIL...  5.208076  4.989997   \n",
       "\n",
       "     p1IC50    p1EC50  is_active        pH  \n",
       "0  3.304926  3.203917   0.990441  7.367224  \n",
       "1  7.044888  6.678210   0.542838  7.489058  \n",
       "2  6.000576  6.255589   0.633526  7.444518  "
      ]
     },
     "execution_count": 4,
     "metadata": {},
     "output_type": "execute_result"
    }
   ],
   "source": [
    "VDR_prediction = model.predict(X_predict)\n",
    "VDR_prediction"
   ]
  },
  {
   "cell_type": "markdown",
   "id": "38c3504f",
   "metadata": {},
   "source": [
    "## Diazepam - GABA ligand"
   ]
  },
  {
   "cell_type": "code",
   "execution_count": 5,
   "id": "cb5defae",
   "metadata": {
    "ExecuteTime": {
     "end_time": "2022-04-12T05:58:31.898059Z",
     "start_time": "2022-04-12T05:58:31.884056Z"
    }
   },
   "outputs": [
    {
     "data": {
      "text/html": [
       "<div>\n",
       "<style scoped>\n",
       "    .dataframe tbody tr th:only-of-type {\n",
       "        vertical-align: middle;\n",
       "    }\n",
       "\n",
       "    .dataframe tbody tr th {\n",
       "        vertical-align: top;\n",
       "    }\n",
       "\n",
       "    .dataframe thead th {\n",
       "        text-align: right;\n",
       "    }\n",
       "</style>\n",
       "<table border=\"1\" class=\"dataframe\">\n",
       "  <thead>\n",
       "    <tr style=\"text-align: right;\">\n",
       "      <th></th>\n",
       "      <th>smiles</th>\n",
       "      <th>target</th>\n",
       "    </tr>\n",
       "  </thead>\n",
       "  <tbody>\n",
       "    <tr>\n",
       "      <th>0</th>\n",
       "      <td>CN1C(=O)CN=C(c2ccccc2)c2cc(Cl)ccc21</td>\n",
       "      <td>MEAMAASTSLPDPGDFDRNVPRICGVCGDRATGFHFNAMTCEGCKG...</td>\n",
       "    </tr>\n",
       "    <tr>\n",
       "      <th>1</th>\n",
       "      <td>CN1C(=O)CN=C(c2ccccc2)c2cc(Cl)ccc21</td>\n",
       "      <td>MLGTGPAAATTAATTSSNVSVLQQFASGLKSRNEETRAKAAKELQH...</td>\n",
       "    </tr>\n",
       "    <tr>\n",
       "      <th>2</th>\n",
       "      <td>CN1C(=O)CN=C(c2ccccc2)c2cc(Cl)ccc21</td>\n",
       "      <td>MRKSPGLSDCLWAWILLLSTLTGRSYGQPSLQDELKDNTTVFTRIL...</td>\n",
       "    </tr>\n",
       "  </tbody>\n",
       "</table>\n",
       "</div>"
      ],
      "text/plain": [
       "                                smiles  \\\n",
       "0  CN1C(=O)CN=C(c2ccccc2)c2cc(Cl)ccc21   \n",
       "1  CN1C(=O)CN=C(c2ccccc2)c2cc(Cl)ccc21   \n",
       "2  CN1C(=O)CN=C(c2ccccc2)c2cc(Cl)ccc21   \n",
       "\n",
       "                                              target  \n",
       "0  MEAMAASTSLPDPGDFDRNVPRICGVCGDRATGFHFNAMTCEGCKG...  \n",
       "1  MLGTGPAAATTAATTSSNVSVLQQFASGLKSRNEETRAKAAKELQH...  \n",
       "2  MRKSPGLSDCLWAWILLLSTLTGRSYGQPSLQDELKDNTTVFTRIL...  "
      ]
     },
     "execution_count": 5,
     "metadata": {},
     "output_type": "execute_result"
    }
   ],
   "source": [
    "diazepam = \"CN1C(=O)CN=C(c2ccccc2)c2cc(Cl)ccc21\"\n",
    "X_predict = pd.DataFrame()\n",
    "X_predict['smiles'] = [diazepam, diazepam, diazepam]\n",
    "X_predict['target'] = [VDR, MTOR, GABA]\n",
    "X_predict.head()"
   ]
  },
  {
   "cell_type": "code",
   "execution_count": 6,
   "id": "c5b89051",
   "metadata": {
    "ExecuteTime": {
     "end_time": "2022-04-12T05:58:32.169057Z",
     "start_time": "2022-04-12T05:58:31.901056Z"
    }
   },
   "outputs": [
    {
     "data": {
      "application/vnd.jupyter.widget-view+json": {
       "model_id": "057ba527a6854d8ab854a04736e2665c",
       "version_major": 2,
       "version_minor": 0
      },
      "text/plain": [
       "  0%|          | 0/1 [00:00<?, ?it/s]"
      ]
     },
     "metadata": {},
     "output_type": "display_data"
    },
    {
     "data": {
      "application/vnd.jupyter.widget-view+json": {
       "model_id": "a8240ed20896428998a146885358351d",
       "version_major": 2,
       "version_minor": 0
      },
      "text/plain": [
       "  0%|          | 0/3 [00:00<?, ?it/s]"
      ]
     },
     "metadata": {},
     "output_type": "display_data"
    },
    {
     "name": "stdout",
     "output_type": "stream",
     "text": [
      "3/3 [==============================] - 0s 7ms/step\n"
     ]
    },
    {
     "data": {
      "text/html": [
       "<div>\n",
       "<style scoped>\n",
       "    .dataframe tbody tr th:only-of-type {\n",
       "        vertical-align: middle;\n",
       "    }\n",
       "\n",
       "    .dataframe tbody tr th {\n",
       "        vertical-align: top;\n",
       "    }\n",
       "\n",
       "    .dataframe thead th {\n",
       "        text-align: right;\n",
       "    }\n",
       "</style>\n",
       "<table border=\"1\" class=\"dataframe\">\n",
       "  <thead>\n",
       "    <tr style=\"text-align: right;\">\n",
       "      <th></th>\n",
       "      <th>smiles</th>\n",
       "      <th>target</th>\n",
       "      <th>p1Kd</th>\n",
       "      <th>p1Ki</th>\n",
       "      <th>p1IC50</th>\n",
       "      <th>p1EC50</th>\n",
       "      <th>is_active</th>\n",
       "      <th>pH</th>\n",
       "    </tr>\n",
       "  </thead>\n",
       "  <tbody>\n",
       "    <tr>\n",
       "      <th>0</th>\n",
       "      <td>CN1C(=O)CN=C(c2ccccc2)c2cc(Cl)ccc21</td>\n",
       "      <td>MEAMAASTSLPDPGDFDRNVPRICGVCGDRATGFHFNAMTCEGCKG...</td>\n",
       "      <td>8.841745</td>\n",
       "      <td>7.965289</td>\n",
       "      <td>8.773601</td>\n",
       "      <td>9.037476</td>\n",
       "      <td>0.172512</td>\n",
       "      <td>7.421063</td>\n",
       "    </tr>\n",
       "    <tr>\n",
       "      <th>1</th>\n",
       "      <td>CN1C(=O)CN=C(c2ccccc2)c2cc(Cl)ccc21</td>\n",
       "      <td>MLGTGPAAATTAATTSSNVSVLQQFASGLKSRNEETRAKAAKELQH...</td>\n",
       "      <td>8.612448</td>\n",
       "      <td>8.469353</td>\n",
       "      <td>9.103122</td>\n",
       "      <td>9.583772</td>\n",
       "      <td>0.102221</td>\n",
       "      <td>7.396526</td>\n",
       "    </tr>\n",
       "    <tr>\n",
       "      <th>2</th>\n",
       "      <td>CN1C(=O)CN=C(c2ccccc2)c2cc(Cl)ccc21</td>\n",
       "      <td>MRKSPGLSDCLWAWILLLSTLTGRSYGQPSLQDELKDNTTVFTRIL...</td>\n",
       "      <td>5.526977</td>\n",
       "      <td>4.941360</td>\n",
       "      <td>5.959026</td>\n",
       "      <td>5.830930</td>\n",
       "      <td>0.716690</td>\n",
       "      <td>7.452125</td>\n",
       "    </tr>\n",
       "  </tbody>\n",
       "</table>\n",
       "</div>"
      ],
      "text/plain": [
       "                                smiles  \\\n",
       "0  CN1C(=O)CN=C(c2ccccc2)c2cc(Cl)ccc21   \n",
       "1  CN1C(=O)CN=C(c2ccccc2)c2cc(Cl)ccc21   \n",
       "2  CN1C(=O)CN=C(c2ccccc2)c2cc(Cl)ccc21   \n",
       "\n",
       "                                              target      p1Kd      p1Ki  \\\n",
       "0  MEAMAASTSLPDPGDFDRNVPRICGVCGDRATGFHFNAMTCEGCKG...  8.841745  7.965289   \n",
       "1  MLGTGPAAATTAATTSSNVSVLQQFASGLKSRNEETRAKAAKELQH...  8.612448  8.469353   \n",
       "2  MRKSPGLSDCLWAWILLLSTLTGRSYGQPSLQDELKDNTTVFTRIL...  5.526977  4.941360   \n",
       "\n",
       "     p1IC50    p1EC50  is_active        pH  \n",
       "0  8.773601  9.037476   0.172512  7.421063  \n",
       "1  9.103122  9.583772   0.102221  7.396526  \n",
       "2  5.959026  5.830930   0.716690  7.452125  "
      ]
     },
     "execution_count": 6,
     "metadata": {},
     "output_type": "execute_result"
    }
   ],
   "source": [
    "GABA_prediction = model.predict(X_predict)\n",
    "GABA_prediction"
   ]
  },
  {
   "cell_type": "markdown",
   "id": "f4c3ca27",
   "metadata": {},
   "source": [
    "## Torin1 - mTor ligand"
   ]
  },
  {
   "cell_type": "code",
   "execution_count": 7,
   "id": "322e5a8c",
   "metadata": {
    "ExecuteTime": {
     "end_time": "2022-04-12T05:58:32.200081Z",
     "start_time": "2022-04-12T05:58:32.172055Z"
    }
   },
   "outputs": [
    {
     "data": {
      "text/html": [
       "<div>\n",
       "<style scoped>\n",
       "    .dataframe tbody tr th:only-of-type {\n",
       "        vertical-align: middle;\n",
       "    }\n",
       "\n",
       "    .dataframe tbody tr th {\n",
       "        vertical-align: top;\n",
       "    }\n",
       "\n",
       "    .dataframe thead th {\n",
       "        text-align: right;\n",
       "    }\n",
       "</style>\n",
       "<table border=\"1\" class=\"dataframe\">\n",
       "  <thead>\n",
       "    <tr style=\"text-align: right;\">\n",
       "      <th></th>\n",
       "      <th>smiles</th>\n",
       "      <th>target</th>\n",
       "    </tr>\n",
       "  </thead>\n",
       "  <tbody>\n",
       "    <tr>\n",
       "      <th>0</th>\n",
       "      <td>CCC(=O)N1CCN(c2ccc(-n3c(=O)ccc4cnc5ccc(-c6cnc7...</td>\n",
       "      <td>MEAMAASTSLPDPGDFDRNVPRICGVCGDRATGFHFNAMTCEGCKG...</td>\n",
       "    </tr>\n",
       "    <tr>\n",
       "      <th>1</th>\n",
       "      <td>CCC(=O)N1CCN(c2ccc(-n3c(=O)ccc4cnc5ccc(-c6cnc7...</td>\n",
       "      <td>MLGTGPAAATTAATTSSNVSVLQQFASGLKSRNEETRAKAAKELQH...</td>\n",
       "    </tr>\n",
       "    <tr>\n",
       "      <th>2</th>\n",
       "      <td>CCC(=O)N1CCN(c2ccc(-n3c(=O)ccc4cnc5ccc(-c6cnc7...</td>\n",
       "      <td>MRKSPGLSDCLWAWILLLSTLTGRSYGQPSLQDELKDNTTVFTRIL...</td>\n",
       "    </tr>\n",
       "  </tbody>\n",
       "</table>\n",
       "</div>"
      ],
      "text/plain": [
       "                                              smiles  \\\n",
       "0  CCC(=O)N1CCN(c2ccc(-n3c(=O)ccc4cnc5ccc(-c6cnc7...   \n",
       "1  CCC(=O)N1CCN(c2ccc(-n3c(=O)ccc4cnc5ccc(-c6cnc7...   \n",
       "2  CCC(=O)N1CCN(c2ccc(-n3c(=O)ccc4cnc5ccc(-c6cnc7...   \n",
       "\n",
       "                                              target  \n",
       "0  MEAMAASTSLPDPGDFDRNVPRICGVCGDRATGFHFNAMTCEGCKG...  \n",
       "1  MLGTGPAAATTAATTSSNVSVLQQFASGLKSRNEETRAKAAKELQH...  \n",
       "2  MRKSPGLSDCLWAWILLLSTLTGRSYGQPSLQDELKDNTTVFTRIL...  "
      ]
     },
     "execution_count": 7,
     "metadata": {},
     "output_type": "execute_result"
    }
   ],
   "source": [
    "torin1 = \"CCC(=O)N1CCN(c2ccc(-n3c(=O)ccc4cnc5ccc(-c6cnc7ccccc7c6)cc5c43)cc2C(F)(F)F)CC1\"\n",
    "X_predict = pd.DataFrame()\n",
    "X_predict['smiles'] = [torin1, torin1, torin1]\n",
    "X_predict['target'] = [VDR, MTOR, GABA]\n",
    "X_predict.head()"
   ]
  },
  {
   "cell_type": "code",
   "execution_count": 8,
   "id": "b2639a4e",
   "metadata": {
    "ExecuteTime": {
     "end_time": "2022-04-12T05:58:32.452095Z",
     "start_time": "2022-04-12T05:58:32.205086Z"
    }
   },
   "outputs": [
    {
     "data": {
      "application/vnd.jupyter.widget-view+json": {
       "model_id": "9b7dba4a8e694dec99cba9b9bf08d22b",
       "version_major": 2,
       "version_minor": 0
      },
      "text/plain": [
       "  0%|          | 0/1 [00:00<?, ?it/s]"
      ]
     },
     "metadata": {},
     "output_type": "display_data"
    },
    {
     "data": {
      "application/vnd.jupyter.widget-view+json": {
       "model_id": "c8ce392834b54a79a2c05c9b680a95af",
       "version_major": 2,
       "version_minor": 0
      },
      "text/plain": [
       "  0%|          | 0/3 [00:00<?, ?it/s]"
      ]
     },
     "metadata": {},
     "output_type": "display_data"
    },
    {
     "name": "stdout",
     "output_type": "stream",
     "text": [
      "3/3 [==============================] - 0s 6ms/step\n"
     ]
    },
    {
     "data": {
      "text/html": [
       "<div>\n",
       "<style scoped>\n",
       "    .dataframe tbody tr th:only-of-type {\n",
       "        vertical-align: middle;\n",
       "    }\n",
       "\n",
       "    .dataframe tbody tr th {\n",
       "        vertical-align: top;\n",
       "    }\n",
       "\n",
       "    .dataframe thead th {\n",
       "        text-align: right;\n",
       "    }\n",
       "</style>\n",
       "<table border=\"1\" class=\"dataframe\">\n",
       "  <thead>\n",
       "    <tr style=\"text-align: right;\">\n",
       "      <th></th>\n",
       "      <th>smiles</th>\n",
       "      <th>target</th>\n",
       "      <th>p1Kd</th>\n",
       "      <th>p1Ki</th>\n",
       "      <th>p1IC50</th>\n",
       "      <th>p1EC50</th>\n",
       "      <th>is_active</th>\n",
       "      <th>pH</th>\n",
       "    </tr>\n",
       "  </thead>\n",
       "  <tbody>\n",
       "    <tr>\n",
       "      <th>0</th>\n",
       "      <td>CCC(=O)N1CCN(c2ccc(-n3c(=O)ccc4cnc5ccc(-c6cnc7...</td>\n",
       "      <td>MEAMAASTSLPDPGDFDRNVPRICGVCGDRATGFHFNAMTCEGCKG...</td>\n",
       "      <td>5.794373</td>\n",
       "      <td>3.807833</td>\n",
       "      <td>5.263093</td>\n",
       "      <td>5.350934</td>\n",
       "      <td>0.794236</td>\n",
       "      <td>7.388403</td>\n",
       "    </tr>\n",
       "    <tr>\n",
       "      <th>1</th>\n",
       "      <td>CCC(=O)N1CCN(c2ccc(-n3c(=O)ccc4cnc5ccc(-c6cnc7...</td>\n",
       "      <td>MLGTGPAAATTAATTSSNVSVLQQFASGLKSRNEETRAKAAKELQH...</td>\n",
       "      <td>5.491033</td>\n",
       "      <td>3.763751</td>\n",
       "      <td>4.287543</td>\n",
       "      <td>4.772789</td>\n",
       "      <td>0.890154</td>\n",
       "      <td>7.397926</td>\n",
       "    </tr>\n",
       "    <tr>\n",
       "      <th>2</th>\n",
       "      <td>CCC(=O)N1CCN(c2ccc(-n3c(=O)ccc4cnc5ccc(-c6cnc7...</td>\n",
       "      <td>MRKSPGLSDCLWAWILLLSTLTGRSYGQPSLQDELKDNTTVFTRIL...</td>\n",
       "      <td>5.116737</td>\n",
       "      <td>3.548937</td>\n",
       "      <td>4.705631</td>\n",
       "      <td>5.020949</td>\n",
       "      <td>0.894261</td>\n",
       "      <td>7.404357</td>\n",
       "    </tr>\n",
       "  </tbody>\n",
       "</table>\n",
       "</div>"
      ],
      "text/plain": [
       "                                              smiles  \\\n",
       "0  CCC(=O)N1CCN(c2ccc(-n3c(=O)ccc4cnc5ccc(-c6cnc7...   \n",
       "1  CCC(=O)N1CCN(c2ccc(-n3c(=O)ccc4cnc5ccc(-c6cnc7...   \n",
       "2  CCC(=O)N1CCN(c2ccc(-n3c(=O)ccc4cnc5ccc(-c6cnc7...   \n",
       "\n",
       "                                              target      p1Kd      p1Ki  \\\n",
       "0  MEAMAASTSLPDPGDFDRNVPRICGVCGDRATGFHFNAMTCEGCKG...  5.794373  3.807833   \n",
       "1  MLGTGPAAATTAATTSSNVSVLQQFASGLKSRNEETRAKAAKELQH...  5.491033  3.763751   \n",
       "2  MRKSPGLSDCLWAWILLLSTLTGRSYGQPSLQDELKDNTTVFTRIL...  5.116737  3.548937   \n",
       "\n",
       "     p1IC50    p1EC50  is_active        pH  \n",
       "0  5.263093  5.350934   0.794236  7.388403  \n",
       "1  4.287543  4.772789   0.890154  7.397926  \n",
       "2  4.705631  5.020949   0.894261  7.404357  "
      ]
     },
     "execution_count": 8,
     "metadata": {},
     "output_type": "execute_result"
    }
   ],
   "source": [
    "MTOR_prediction = model.predict(X_predict)\n",
    "MTOR_prediction"
   ]
  },
  {
   "cell_type": "markdown",
   "id": "61ce13b5",
   "metadata": {},
   "source": [
    "# p1Kd to pKd, μM\n",
    "\n",
    "p1Kd = log(Kd+1)\n"
   ]
  },
  {
   "cell_type": "code",
   "execution_count": 9,
   "id": "4843bbc1",
   "metadata": {
    "ExecuteTime": {
     "end_time": "2022-04-12T05:58:32.468103Z",
     "start_time": "2022-04-12T05:58:32.455089Z"
    }
   },
   "outputs": [],
   "source": [
    "VDR_prediction['Kd [μM]'] = VDR_prediction['p1Kd'].apply(model.to_uM)\n",
    "VDR_prediction['pKd'] = VDR_prediction['p1Kd'].apply(model.to_pKd)"
   ]
  },
  {
   "cell_type": "code",
   "execution_count": 10,
   "id": "96409d17",
   "metadata": {
    "ExecuteTime": {
     "end_time": "2022-04-12T05:58:32.532097Z",
     "start_time": "2022-04-12T05:58:32.471098Z"
    }
   },
   "outputs": [
    {
     "data": {
      "text/html": [
       "<div>\n",
       "<style scoped>\n",
       "    .dataframe tbody tr th:only-of-type {\n",
       "        vertical-align: middle;\n",
       "    }\n",
       "\n",
       "    .dataframe tbody tr th {\n",
       "        vertical-align: top;\n",
       "    }\n",
       "\n",
       "    .dataframe thead th {\n",
       "        text-align: right;\n",
       "    }\n",
       "</style>\n",
       "<table border=\"1\" class=\"dataframe\">\n",
       "  <thead>\n",
       "    <tr style=\"text-align: right;\">\n",
       "      <th></th>\n",
       "      <th>p1Kd</th>\n",
       "      <th>Kd [μM]</th>\n",
       "      <th>pKd</th>\n",
       "    </tr>\n",
       "  </thead>\n",
       "  <tbody>\n",
       "    <tr>\n",
       "      <th>0</th>\n",
       "      <td>2.260201</td>\n",
       "      <td>0.008585</td>\n",
       "      <td>8.066259</td>\n",
       "    </tr>\n",
       "    <tr>\n",
       "      <th>1</th>\n",
       "      <td>6.205508</td>\n",
       "      <td>0.494470</td>\n",
       "      <td>6.305860</td>\n",
       "    </tr>\n",
       "    <tr>\n",
       "      <th>2</th>\n",
       "      <td>5.208076</td>\n",
       "      <td>0.181742</td>\n",
       "      <td>6.740544</td>\n",
       "    </tr>\n",
       "  </tbody>\n",
       "</table>\n",
       "</div>"
      ],
      "text/plain": [
       "       p1Kd   Kd [μM]       pKd\n",
       "0  2.260201  0.008585  8.066259\n",
       "1  6.205508  0.494470  6.305860\n",
       "2  5.208076  0.181742  6.740544"
      ]
     },
     "execution_count": 10,
     "metadata": {},
     "output_type": "execute_result"
    }
   ],
   "source": [
    "VDR_prediction.iloc[:, VDR_prediction.columns.str.contains('Kd')]"
   ]
  }
 ],
 "metadata": {
  "kernelspec": {
   "display_name": "Python 3",
   "language": "python",
   "name": "python3"
  },
  "language_info": {
   "codemirror_mode": {
    "name": "ipython",
    "version": 3
   },
   "file_extension": ".py",
   "mimetype": "text/x-python",
   "name": "python",
   "nbconvert_exporter": "python",
   "pygments_lexer": "ipython3",
   "version": "3.8.8"
  },
  "latex_envs": {
   "LaTeX_envs_menu_present": true,
   "autoclose": false,
   "autocomplete": true,
   "bibliofile": "biblio.bib",
   "cite_by": "apalike",
   "current_citInitial": 1,
   "eqLabelWithNumbers": true,
   "eqNumInitial": 1,
   "hotkeys": {
    "equation": "Ctrl-E",
    "itemize": "Ctrl-I"
   },
   "labels_anchors": false,
   "latex_user_defs": false,
   "report_style_numbering": false,
   "user_envs_cfg": false
  },
  "nbTranslate": {
   "displayLangs": [
    "*"
   ],
   "hotkey": "alt-t",
   "langInMainMenu": true,
   "sourceLang": "en",
   "targetLang": "fr",
   "useGoogleTranslate": true
  },
  "toc": {
   "base_numbering": 1,
   "nav_menu": {},
   "number_sections": true,
   "sideBar": true,
   "skip_h1_title": false,
   "title_cell": "Table of Contents",
   "title_sidebar": "Contents",
   "toc_cell": true,
   "toc_position": {},
   "toc_section_display": true,
   "toc_window_display": false
  }
 },
 "nbformat": 4,
 "nbformat_minor": 5
}

{
 "cells": [
  {
   "cell_type": "markdown",
   "id": "5b64e2be",
   "metadata": {
    "toc": true
   },
   "source": [
    "<h1>Table of Contents<span class=\"tocSkip\"></span></h1>\n",
    "<div class=\"toc\"><ul class=\"toc-item\"><li><span><a href=\"#Model\" data-toc-modified-id=\"Model-1\"><span class=\"toc-item-num\">1&nbsp;&nbsp;</span>Model</a></span></li><li><span><a href=\"#Test\" data-toc-modified-id=\"Test-2\"><span class=\"toc-item-num\">2&nbsp;&nbsp;</span>Test</a></span><ul class=\"toc-item\"><li><span><a href=\"#NB!-All-smiles-should-be-canonicalized-using-RDkit.\" data-toc-modified-id=\"NB!-All-smiles-should-be-canonicalized-using-RDkit.-2.1\"><span class=\"toc-item-num\">2.1&nbsp;&nbsp;</span>NB! All smiles should be canonicalized using RDkit.</a></span><ul class=\"toc-item\"><li><span><a href=\"#How-to-canonicalize-smiles-with-RDKit-for-MLT-LE\" data-toc-modified-id=\"How-to-canonicalize-smiles-with-RDKit-for-MLT-LE-2.1.1\"><span class=\"toc-item-num\">2.1.1&nbsp;&nbsp;</span>How to canonicalize smiles with RDKit for MLT-LE</a></span></li></ul></li><li><span><a href=\"#Calcitriol---VDR-ligand\" data-toc-modified-id=\"Calcitriol---VDR-ligand-2.2\"><span class=\"toc-item-num\">2.2&nbsp;&nbsp;</span>Calcitriol - VDR ligand</a></span></li><li><span><a href=\"#Diazepam---GABA-ligand\" data-toc-modified-id=\"Diazepam---GABA-ligand-2.3\"><span class=\"toc-item-num\">2.3&nbsp;&nbsp;</span>Diazepam - GABA ligand</a></span></li><li><span><a href=\"#Torin1---mTor-ligand\" data-toc-modified-id=\"Torin1---mTor-ligand-2.4\"><span class=\"toc-item-num\">2.4&nbsp;&nbsp;</span>Torin1 - mTor ligand</a></span></li></ul></li><li><span><a href=\"#p1Kd-to-pKd,-μM\" data-toc-modified-id=\"p1Kd-to-pKd,-μM-3\"><span class=\"toc-item-num\">3&nbsp;&nbsp;</span>p1Kd to pKd, μM</a></span></li></ul></div>"
   ]
  },
  {
   "cell_type": "markdown",
   "id": "7b2fc31e",
   "metadata": {},
   "source": [
    "# Model"
   ]
  },
  {
   "cell_type": "code",
   "execution_count": 1,
   "id": "13c6021f",
   "metadata": {
    "ExecuteTime": {
     "end_time": "2022-04-12T12:53:32.679809Z",
     "start_time": "2022-04-12T12:52:45.116811Z"
    }
   },
   "outputs": [],
   "source": [
    "from models.mlt_le_cnn_basic_with_memory import *\n",
    "import pandas as pd\n",
    "from data.example_target_sequences import VDR, MTOR, GABA"
   ]
  },
  {
   "cell_type": "code",
   "execution_count": 2,
   "id": "9a3fd8ed",
   "metadata": {
    "ExecuteTime": {
     "end_time": "2022-04-12T12:53:36.253571Z",
     "start_time": "2022-04-12T12:53:32.682827Z"
    }
   },
   "outputs": [],
   "source": [
    "model = MLTLE()"
   ]
  },
  {
   "cell_type": "markdown",
   "id": "94ac3058",
   "metadata": {},
   "source": [
    "# Test\n",
    "\n",
    "## NB! All smiles should be canonicalized using RDkit.\n",
    "### How to canonicalize smiles with RDKit for MLT-LE\n",
    "\n",
    "```python\n",
    "\n",
    "# install RDKit\n",
    "!pip install rdkit-pypi\n",
    "from rdkit import Chem\n",
    "def to_non_isomeric_canonical(s):\n",
    "    \"\"\"\n",
    "    Removes isomeric features and makes RDKit canonical.\n",
    "    \n",
    "    Example:\n",
    "    pubchem_torin1 = \"CCC(=O)N1CCN(CC1)C2=C(C=C(C=C2)N3C(=O)C=CC4=CN=C5C=CC(=CC5=C43)C6=CC7=CC=CC=C7N=C6)C(F)(F)F\"\n",
    "    to_non_isomeric_canonical(pubchem_torin1)\n",
    "    >>CCC(=O)N1CCN(c2ccc(-n3c(=O)ccc4cnc5ccc(-c6cnc7ccccc7c6)cc5c43)cc2C(F)(F)F)CC1\n",
    "    \"\"\"\n",
    "    try:\n",
    "        mol = Chem.MolFromSmiles(s)\n",
    "        s = Chem.MolToSmiles(mol, isomericSmiles=False, canonical=True)\n",
    "        return s\n",
    "    except Exception as e:\n",
    "        # if smiles is invalid return NaN\n",
    "        print(s, e)\n",
    "        return np.nan\n",
    "```"
   ]
  },
  {
   "cell_type": "markdown",
   "id": "69fd6532",
   "metadata": {},
   "source": [
    "## Calcitriol - VDR ligand"
   ]
  },
  {
   "cell_type": "code",
   "execution_count": 3,
   "id": "2d51cb4e",
   "metadata": {
    "ExecuteTime": {
     "end_time": "2022-04-12T12:53:36.428163Z",
     "start_time": "2022-04-12T12:53:36.255412Z"
    }
   },
   "outputs": [
    {
     "data": {
      "text/html": [
       "<div>\n",
       "<style scoped>\n",
       "    .dataframe tbody tr th:only-of-type {\n",
       "        vertical-align: middle;\n",
       "    }\n",
       "\n",
       "    .dataframe tbody tr th {\n",
       "        vertical-align: top;\n",
       "    }\n",
       "\n",
       "    .dataframe thead th {\n",
       "        text-align: right;\n",
       "    }\n",
       "</style>\n",
       "<table border=\"1\" class=\"dataframe\">\n",
       "  <thead>\n",
       "    <tr style=\"text-align: right;\">\n",
       "      <th></th>\n",
       "      <th>smiles</th>\n",
       "      <th>target</th>\n",
       "    </tr>\n",
       "  </thead>\n",
       "  <tbody>\n",
       "    <tr>\n",
       "      <th>0</th>\n",
       "      <td>C=C1C(=CC=C2CCCC3(C)C2CCC3C(C)CCCC(C)(C)O)CC(O...</td>\n",
       "      <td>MEAMAASTSLPDPGDFDRNVPRICGVCGDRATGFHFNAMTCEGCKG...</td>\n",
       "    </tr>\n",
       "    <tr>\n",
       "      <th>1</th>\n",
       "      <td>C=C1C(=CC=C2CCCC3(C)C2CCC3C(C)CCCC(C)(C)O)CC(O...</td>\n",
       "      <td>MLGTGPAAATTAATTSSNVSVLQQFASGLKSRNEETRAKAAKELQH...</td>\n",
       "    </tr>\n",
       "    <tr>\n",
       "      <th>2</th>\n",
       "      <td>C=C1C(=CC=C2CCCC3(C)C2CCC3C(C)CCCC(C)(C)O)CC(O...</td>\n",
       "      <td>MRKSPGLSDCLWAWILLLSTLTGRSYGQPSLQDELKDNTTVFTRIL...</td>\n",
       "    </tr>\n",
       "  </tbody>\n",
       "</table>\n",
       "</div>"
      ],
      "text/plain": [
       "                                              smiles  \\\n",
       "0  C=C1C(=CC=C2CCCC3(C)C2CCC3C(C)CCCC(C)(C)O)CC(O...   \n",
       "1  C=C1C(=CC=C2CCCC3(C)C2CCC3C(C)CCCC(C)(C)O)CC(O...   \n",
       "2  C=C1C(=CC=C2CCCC3(C)C2CCC3C(C)CCCC(C)(C)O)CC(O...   \n",
       "\n",
       "                                              target  \n",
       "0  MEAMAASTSLPDPGDFDRNVPRICGVCGDRATGFHFNAMTCEGCKG...  \n",
       "1  MLGTGPAAATTAATTSSNVSVLQQFASGLKSRNEETRAKAAKELQH...  \n",
       "2  MRKSPGLSDCLWAWILLLSTLTGRSYGQPSLQDELKDNTTVFTRIL...  "
      ]
     },
     "execution_count": 3,
     "metadata": {},
     "output_type": "execute_result"
    }
   ],
   "source": [
    "calcitriol = \"C=C1C(=CC=C2CCCC3(C)C2CCC3C(C)CCCC(C)(C)O)CC(O)CC1O\"\n",
    "X_predict = pd.DataFrame()\n",
    "X_predict['smiles'] = [calcitriol, calcitriol, calcitriol]\n",
    "X_predict['target'] = [VDR, MTOR, GABA]\n",
    "X_predict.head()"
   ]
  },
  {
   "cell_type": "code",
   "execution_count": 4,
   "id": "c774b7a8",
   "metadata": {
    "ExecuteTime": {
     "end_time": "2022-04-12T12:53:40.386617Z",
     "start_time": "2022-04-12T12:53:36.431171Z"
    }
   },
   "outputs": [
    {
     "data": {
      "application/vnd.jupyter.widget-view+json": {
       "model_id": "e1945d1a99344a779d3f0aa9458c6da3",
       "version_major": 2,
       "version_minor": 0
      },
      "text/plain": [
       "  0%|          | 0/1 [00:00<?, ?it/s]"
      ]
     },
     "metadata": {},
     "output_type": "display_data"
    },
    {
     "data": {
      "application/vnd.jupyter.widget-view+json": {
       "model_id": "1c3edae9f1ef4eaea86f76149849e081",
       "version_major": 2,
       "version_minor": 0
      },
      "text/plain": [
       "  0%|          | 0/3 [00:00<?, ?it/s]"
      ]
     },
     "metadata": {},
     "output_type": "display_data"
    },
    {
     "name": "stdout",
     "output_type": "stream",
     "text": [
      "3/3 [==============================] - 3s 27ms/step\n"
     ]
    },
    {
     "data": {
      "text/html": [
       "<div>\n",
       "<style scoped>\n",
       "    .dataframe tbody tr th:only-of-type {\n",
       "        vertical-align: middle;\n",
       "    }\n",
       "\n",
       "    .dataframe tbody tr th {\n",
       "        vertical-align: top;\n",
       "    }\n",
       "\n",
       "    .dataframe thead th {\n",
       "        text-align: right;\n",
       "    }\n",
       "</style>\n",
       "<table border=\"1\" class=\"dataframe\">\n",
       "  <thead>\n",
       "    <tr style=\"text-align: right;\">\n",
       "      <th></th>\n",
       "      <th>smiles</th>\n",
       "      <th>target</th>\n",
       "      <th>p1Kd</th>\n",
       "      <th>p1Ki</th>\n",
       "      <th>p1IC50</th>\n",
       "      <th>p1EC50</th>\n",
       "      <th>is_active</th>\n",
       "      <th>pH</th>\n",
       "    </tr>\n",
       "  </thead>\n",
       "  <tbody>\n",
       "    <tr>\n",
       "      <th>0</th>\n",
       "      <td>C=C1C(=CC=C2CCCC3(C)C2CCC3C(C)CCCC(C)(C)O)CC(O...</td>\n",
       "      <td>MEAMAASTSLPDPGDFDRNVPRICGVCGDRATGFHFNAMTCEGCKG...</td>\n",
       "      <td>0.552916</td>\n",
       "      <td>1.706918</td>\n",
       "      <td>2.598926</td>\n",
       "      <td>2.127594</td>\n",
       "      <td>0.986545</td>\n",
       "      <td>7.354312</td>\n",
       "    </tr>\n",
       "    <tr>\n",
       "      <th>1</th>\n",
       "      <td>C=C1C(=CC=C2CCCC3(C)C2CCC3C(C)CCCC(C)(C)O)CC(O...</td>\n",
       "      <td>MLGTGPAAATTAATTSSNVSVLQQFASGLKSRNEETRAKAAKELQH...</td>\n",
       "      <td>5.574427</td>\n",
       "      <td>5.283072</td>\n",
       "      <td>6.921693</td>\n",
       "      <td>7.705691</td>\n",
       "      <td>0.549589</td>\n",
       "      <td>7.354622</td>\n",
       "    </tr>\n",
       "    <tr>\n",
       "      <th>2</th>\n",
       "      <td>C=C1C(=CC=C2CCCC3(C)C2CCC3C(C)CCCC(C)(C)O)CC(O...</td>\n",
       "      <td>MRKSPGLSDCLWAWILLLSTLTGRSYGQPSLQDELKDNTTVFTRIL...</td>\n",
       "      <td>5.304507</td>\n",
       "      <td>4.889819</td>\n",
       "      <td>6.701900</td>\n",
       "      <td>8.349508</td>\n",
       "      <td>0.606734</td>\n",
       "      <td>7.426745</td>\n",
       "    </tr>\n",
       "  </tbody>\n",
       "</table>\n",
       "</div>"
      ],
      "text/plain": [
       "                                              smiles  \\\n",
       "0  C=C1C(=CC=C2CCCC3(C)C2CCC3C(C)CCCC(C)(C)O)CC(O...   \n",
       "1  C=C1C(=CC=C2CCCC3(C)C2CCC3C(C)CCCC(C)(C)O)CC(O...   \n",
       "2  C=C1C(=CC=C2CCCC3(C)C2CCC3C(C)CCCC(C)(C)O)CC(O...   \n",
       "\n",
       "                                              target      p1Kd      p1Ki  \\\n",
       "0  MEAMAASTSLPDPGDFDRNVPRICGVCGDRATGFHFNAMTCEGCKG...  0.552916  1.706918   \n",
       "1  MLGTGPAAATTAATTSSNVSVLQQFASGLKSRNEETRAKAAKELQH...  5.574427  5.283072   \n",
       "2  MRKSPGLSDCLWAWILLLSTLTGRSYGQPSLQDELKDNTTVFTRIL...  5.304507  4.889819   \n",
       "\n",
       "     p1IC50    p1EC50  is_active        pH  \n",
       "0  2.598926  2.127594   0.986545  7.354312  \n",
       "1  6.921693  7.705691   0.549589  7.354622  \n",
       "2  6.701900  8.349508   0.606734  7.426745  "
      ]
     },
     "execution_count": 4,
     "metadata": {},
     "output_type": "execute_result"
    }
   ],
   "source": [
    "VDR_prediction = model.predict(X_predict)\n",
    "VDR_prediction"
   ]
  },
  {
   "cell_type": "markdown",
   "id": "38c3504f",
   "metadata": {},
   "source": [
    "## Diazepam - GABA ligand"
   ]
  },
  {
   "cell_type": "code",
   "execution_count": 5,
   "id": "cb5defae",
   "metadata": {
    "ExecuteTime": {
     "end_time": "2022-04-12T12:53:40.418614Z",
     "start_time": "2022-04-12T12:53:40.390621Z"
    }
   },
   "outputs": [
    {
     "data": {
      "text/html": [
       "<div>\n",
       "<style scoped>\n",
       "    .dataframe tbody tr th:only-of-type {\n",
       "        vertical-align: middle;\n",
       "    }\n",
       "\n",
       "    .dataframe tbody tr th {\n",
       "        vertical-align: top;\n",
       "    }\n",
       "\n",
       "    .dataframe thead th {\n",
       "        text-align: right;\n",
       "    }\n",
       "</style>\n",
       "<table border=\"1\" class=\"dataframe\">\n",
       "  <thead>\n",
       "    <tr style=\"text-align: right;\">\n",
       "      <th></th>\n",
       "      <th>smiles</th>\n",
       "      <th>target</th>\n",
       "    </tr>\n",
       "  </thead>\n",
       "  <tbody>\n",
       "    <tr>\n",
       "      <th>0</th>\n",
       "      <td>CN1C(=O)CN=C(c2ccccc2)c2cc(Cl)ccc21</td>\n",
       "      <td>MEAMAASTSLPDPGDFDRNVPRICGVCGDRATGFHFNAMTCEGCKG...</td>\n",
       "    </tr>\n",
       "    <tr>\n",
       "      <th>1</th>\n",
       "      <td>CN1C(=O)CN=C(c2ccccc2)c2cc(Cl)ccc21</td>\n",
       "      <td>MLGTGPAAATTAATTSSNVSVLQQFASGLKSRNEETRAKAAKELQH...</td>\n",
       "    </tr>\n",
       "    <tr>\n",
       "      <th>2</th>\n",
       "      <td>CN1C(=O)CN=C(c2ccccc2)c2cc(Cl)ccc21</td>\n",
       "      <td>MRKSPGLSDCLWAWILLLSTLTGRSYGQPSLQDELKDNTTVFTRIL...</td>\n",
       "    </tr>\n",
       "  </tbody>\n",
       "</table>\n",
       "</div>"
      ],
      "text/plain": [
       "                                smiles  \\\n",
       "0  CN1C(=O)CN=C(c2ccccc2)c2cc(Cl)ccc21   \n",
       "1  CN1C(=O)CN=C(c2ccccc2)c2cc(Cl)ccc21   \n",
       "2  CN1C(=O)CN=C(c2ccccc2)c2cc(Cl)ccc21   \n",
       "\n",
       "                                              target  \n",
       "0  MEAMAASTSLPDPGDFDRNVPRICGVCGDRATGFHFNAMTCEGCKG...  \n",
       "1  MLGTGPAAATTAATTSSNVSVLQQFASGLKSRNEETRAKAAKELQH...  \n",
       "2  MRKSPGLSDCLWAWILLLSTLTGRSYGQPSLQDELKDNTTVFTRIL...  "
      ]
     },
     "execution_count": 5,
     "metadata": {},
     "output_type": "execute_result"
    }
   ],
   "source": [
    "diazepam = \"CN1C(=O)CN=C(c2ccccc2)c2cc(Cl)ccc21\"\n",
    "X_predict = pd.DataFrame()\n",
    "X_predict['smiles'] = [diazepam, diazepam, diazepam]\n",
    "X_predict['target'] = [VDR, MTOR, GABA]\n",
    "X_predict.head()"
   ]
  },
  {
   "cell_type": "code",
   "execution_count": 6,
   "id": "c5b89051",
   "metadata": {
    "ExecuteTime": {
     "end_time": "2022-04-12T12:53:40.671614Z",
     "start_time": "2022-04-12T12:53:40.420621Z"
    }
   },
   "outputs": [
    {
     "data": {
      "application/vnd.jupyter.widget-view+json": {
       "model_id": "41e83efe9ee345d69054bbf028cf4b85",
       "version_major": 2,
       "version_minor": 0
      },
      "text/plain": [
       "  0%|          | 0/1 [00:00<?, ?it/s]"
      ]
     },
     "metadata": {},
     "output_type": "display_data"
    },
    {
     "data": {
      "application/vnd.jupyter.widget-view+json": {
       "model_id": "868cac24854541db99e0eeae4ca631a0",
       "version_major": 2,
       "version_minor": 0
      },
      "text/plain": [
       "  0%|          | 0/3 [00:00<?, ?it/s]"
      ]
     },
     "metadata": {},
     "output_type": "display_data"
    },
    {
     "name": "stdout",
     "output_type": "stream",
     "text": [
      "3/3 [==============================] - 0s 7ms/step\n"
     ]
    },
    {
     "data": {
      "text/html": [
       "<div>\n",
       "<style scoped>\n",
       "    .dataframe tbody tr th:only-of-type {\n",
       "        vertical-align: middle;\n",
       "    }\n",
       "\n",
       "    .dataframe tbody tr th {\n",
       "        vertical-align: top;\n",
       "    }\n",
       "\n",
       "    .dataframe thead th {\n",
       "        text-align: right;\n",
       "    }\n",
       "</style>\n",
       "<table border=\"1\" class=\"dataframe\">\n",
       "  <thead>\n",
       "    <tr style=\"text-align: right;\">\n",
       "      <th></th>\n",
       "      <th>smiles</th>\n",
       "      <th>target</th>\n",
       "      <th>p1Kd</th>\n",
       "      <th>p1Ki</th>\n",
       "      <th>p1IC50</th>\n",
       "      <th>p1EC50</th>\n",
       "      <th>is_active</th>\n",
       "      <th>pH</th>\n",
       "    </tr>\n",
       "  </thead>\n",
       "  <tbody>\n",
       "    <tr>\n",
       "      <th>0</th>\n",
       "      <td>CN1C(=O)CN=C(c2ccccc2)c2cc(Cl)ccc21</td>\n",
       "      <td>MEAMAASTSLPDPGDFDRNVPRICGVCGDRATGFHFNAMTCEGCKG...</td>\n",
       "      <td>8.271052</td>\n",
       "      <td>7.759677</td>\n",
       "      <td>8.270990</td>\n",
       "      <td>9.340125</td>\n",
       "      <td>0.197094</td>\n",
       "      <td>7.390858</td>\n",
       "    </tr>\n",
       "    <tr>\n",
       "      <th>1</th>\n",
       "      <td>CN1C(=O)CN=C(c2ccccc2)c2cc(Cl)ccc21</td>\n",
       "      <td>MLGTGPAAATTAATTSSNVSVLQQFASGLKSRNEETRAKAAKELQH...</td>\n",
       "      <td>8.458270</td>\n",
       "      <td>7.461936</td>\n",
       "      <td>9.431652</td>\n",
       "      <td>9.147441</td>\n",
       "      <td>0.121497</td>\n",
       "      <td>7.539183</td>\n",
       "    </tr>\n",
       "    <tr>\n",
       "      <th>2</th>\n",
       "      <td>CN1C(=O)CN=C(c2ccccc2)c2cc(Cl)ccc21</td>\n",
       "      <td>MRKSPGLSDCLWAWILLLSTLTGRSYGQPSLQDELKDNTTVFTRIL...</td>\n",
       "      <td>2.641443</td>\n",
       "      <td>3.534576</td>\n",
       "      <td>7.291436</td>\n",
       "      <td>6.100872</td>\n",
       "      <td>0.837896</td>\n",
       "      <td>7.562299</td>\n",
       "    </tr>\n",
       "  </tbody>\n",
       "</table>\n",
       "</div>"
      ],
      "text/plain": [
       "                                smiles  \\\n",
       "0  CN1C(=O)CN=C(c2ccccc2)c2cc(Cl)ccc21   \n",
       "1  CN1C(=O)CN=C(c2ccccc2)c2cc(Cl)ccc21   \n",
       "2  CN1C(=O)CN=C(c2ccccc2)c2cc(Cl)ccc21   \n",
       "\n",
       "                                              target      p1Kd      p1Ki  \\\n",
       "0  MEAMAASTSLPDPGDFDRNVPRICGVCGDRATGFHFNAMTCEGCKG...  8.271052  7.759677   \n",
       "1  MLGTGPAAATTAATTSSNVSVLQQFASGLKSRNEETRAKAAKELQH...  8.458270  7.461936   \n",
       "2  MRKSPGLSDCLWAWILLLSTLTGRSYGQPSLQDELKDNTTVFTRIL...  2.641443  3.534576   \n",
       "\n",
       "     p1IC50    p1EC50  is_active        pH  \n",
       "0  8.270990  9.340125   0.197094  7.390858  \n",
       "1  9.431652  9.147441   0.121497  7.539183  \n",
       "2  7.291436  6.100872   0.837896  7.562299  "
      ]
     },
     "execution_count": 6,
     "metadata": {},
     "output_type": "execute_result"
    }
   ],
   "source": [
    "GABA_prediction = model.predict(X_predict)\n",
    "GABA_prediction"
   ]
  },
  {
   "cell_type": "markdown",
   "id": "f4c3ca27",
   "metadata": {},
   "source": [
    "## Torin1 - mTor ligand"
   ]
  },
  {
   "cell_type": "code",
   "execution_count": 7,
   "id": "322e5a8c",
   "metadata": {
    "ExecuteTime": {
     "end_time": "2022-04-12T12:53:40.702620Z",
     "start_time": "2022-04-12T12:53:40.675621Z"
    }
   },
   "outputs": [
    {
     "data": {
      "text/html": [
       "<div>\n",
       "<style scoped>\n",
       "    .dataframe tbody tr th:only-of-type {\n",
       "        vertical-align: middle;\n",
       "    }\n",
       "\n",
       "    .dataframe tbody tr th {\n",
       "        vertical-align: top;\n",
       "    }\n",
       "\n",
       "    .dataframe thead th {\n",
       "        text-align: right;\n",
       "    }\n",
       "</style>\n",
       "<table border=\"1\" class=\"dataframe\">\n",
       "  <thead>\n",
       "    <tr style=\"text-align: right;\">\n",
       "      <th></th>\n",
       "      <th>smiles</th>\n",
       "      <th>target</th>\n",
       "    </tr>\n",
       "  </thead>\n",
       "  <tbody>\n",
       "    <tr>\n",
       "      <th>0</th>\n",
       "      <td>CCC(=O)N1CCN(c2ccc(-n3c(=O)ccc4cnc5ccc(-c6cnc7...</td>\n",
       "      <td>MEAMAASTSLPDPGDFDRNVPRICGVCGDRATGFHFNAMTCEGCKG...</td>\n",
       "    </tr>\n",
       "    <tr>\n",
       "      <th>1</th>\n",
       "      <td>CCC(=O)N1CCN(c2ccc(-n3c(=O)ccc4cnc5ccc(-c6cnc7...</td>\n",
       "      <td>MLGTGPAAATTAATTSSNVSVLQQFASGLKSRNEETRAKAAKELQH...</td>\n",
       "    </tr>\n",
       "    <tr>\n",
       "      <th>2</th>\n",
       "      <td>CCC(=O)N1CCN(c2ccc(-n3c(=O)ccc4cnc5ccc(-c6cnc7...</td>\n",
       "      <td>MRKSPGLSDCLWAWILLLSTLTGRSYGQPSLQDELKDNTTVFTRIL...</td>\n",
       "    </tr>\n",
       "  </tbody>\n",
       "</table>\n",
       "</div>"
      ],
      "text/plain": [
       "                                              smiles  \\\n",
       "0  CCC(=O)N1CCN(c2ccc(-n3c(=O)ccc4cnc5ccc(-c6cnc7...   \n",
       "1  CCC(=O)N1CCN(c2ccc(-n3c(=O)ccc4cnc5ccc(-c6cnc7...   \n",
       "2  CCC(=O)N1CCN(c2ccc(-n3c(=O)ccc4cnc5ccc(-c6cnc7...   \n",
       "\n",
       "                                              target  \n",
       "0  MEAMAASTSLPDPGDFDRNVPRICGVCGDRATGFHFNAMTCEGCKG...  \n",
       "1  MLGTGPAAATTAATTSSNVSVLQQFASGLKSRNEETRAKAAKELQH...  \n",
       "2  MRKSPGLSDCLWAWILLLSTLTGRSYGQPSLQDELKDNTTVFTRIL...  "
      ]
     },
     "execution_count": 7,
     "metadata": {},
     "output_type": "execute_result"
    }
   ],
   "source": [
    "torin1 = \"CCC(=O)N1CCN(c2ccc(-n3c(=O)ccc4cnc5ccc(-c6cnc7ccccc7c6)cc5c43)cc2C(F)(F)F)CC1\"\n",
    "X_predict = pd.DataFrame()\n",
    "X_predict['smiles'] = [torin1, torin1, torin1]\n",
    "X_predict['target'] = [VDR, MTOR, GABA]\n",
    "X_predict.head()"
   ]
  },
  {
   "cell_type": "code",
   "execution_count": 8,
   "id": "b2639a4e",
   "metadata": {
    "ExecuteTime": {
     "end_time": "2022-04-12T12:53:40.958612Z",
     "start_time": "2022-04-12T12:53:40.705615Z"
    }
   },
   "outputs": [
    {
     "data": {
      "application/vnd.jupyter.widget-view+json": {
       "model_id": "f44c7b00b65849098cc882ba260d2a66",
       "version_major": 2,
       "version_minor": 0
      },
      "text/plain": [
       "  0%|          | 0/1 [00:00<?, ?it/s]"
      ]
     },
     "metadata": {},
     "output_type": "display_data"
    },
    {
     "data": {
      "application/vnd.jupyter.widget-view+json": {
       "model_id": "8b6793cf0656487d837df597223d1c9b",
       "version_major": 2,
       "version_minor": 0
      },
      "text/plain": [
       "  0%|          | 0/3 [00:00<?, ?it/s]"
      ]
     },
     "metadata": {},
     "output_type": "display_data"
    },
    {
     "name": "stdout",
     "output_type": "stream",
     "text": [
      "3/3 [==============================] - 0s 7ms/step\n"
     ]
    },
    {
     "data": {
      "text/html": [
       "<div>\n",
       "<style scoped>\n",
       "    .dataframe tbody tr th:only-of-type {\n",
       "        vertical-align: middle;\n",
       "    }\n",
       "\n",
       "    .dataframe tbody tr th {\n",
       "        vertical-align: top;\n",
       "    }\n",
       "\n",
       "    .dataframe thead th {\n",
       "        text-align: right;\n",
       "    }\n",
       "</style>\n",
       "<table border=\"1\" class=\"dataframe\">\n",
       "  <thead>\n",
       "    <tr style=\"text-align: right;\">\n",
       "      <th></th>\n",
       "      <th>smiles</th>\n",
       "      <th>target</th>\n",
       "      <th>p1Kd</th>\n",
       "      <th>p1Ki</th>\n",
       "      <th>p1IC50</th>\n",
       "      <th>p1EC50</th>\n",
       "      <th>is_active</th>\n",
       "      <th>pH</th>\n",
       "    </tr>\n",
       "  </thead>\n",
       "  <tbody>\n",
       "    <tr>\n",
       "      <th>0</th>\n",
       "      <td>CCC(=O)N1CCN(c2ccc(-n3c(=O)ccc4cnc5ccc(-c6cnc7...</td>\n",
       "      <td>MEAMAASTSLPDPGDFDRNVPRICGVCGDRATGFHFNAMTCEGCKG...</td>\n",
       "      <td>7.021446</td>\n",
       "      <td>5.650318</td>\n",
       "      <td>7.064110</td>\n",
       "      <td>7.495184</td>\n",
       "      <td>0.504644</td>\n",
       "      <td>7.498044</td>\n",
       "    </tr>\n",
       "    <tr>\n",
       "      <th>1</th>\n",
       "      <td>CCC(=O)N1CCN(c2ccc(-n3c(=O)ccc4cnc5ccc(-c6cnc7...</td>\n",
       "      <td>MLGTGPAAATTAATTSSNVSVLQQFASGLKSRNEETRAKAAKELQH...</td>\n",
       "      <td>2.508047</td>\n",
       "      <td>2.225740</td>\n",
       "      <td>3.294503</td>\n",
       "      <td>3.690487</td>\n",
       "      <td>0.966631</td>\n",
       "      <td>7.484052</td>\n",
       "    </tr>\n",
       "    <tr>\n",
       "      <th>2</th>\n",
       "      <td>CCC(=O)N1CCN(c2ccc(-n3c(=O)ccc4cnc5ccc(-c6cnc7...</td>\n",
       "      <td>MRKSPGLSDCLWAWILLLSTLTGRSYGQPSLQDELKDNTTVFTRIL...</td>\n",
       "      <td>4.714337</td>\n",
       "      <td>2.885322</td>\n",
       "      <td>3.784179</td>\n",
       "      <td>5.531103</td>\n",
       "      <td>0.958375</td>\n",
       "      <td>7.485838</td>\n",
       "    </tr>\n",
       "  </tbody>\n",
       "</table>\n",
       "</div>"
      ],
      "text/plain": [
       "                                              smiles  \\\n",
       "0  CCC(=O)N1CCN(c2ccc(-n3c(=O)ccc4cnc5ccc(-c6cnc7...   \n",
       "1  CCC(=O)N1CCN(c2ccc(-n3c(=O)ccc4cnc5ccc(-c6cnc7...   \n",
       "2  CCC(=O)N1CCN(c2ccc(-n3c(=O)ccc4cnc5ccc(-c6cnc7...   \n",
       "\n",
       "                                              target      p1Kd      p1Ki  \\\n",
       "0  MEAMAASTSLPDPGDFDRNVPRICGVCGDRATGFHFNAMTCEGCKG...  7.021446  5.650318   \n",
       "1  MLGTGPAAATTAATTSSNVSVLQQFASGLKSRNEETRAKAAKELQH...  2.508047  2.225740   \n",
       "2  MRKSPGLSDCLWAWILLLSTLTGRSYGQPSLQDELKDNTTVFTRIL...  4.714337  2.885322   \n",
       "\n",
       "     p1IC50    p1EC50  is_active        pH  \n",
       "0  7.064110  7.495184   0.504644  7.498044  \n",
       "1  3.294503  3.690487   0.966631  7.484052  \n",
       "2  3.784179  5.531103   0.958375  7.485838  "
      ]
     },
     "execution_count": 8,
     "metadata": {},
     "output_type": "execute_result"
    }
   ],
   "source": [
    "MTOR_prediction = model.predict(X_predict)\n",
    "MTOR_prediction"
   ]
  },
  {
   "cell_type": "markdown",
   "id": "61ce13b5",
   "metadata": {},
   "source": [
    "# p1Kd to pKd, μM\n",
    "\n",
    "p1Kd = log(Kd+1)\n"
   ]
  },
  {
   "cell_type": "code",
   "execution_count": 9,
   "id": "4843bbc1",
   "metadata": {
    "ExecuteTime": {
     "end_time": "2022-04-12T12:53:40.974612Z",
     "start_time": "2022-04-12T12:53:40.960613Z"
    }
   },
   "outputs": [],
   "source": [
    "VDR_prediction['Kd [μM]'] = VDR_prediction['p1Kd'].apply(model.to_uM)\n",
    "VDR_prediction['pKd'] = VDR_prediction['p1Kd'].apply(model.to_pKd)"
   ]
  },
  {
   "cell_type": "code",
   "execution_count": 10,
   "id": "96409d17",
   "metadata": {
    "ExecuteTime": {
     "end_time": "2022-04-12T12:53:41.054655Z",
     "start_time": "2022-04-12T12:53:40.979629Z"
    }
   },
   "outputs": [
    {
     "data": {
      "text/html": [
       "<div>\n",
       "<style scoped>\n",
       "    .dataframe tbody tr th:only-of-type {\n",
       "        vertical-align: middle;\n",
       "    }\n",
       "\n",
       "    .dataframe tbody tr th {\n",
       "        vertical-align: top;\n",
       "    }\n",
       "\n",
       "    .dataframe thead th {\n",
       "        text-align: right;\n",
       "    }\n",
       "</style>\n",
       "<table border=\"1\" class=\"dataframe\">\n",
       "  <thead>\n",
       "    <tr style=\"text-align: right;\">\n",
       "      <th></th>\n",
       "      <th>p1Kd</th>\n",
       "      <th>Kd [μM]</th>\n",
       "      <th>pKd</th>\n",
       "    </tr>\n",
       "  </thead>\n",
       "  <tbody>\n",
       "    <tr>\n",
       "      <th>0</th>\n",
       "      <td>0.552916</td>\n",
       "      <td>0.000738</td>\n",
       "      <td>9.131759</td>\n",
       "    </tr>\n",
       "    <tr>\n",
       "      <th>1</th>\n",
       "      <td>5.574427</td>\n",
       "      <td>0.262599</td>\n",
       "      <td>6.580708</td>\n",
       "    </tr>\n",
       "    <tr>\n",
       "      <th>2</th>\n",
       "      <td>5.304507</td>\n",
       "      <td>0.200242</td>\n",
       "      <td>6.698445</td>\n",
       "    </tr>\n",
       "  </tbody>\n",
       "</table>\n",
       "</div>"
      ],
      "text/plain": [
       "       p1Kd   Kd [μM]       pKd\n",
       "0  0.552916  0.000738  9.131759\n",
       "1  5.574427  0.262599  6.580708\n",
       "2  5.304507  0.200242  6.698445"
      ]
     },
     "execution_count": 10,
     "metadata": {},
     "output_type": "execute_result"
    }
   ],
   "source": [
    "VDR_prediction.iloc[:, VDR_prediction.columns.str.contains('Kd')]"
   ]
  }
 ],
 "metadata": {
  "kernelspec": {
   "display_name": "Python 3",
   "language": "python",
   "name": "python3"
  },
  "language_info": {
   "codemirror_mode": {
    "name": "ipython",
    "version": 3
   },
   "file_extension": ".py",
   "mimetype": "text/x-python",
   "name": "python",
   "nbconvert_exporter": "python",
   "pygments_lexer": "ipython3",
   "version": "3.8.8"
  },
  "latex_envs": {
   "LaTeX_envs_menu_present": true,
   "autoclose": false,
   "autocomplete": true,
   "bibliofile": "biblio.bib",
   "cite_by": "apalike",
   "current_citInitial": 1,
   "eqLabelWithNumbers": true,
   "eqNumInitial": 1,
   "hotkeys": {
    "equation": "Ctrl-E",
    "itemize": "Ctrl-I"
   },
   "labels_anchors": false,
   "latex_user_defs": false,
   "report_style_numbering": false,
   "user_envs_cfg": false
  },
  "nbTranslate": {
   "displayLangs": [
    "*"
   ],
   "hotkey": "alt-t",
   "langInMainMenu": true,
   "sourceLang": "en",
   "targetLang": "fr",
   "useGoogleTranslate": true
  },
  "toc": {
   "base_numbering": 1,
   "nav_menu": {},
   "number_sections": true,
   "sideBar": true,
   "skip_h1_title": false,
   "title_cell": "Table of Contents",
   "title_sidebar": "Contents",
   "toc_cell": true,
   "toc_position": {},
   "toc_section_display": true,
   "toc_window_display": false
  }
 },
 "nbformat": 4,
 "nbformat_minor": 5
}

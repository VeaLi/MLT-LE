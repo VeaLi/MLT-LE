{
 "cells": [
  {
   "cell_type": "markdown",
   "id": "5b64e2be",
   "metadata": {
    "toc": true
   },
   "source": [
    "<h1>Table of Contents<span class=\"tocSkip\"></span></h1>\n",
    "<div class=\"toc\"><ul class=\"toc-item\"><li><span><a href=\"#Model\" data-toc-modified-id=\"Model-1\"><span class=\"toc-item-num\">1&nbsp;&nbsp;</span>Model</a></span></li><li><span><a href=\"#Test\" data-toc-modified-id=\"Test-2\"><span class=\"toc-item-num\">2&nbsp;&nbsp;</span>Test</a></span><ul class=\"toc-item\"><li><span><a href=\"#NB!-All-smiles-should-be-canonicalized-using-RDkit.\" data-toc-modified-id=\"NB!-All-smiles-should-be-canonicalized-using-RDkit.-2.1\"><span class=\"toc-item-num\">2.1&nbsp;&nbsp;</span>NB! All smiles should be canonicalized using RDkit.</a></span><ul class=\"toc-item\"><li><span><a href=\"#How-to-canonicalize-smiles-with-RDKit-for-MLT-LE\" data-toc-modified-id=\"How-to-canonicalize-smiles-with-RDKit-for-MLT-LE-2.1.1\"><span class=\"toc-item-num\">2.1.1&nbsp;&nbsp;</span>How to canonicalize smiles with RDKit for MLT-LE</a></span></li></ul></li><li><span><a href=\"#Calcitriol---VDR-ligand\" data-toc-modified-id=\"Calcitriol---VDR-ligand-2.2\"><span class=\"toc-item-num\">2.2&nbsp;&nbsp;</span>Calcitriol - VDR ligand</a></span></li><li><span><a href=\"#Diazepam---GABA-ligand\" data-toc-modified-id=\"Diazepam---GABA-ligand-2.3\"><span class=\"toc-item-num\">2.3&nbsp;&nbsp;</span>Diazepam - GABA ligand</a></span></li><li><span><a href=\"#Torin1---mTor-ligand\" data-toc-modified-id=\"Torin1---mTor-ligand-2.4\"><span class=\"toc-item-num\">2.4&nbsp;&nbsp;</span>Torin1 - mTor ligand</a></span></li></ul></li><li><span><a href=\"#p1Kd-to-pKd,-μM\" data-toc-modified-id=\"p1Kd-to-pKd,-μM-3\"><span class=\"toc-item-num\">3&nbsp;&nbsp;</span>p1Kd to pKd, μM</a></span></li></ul></div>"
   ]
  },
  {
   "cell_type": "markdown",
   "id": "7b2fc31e",
   "metadata": {},
   "source": [
    "# Model"
   ]
  },
  {
   "cell_type": "code",
   "execution_count": 1,
   "id": "13c6021f",
   "metadata": {
    "ExecuteTime": {
     "end_time": "2022-04-10T16:23:29.433448Z",
     "start_time": "2022-04-10T16:23:26.017610Z"
    }
   },
   "outputs": [],
   "source": [
    "from models.mlt_le_cnn_basic import *\n",
    "import pandas as pd\n",
    "from data.example_target_sequences import VDR, MTOR, GABA"
   ]
  },
  {
   "cell_type": "code",
   "execution_count": 2,
   "id": "9a3fd8ed",
   "metadata": {
    "ExecuteTime": {
     "end_time": "2022-04-10T16:23:29.904847Z",
     "start_time": "2022-04-10T16:23:29.435494Z"
    }
   },
   "outputs": [],
   "source": [
    "model = MLTLE()"
   ]
  },
  {
   "cell_type": "markdown",
   "id": "94ac3058",
   "metadata": {},
   "source": [
    "# Test\n",
    "\n",
    "## NB! All smiles should be canonicalized using RDkit.\n",
    "### How to canonicalize smiles with RDKit for MLT-LE\n",
    "\n",
    "```python\n",
    "\n",
    "# install RDKit\n",
    "!pip install rdkit-pypi\n",
    "from rdkit import Chem\n",
    "def to_non_isomeric_canonical(s):\n",
    "    \"\"\"\n",
    "    Removes isomeric features and makes RDKit canonical.\n",
    "    \n",
    "    Example:\n",
    "    pubchem_torin1 = \"CCC(=O)N1CCN(CC1)C2=C(C=C(C=C2)N3C(=O)C=CC4=CN=C5C=CC(=CC5=C43)C6=CC7=CC=CC=C7N=C6)C(F)(F)F\"\n",
    "    to_non_isomeric_canonical(pubchem_torin1)\n",
    "    >>CCC(=O)N1CCN(c2ccc(-n3c(=O)ccc4cnc5ccc(-c6cnc7ccccc7c6)cc5c43)cc2C(F)(F)F)CC1\n",
    "    \"\"\"\n",
    "    try:\n",
    "        mol = Chem.MolFromSmiles(s)\n",
    "        s = Chem.MolToSmiles(mol, isomericSmiles=False, canonical=True)\n",
    "        return s\n",
    "    except Exception as e:\n",
    "        # if smiles is invalid return NaN\n",
    "        print(s, e)\n",
    "        return np.nan\n",
    "```"
   ]
  },
  {
   "cell_type": "markdown",
   "id": "69fd6532",
   "metadata": {},
   "source": [
    "## Calcitriol - VDR ligand"
   ]
  },
  {
   "cell_type": "code",
   "execution_count": 3,
   "id": "2d51cb4e",
   "metadata": {
    "ExecuteTime": {
     "end_time": "2022-04-10T16:23:29.936107Z",
     "start_time": "2022-04-10T16:23:29.904847Z"
    }
   },
   "outputs": [
    {
     "data": {
      "text/html": [
       "<div>\n",
       "<style scoped>\n",
       "    .dataframe tbody tr th:only-of-type {\n",
       "        vertical-align: middle;\n",
       "    }\n",
       "\n",
       "    .dataframe tbody tr th {\n",
       "        vertical-align: top;\n",
       "    }\n",
       "\n",
       "    .dataframe thead th {\n",
       "        text-align: right;\n",
       "    }\n",
       "</style>\n",
       "<table border=\"1\" class=\"dataframe\">\n",
       "  <thead>\n",
       "    <tr style=\"text-align: right;\">\n",
       "      <th></th>\n",
       "      <th>smiles</th>\n",
       "      <th>target</th>\n",
       "    </tr>\n",
       "  </thead>\n",
       "  <tbody>\n",
       "    <tr>\n",
       "      <th>0</th>\n",
       "      <td>C=C1C(=CC=C2CCCC3(C)C2CCC3C(C)CCCC(C)(C)O)CC(O...</td>\n",
       "      <td>MEAMAASTSLPDPGDFDRNVPRICGVCGDRATGFHFNAMTCEGCKG...</td>\n",
       "    </tr>\n",
       "    <tr>\n",
       "      <th>1</th>\n",
       "      <td>C=C1C(=CC=C2CCCC3(C)C2CCC3C(C)CCCC(C)(C)O)CC(O...</td>\n",
       "      <td>MLGTGPAAATTAATTSSNVSVLQQFASGLKSRNEETRAKAAKELQH...</td>\n",
       "    </tr>\n",
       "    <tr>\n",
       "      <th>2</th>\n",
       "      <td>C=C1C(=CC=C2CCCC3(C)C2CCC3C(C)CCCC(C)(C)O)CC(O...</td>\n",
       "      <td>MRKSPGLSDCLWAWILLLSTLTGRSYGQPSLQDELKDNTTVFTRIL...</td>\n",
       "    </tr>\n",
       "  </tbody>\n",
       "</table>\n",
       "</div>"
      ],
      "text/plain": [
       "                                              smiles  \\\n",
       "0  C=C1C(=CC=C2CCCC3(C)C2CCC3C(C)CCCC(C)(C)O)CC(O...   \n",
       "1  C=C1C(=CC=C2CCCC3(C)C2CCC3C(C)CCCC(C)(C)O)CC(O...   \n",
       "2  C=C1C(=CC=C2CCCC3(C)C2CCC3C(C)CCCC(C)(C)O)CC(O...   \n",
       "\n",
       "                                              target  \n",
       "0  MEAMAASTSLPDPGDFDRNVPRICGVCGDRATGFHFNAMTCEGCKG...  \n",
       "1  MLGTGPAAATTAATTSSNVSVLQQFASGLKSRNEETRAKAAKELQH...  \n",
       "2  MRKSPGLSDCLWAWILLLSTLTGRSYGQPSLQDELKDNTTVFTRIL...  "
      ]
     },
     "execution_count": 3,
     "metadata": {},
     "output_type": "execute_result"
    }
   ],
   "source": [
    "calcitriol = \"C=C1C(=CC=C2CCCC3(C)C2CCC3C(C)CCCC(C)(C)O)CC(O)CC1O\"\n",
    "X_predict = pd.DataFrame()\n",
    "X_predict['smiles'] = [calcitriol, calcitriol, calcitriol]\n",
    "X_predict['target'] = [VDR, MTOR, GABA]\n",
    "X_predict.head()"
   ]
  },
  {
   "cell_type": "code",
   "execution_count": 4,
   "id": "c774b7a8",
   "metadata": {
    "ExecuteTime": {
     "end_time": "2022-04-10T16:23:30.555121Z",
     "start_time": "2022-04-10T16:23:29.937627Z"
    }
   },
   "outputs": [
    {
     "data": {
      "application/vnd.jupyter.widget-view+json": {
       "model_id": "927ee78719f2472aa000b624ae0d35fe",
       "version_major": 2,
       "version_minor": 0
      },
      "text/plain": [
       "  0%|          | 0/1 [00:00<?, ?it/s]"
      ]
     },
     "metadata": {},
     "output_type": "display_data"
    },
    {
     "data": {
      "application/vnd.jupyter.widget-view+json": {
       "model_id": "035338f9aef3488a897b47aa8c38e67f",
       "version_major": 2,
       "version_minor": 0
      },
      "text/plain": [
       "  0%|          | 0/3 [00:00<?, ?it/s]"
      ]
     },
     "metadata": {},
     "output_type": "display_data"
    },
    {
     "name": "stdout",
     "output_type": "stream",
     "text": [
      "3/3 [==============================] - 0s 8ms/step\n"
     ]
    },
    {
     "data": {
      "text/html": [
       "<div>\n",
       "<style scoped>\n",
       "    .dataframe tbody tr th:only-of-type {\n",
       "        vertical-align: middle;\n",
       "    }\n",
       "\n",
       "    .dataframe tbody tr th {\n",
       "        vertical-align: top;\n",
       "    }\n",
       "\n",
       "    .dataframe thead th {\n",
       "        text-align: right;\n",
       "    }\n",
       "</style>\n",
       "<table border=\"1\" class=\"dataframe\">\n",
       "  <thead>\n",
       "    <tr style=\"text-align: right;\">\n",
       "      <th></th>\n",
       "      <th>smiles</th>\n",
       "      <th>target</th>\n",
       "      <th>p1Kd</th>\n",
       "      <th>p1Ki</th>\n",
       "      <th>p1IC50</th>\n",
       "      <th>p1EC50</th>\n",
       "      <th>is_active</th>\n",
       "      <th>pH</th>\n",
       "    </tr>\n",
       "  </thead>\n",
       "  <tbody>\n",
       "    <tr>\n",
       "      <th>0</th>\n",
       "      <td>C=C1C(=CC=C2CCCC3(C)C2CCC3C(C)CCCC(C)(C)O)CC(O...</td>\n",
       "      <td>MEAMAASTSLPDPGDFDRNVPRICGVCGDRATGFHFNAMTCEGCKG...</td>\n",
       "      <td>3.337292</td>\n",
       "      <td>3.345646</td>\n",
       "      <td>4.125762</td>\n",
       "      <td>3.678095</td>\n",
       "      <td>0.968741</td>\n",
       "      <td>7.361316</td>\n",
       "    </tr>\n",
       "    <tr>\n",
       "      <th>1</th>\n",
       "      <td>C=C1C(=CC=C2CCCC3(C)C2CCC3C(C)CCCC(C)(C)O)CC(O...</td>\n",
       "      <td>MLGTGPAAATTAATTSSNVSVLQQFASGLKSRNEETRAKAAKELQH...</td>\n",
       "      <td>5.884601</td>\n",
       "      <td>4.905147</td>\n",
       "      <td>6.719748</td>\n",
       "      <td>5.559735</td>\n",
       "      <td>0.657279</td>\n",
       "      <td>7.317384</td>\n",
       "    </tr>\n",
       "    <tr>\n",
       "      <th>2</th>\n",
       "      <td>C=C1C(=CC=C2CCCC3(C)C2CCC3C(C)CCCC(C)(C)O)CC(O...</td>\n",
       "      <td>MRKSPGLSDCLWAWILLLSTLTGRSYGQPSLQDELKDNTTVFTRIL...</td>\n",
       "      <td>5.546074</td>\n",
       "      <td>6.684741</td>\n",
       "      <td>6.919388</td>\n",
       "      <td>7.669282</td>\n",
       "      <td>0.501360</td>\n",
       "      <td>7.399325</td>\n",
       "    </tr>\n",
       "  </tbody>\n",
       "</table>\n",
       "</div>"
      ],
      "text/plain": [
       "                                              smiles  \\\n",
       "0  C=C1C(=CC=C2CCCC3(C)C2CCC3C(C)CCCC(C)(C)O)CC(O...   \n",
       "1  C=C1C(=CC=C2CCCC3(C)C2CCC3C(C)CCCC(C)(C)O)CC(O...   \n",
       "2  C=C1C(=CC=C2CCCC3(C)C2CCC3C(C)CCCC(C)(C)O)CC(O...   \n",
       "\n",
       "                                              target      p1Kd      p1Ki  \\\n",
       "0  MEAMAASTSLPDPGDFDRNVPRICGVCGDRATGFHFNAMTCEGCKG...  3.337292  3.345646   \n",
       "1  MLGTGPAAATTAATTSSNVSVLQQFASGLKSRNEETRAKAAKELQH...  5.884601  4.905147   \n",
       "2  MRKSPGLSDCLWAWILLLSTLTGRSYGQPSLQDELKDNTTVFTRIL...  5.546074  6.684741   \n",
       "\n",
       "     p1IC50    p1EC50  is_active        pH  \n",
       "0  4.125762  3.678095   0.968741  7.361316  \n",
       "1  6.719748  5.559735   0.657279  7.317384  \n",
       "2  6.919388  7.669282   0.501360  7.399325  "
      ]
     },
     "execution_count": 4,
     "metadata": {},
     "output_type": "execute_result"
    }
   ],
   "source": [
    "VDR_prediction = model.predict(X_predict)\n",
    "VDR_prediction"
   ]
  },
  {
   "cell_type": "markdown",
   "id": "38c3504f",
   "metadata": {},
   "source": [
    "## Diazepam - GABA ligand"
   ]
  },
  {
   "cell_type": "code",
   "execution_count": 5,
   "id": "cb5defae",
   "metadata": {
    "ExecuteTime": {
     "end_time": "2022-04-10T16:23:30.570750Z",
     "start_time": "2022-04-10T16:23:30.555121Z"
    }
   },
   "outputs": [
    {
     "data": {
      "text/html": [
       "<div>\n",
       "<style scoped>\n",
       "    .dataframe tbody tr th:only-of-type {\n",
       "        vertical-align: middle;\n",
       "    }\n",
       "\n",
       "    .dataframe tbody tr th {\n",
       "        vertical-align: top;\n",
       "    }\n",
       "\n",
       "    .dataframe thead th {\n",
       "        text-align: right;\n",
       "    }\n",
       "</style>\n",
       "<table border=\"1\" class=\"dataframe\">\n",
       "  <thead>\n",
       "    <tr style=\"text-align: right;\">\n",
       "      <th></th>\n",
       "      <th>smiles</th>\n",
       "      <th>target</th>\n",
       "    </tr>\n",
       "  </thead>\n",
       "  <tbody>\n",
       "    <tr>\n",
       "      <th>0</th>\n",
       "      <td>CN1C(=O)CN=C(c2ccccc2)c2cc(Cl)ccc21</td>\n",
       "      <td>MEAMAASTSLPDPGDFDRNVPRICGVCGDRATGFHFNAMTCEGCKG...</td>\n",
       "    </tr>\n",
       "    <tr>\n",
       "      <th>1</th>\n",
       "      <td>CN1C(=O)CN=C(c2ccccc2)c2cc(Cl)ccc21</td>\n",
       "      <td>MLGTGPAAATTAATTSSNVSVLQQFASGLKSRNEETRAKAAKELQH...</td>\n",
       "    </tr>\n",
       "    <tr>\n",
       "      <th>2</th>\n",
       "      <td>CN1C(=O)CN=C(c2ccccc2)c2cc(Cl)ccc21</td>\n",
       "      <td>MRKSPGLSDCLWAWILLLSTLTGRSYGQPSLQDELKDNTTVFTRIL...</td>\n",
       "    </tr>\n",
       "  </tbody>\n",
       "</table>\n",
       "</div>"
      ],
      "text/plain": [
       "                                smiles  \\\n",
       "0  CN1C(=O)CN=C(c2ccccc2)c2cc(Cl)ccc21   \n",
       "1  CN1C(=O)CN=C(c2ccccc2)c2cc(Cl)ccc21   \n",
       "2  CN1C(=O)CN=C(c2ccccc2)c2cc(Cl)ccc21   \n",
       "\n",
       "                                              target  \n",
       "0  MEAMAASTSLPDPGDFDRNVPRICGVCGDRATGFHFNAMTCEGCKG...  \n",
       "1  MLGTGPAAATTAATTSSNVSVLQQFASGLKSRNEETRAKAAKELQH...  \n",
       "2  MRKSPGLSDCLWAWILLLSTLTGRSYGQPSLQDELKDNTTVFTRIL...  "
      ]
     },
     "execution_count": 5,
     "metadata": {},
     "output_type": "execute_result"
    }
   ],
   "source": [
    "diazepam = \"CN1C(=O)CN=C(c2ccccc2)c2cc(Cl)ccc21\"\n",
    "X_predict = pd.DataFrame()\n",
    "X_predict['smiles'] = [diazepam, diazepam, diazepam]\n",
    "X_predict['target'] = [VDR, MTOR, GABA]\n",
    "X_predict.head()"
   ]
  },
  {
   "cell_type": "code",
   "execution_count": 6,
   "id": "c5b89051",
   "metadata": {
    "ExecuteTime": {
     "end_time": "2022-04-10T16:23:30.802626Z",
     "start_time": "2022-04-10T16:23:30.570750Z"
    }
   },
   "outputs": [
    {
     "data": {
      "application/vnd.jupyter.widget-view+json": {
       "model_id": "0848c8ed6990434d919ee2dafaee5845",
       "version_major": 2,
       "version_minor": 0
      },
      "text/plain": [
       "  0%|          | 0/1 [00:00<?, ?it/s]"
      ]
     },
     "metadata": {},
     "output_type": "display_data"
    },
    {
     "data": {
      "application/vnd.jupyter.widget-view+json": {
       "model_id": "d8ad3c0416dc45b9abf84b4412d3a88f",
       "version_major": 2,
       "version_minor": 0
      },
      "text/plain": [
       "  0%|          | 0/3 [00:00<?, ?it/s]"
      ]
     },
     "metadata": {},
     "output_type": "display_data"
    },
    {
     "name": "stdout",
     "output_type": "stream",
     "text": [
      "3/3 [==============================] - 0s 8ms/step\n"
     ]
    },
    {
     "data": {
      "text/html": [
       "<div>\n",
       "<style scoped>\n",
       "    .dataframe tbody tr th:only-of-type {\n",
       "        vertical-align: middle;\n",
       "    }\n",
       "\n",
       "    .dataframe tbody tr th {\n",
       "        vertical-align: top;\n",
       "    }\n",
       "\n",
       "    .dataframe thead th {\n",
       "        text-align: right;\n",
       "    }\n",
       "</style>\n",
       "<table border=\"1\" class=\"dataframe\">\n",
       "  <thead>\n",
       "    <tr style=\"text-align: right;\">\n",
       "      <th></th>\n",
       "      <th>smiles</th>\n",
       "      <th>target</th>\n",
       "      <th>p1Kd</th>\n",
       "      <th>p1Ki</th>\n",
       "      <th>p1IC50</th>\n",
       "      <th>p1EC50</th>\n",
       "      <th>is_active</th>\n",
       "      <th>pH</th>\n",
       "    </tr>\n",
       "  </thead>\n",
       "  <tbody>\n",
       "    <tr>\n",
       "      <th>0</th>\n",
       "      <td>CN1C(=O)CN=C(c2ccccc2)c2cc(Cl)ccc21</td>\n",
       "      <td>MEAMAASTSLPDPGDFDRNVPRICGVCGDRATGFHFNAMTCEGCKG...</td>\n",
       "      <td>9.155721</td>\n",
       "      <td>8.163194</td>\n",
       "      <td>9.157921</td>\n",
       "      <td>9.310570</td>\n",
       "      <td>0.122746</td>\n",
       "      <td>7.372226</td>\n",
       "    </tr>\n",
       "    <tr>\n",
       "      <th>1</th>\n",
       "      <td>CN1C(=O)CN=C(c2ccccc2)c2cc(Cl)ccc21</td>\n",
       "      <td>MLGTGPAAATTAATTSSNVSVLQQFASGLKSRNEETRAKAAKELQH...</td>\n",
       "      <td>9.659560</td>\n",
       "      <td>9.268171</td>\n",
       "      <td>9.773109</td>\n",
       "      <td>9.551693</td>\n",
       "      <td>0.051736</td>\n",
       "      <td>7.349915</td>\n",
       "    </tr>\n",
       "    <tr>\n",
       "      <th>2</th>\n",
       "      <td>CN1C(=O)CN=C(c2ccccc2)c2cc(Cl)ccc21</td>\n",
       "      <td>MRKSPGLSDCLWAWILLLSTLTGRSYGQPSLQDELKDNTTVFTRIL...</td>\n",
       "      <td>4.386286</td>\n",
       "      <td>3.960288</td>\n",
       "      <td>5.576386</td>\n",
       "      <td>5.874551</td>\n",
       "      <td>0.813526</td>\n",
       "      <td>7.398798</td>\n",
       "    </tr>\n",
       "  </tbody>\n",
       "</table>\n",
       "</div>"
      ],
      "text/plain": [
       "                                smiles  \\\n",
       "0  CN1C(=O)CN=C(c2ccccc2)c2cc(Cl)ccc21   \n",
       "1  CN1C(=O)CN=C(c2ccccc2)c2cc(Cl)ccc21   \n",
       "2  CN1C(=O)CN=C(c2ccccc2)c2cc(Cl)ccc21   \n",
       "\n",
       "                                              target      p1Kd      p1Ki  \\\n",
       "0  MEAMAASTSLPDPGDFDRNVPRICGVCGDRATGFHFNAMTCEGCKG...  9.155721  8.163194   \n",
       "1  MLGTGPAAATTAATTSSNVSVLQQFASGLKSRNEETRAKAAKELQH...  9.659560  9.268171   \n",
       "2  MRKSPGLSDCLWAWILLLSTLTGRSYGQPSLQDELKDNTTVFTRIL...  4.386286  3.960288   \n",
       "\n",
       "     p1IC50    p1EC50  is_active        pH  \n",
       "0  9.157921  9.310570   0.122746  7.372226  \n",
       "1  9.773109  9.551693   0.051736  7.349915  \n",
       "2  5.576386  5.874551   0.813526  7.398798  "
      ]
     },
     "execution_count": 6,
     "metadata": {},
     "output_type": "execute_result"
    }
   ],
   "source": [
    "GABA_prediction = model.predict(X_predict)\n",
    "GABA_prediction"
   ]
  },
  {
   "cell_type": "markdown",
   "id": "f4c3ca27",
   "metadata": {},
   "source": [
    "## Torin1 - mTor ligand"
   ]
  },
  {
   "cell_type": "code",
   "execution_count": 7,
   "id": "322e5a8c",
   "metadata": {
    "ExecuteTime": {
     "end_time": "2022-04-10T16:23:30.833874Z",
     "start_time": "2022-04-10T16:23:30.802626Z"
    }
   },
   "outputs": [
    {
     "data": {
      "text/html": [
       "<div>\n",
       "<style scoped>\n",
       "    .dataframe tbody tr th:only-of-type {\n",
       "        vertical-align: middle;\n",
       "    }\n",
       "\n",
       "    .dataframe tbody tr th {\n",
       "        vertical-align: top;\n",
       "    }\n",
       "\n",
       "    .dataframe thead th {\n",
       "        text-align: right;\n",
       "    }\n",
       "</style>\n",
       "<table border=\"1\" class=\"dataframe\">\n",
       "  <thead>\n",
       "    <tr style=\"text-align: right;\">\n",
       "      <th></th>\n",
       "      <th>smiles</th>\n",
       "      <th>target</th>\n",
       "    </tr>\n",
       "  </thead>\n",
       "  <tbody>\n",
       "    <tr>\n",
       "      <th>0</th>\n",
       "      <td>CCC(=O)N1CCN(c2ccc(-n3c(=O)ccc4cnc5ccc(-c6cnc7...</td>\n",
       "      <td>MEAMAASTSLPDPGDFDRNVPRICGVCGDRATGFHFNAMTCEGCKG...</td>\n",
       "    </tr>\n",
       "    <tr>\n",
       "      <th>1</th>\n",
       "      <td>CCC(=O)N1CCN(c2ccc(-n3c(=O)ccc4cnc5ccc(-c6cnc7...</td>\n",
       "      <td>MLGTGPAAATTAATTSSNVSVLQQFASGLKSRNEETRAKAAKELQH...</td>\n",
       "    </tr>\n",
       "    <tr>\n",
       "      <th>2</th>\n",
       "      <td>CCC(=O)N1CCN(c2ccc(-n3c(=O)ccc4cnc5ccc(-c6cnc7...</td>\n",
       "      <td>MRKSPGLSDCLWAWILLLSTLTGRSYGQPSLQDELKDNTTVFTRIL...</td>\n",
       "    </tr>\n",
       "  </tbody>\n",
       "</table>\n",
       "</div>"
      ],
      "text/plain": [
       "                                              smiles  \\\n",
       "0  CCC(=O)N1CCN(c2ccc(-n3c(=O)ccc4cnc5ccc(-c6cnc7...   \n",
       "1  CCC(=O)N1CCN(c2ccc(-n3c(=O)ccc4cnc5ccc(-c6cnc7...   \n",
       "2  CCC(=O)N1CCN(c2ccc(-n3c(=O)ccc4cnc5ccc(-c6cnc7...   \n",
       "\n",
       "                                              target  \n",
       "0  MEAMAASTSLPDPGDFDRNVPRICGVCGDRATGFHFNAMTCEGCKG...  \n",
       "1  MLGTGPAAATTAATTSSNVSVLQQFASGLKSRNEETRAKAAKELQH...  \n",
       "2  MRKSPGLSDCLWAWILLLSTLTGRSYGQPSLQDELKDNTTVFTRIL...  "
      ]
     },
     "execution_count": 7,
     "metadata": {},
     "output_type": "execute_result"
    }
   ],
   "source": [
    "torin1 = \"CCC(=O)N1CCN(c2ccc(-n3c(=O)ccc4cnc5ccc(-c6cnc7ccccc7c6)cc5c43)cc2C(F)(F)F)CC1\"\n",
    "X_predict = pd.DataFrame()\n",
    "X_predict['smiles'] = [torin1, torin1, torin1]\n",
    "X_predict['target'] = [VDR, MTOR, GABA]\n",
    "X_predict.head()"
   ]
  },
  {
   "cell_type": "code",
   "execution_count": 8,
   "id": "b2639a4e",
   "metadata": {
    "ExecuteTime": {
     "end_time": "2022-04-10T16:23:31.072267Z",
     "start_time": "2022-04-10T16:23:30.833874Z"
    }
   },
   "outputs": [
    {
     "data": {
      "application/vnd.jupyter.widget-view+json": {
       "model_id": "63c2a15078c34c88a3ca378597c7b333",
       "version_major": 2,
       "version_minor": 0
      },
      "text/plain": [
       "  0%|          | 0/1 [00:00<?, ?it/s]"
      ]
     },
     "metadata": {},
     "output_type": "display_data"
    },
    {
     "data": {
      "application/vnd.jupyter.widget-view+json": {
       "model_id": "f00bb3f3e2a3423296c5ced85ee27b73",
       "version_major": 2,
       "version_minor": 0
      },
      "text/plain": [
       "  0%|          | 0/3 [00:00<?, ?it/s]"
      ]
     },
     "metadata": {},
     "output_type": "display_data"
    },
    {
     "name": "stdout",
     "output_type": "stream",
     "text": [
      "3/3 [==============================] - 0s 8ms/step\n"
     ]
    },
    {
     "data": {
      "text/html": [
       "<div>\n",
       "<style scoped>\n",
       "    .dataframe tbody tr th:only-of-type {\n",
       "        vertical-align: middle;\n",
       "    }\n",
       "\n",
       "    .dataframe tbody tr th {\n",
       "        vertical-align: top;\n",
       "    }\n",
       "\n",
       "    .dataframe thead th {\n",
       "        text-align: right;\n",
       "    }\n",
       "</style>\n",
       "<table border=\"1\" class=\"dataframe\">\n",
       "  <thead>\n",
       "    <tr style=\"text-align: right;\">\n",
       "      <th></th>\n",
       "      <th>smiles</th>\n",
       "      <th>target</th>\n",
       "      <th>p1Kd</th>\n",
       "      <th>p1Ki</th>\n",
       "      <th>p1IC50</th>\n",
       "      <th>p1EC50</th>\n",
       "      <th>is_active</th>\n",
       "      <th>pH</th>\n",
       "    </tr>\n",
       "  </thead>\n",
       "  <tbody>\n",
       "    <tr>\n",
       "      <th>0</th>\n",
       "      <td>CCC(=O)N1CCN(c2ccc(-n3c(=O)ccc4cnc5ccc(-c6cnc7...</td>\n",
       "      <td>MEAMAASTSLPDPGDFDRNVPRICGVCGDRATGFHFNAMTCEGCKG...</td>\n",
       "      <td>5.179986</td>\n",
       "      <td>3.732686</td>\n",
       "      <td>4.724934</td>\n",
       "      <td>5.167532</td>\n",
       "      <td>0.883631</td>\n",
       "      <td>7.392238</td>\n",
       "    </tr>\n",
       "    <tr>\n",
       "      <th>1</th>\n",
       "      <td>CCC(=O)N1CCN(c2ccc(-n3c(=O)ccc4cnc5ccc(-c6cnc7...</td>\n",
       "      <td>MLGTGPAAATTAATTSSNVSVLQQFASGLKSRNEETRAKAAKELQH...</td>\n",
       "      <td>3.817785</td>\n",
       "      <td>3.137911</td>\n",
       "      <td>3.228150</td>\n",
       "      <td>2.683384</td>\n",
       "      <td>0.994350</td>\n",
       "      <td>7.377112</td>\n",
       "    </tr>\n",
       "    <tr>\n",
       "      <th>2</th>\n",
       "      <td>CCC(=O)N1CCN(c2ccc(-n3c(=O)ccc4cnc5ccc(-c6cnc7...</td>\n",
       "      <td>MRKSPGLSDCLWAWILLLSTLTGRSYGQPSLQDELKDNTTVFTRIL...</td>\n",
       "      <td>4.374254</td>\n",
       "      <td>3.584631</td>\n",
       "      <td>4.493255</td>\n",
       "      <td>4.189261</td>\n",
       "      <td>0.922806</td>\n",
       "      <td>7.389955</td>\n",
       "    </tr>\n",
       "  </tbody>\n",
       "</table>\n",
       "</div>"
      ],
      "text/plain": [
       "                                              smiles  \\\n",
       "0  CCC(=O)N1CCN(c2ccc(-n3c(=O)ccc4cnc5ccc(-c6cnc7...   \n",
       "1  CCC(=O)N1CCN(c2ccc(-n3c(=O)ccc4cnc5ccc(-c6cnc7...   \n",
       "2  CCC(=O)N1CCN(c2ccc(-n3c(=O)ccc4cnc5ccc(-c6cnc7...   \n",
       "\n",
       "                                              target      p1Kd      p1Ki  \\\n",
       "0  MEAMAASTSLPDPGDFDRNVPRICGVCGDRATGFHFNAMTCEGCKG...  5.179986  3.732686   \n",
       "1  MLGTGPAAATTAATTSSNVSVLQQFASGLKSRNEETRAKAAKELQH...  3.817785  3.137911   \n",
       "2  MRKSPGLSDCLWAWILLLSTLTGRSYGQPSLQDELKDNTTVFTRIL...  4.374254  3.584631   \n",
       "\n",
       "     p1IC50    p1EC50  is_active        pH  \n",
       "0  4.724934  5.167532   0.883631  7.392238  \n",
       "1  3.228150  2.683384   0.994350  7.377112  \n",
       "2  4.493255  4.189261   0.922806  7.389955  "
      ]
     },
     "execution_count": 8,
     "metadata": {},
     "output_type": "execute_result"
    }
   ],
   "source": [
    "MTOR_prediction = model.predict(X_predict)\n",
    "MTOR_prediction"
   ]
  },
  {
   "cell_type": "markdown",
   "id": "61ce13b5",
   "metadata": {},
   "source": [
    "# p1Kd to pKd, μM\n",
    "\n",
    "p1Kd = log(Kd+1)\n"
   ]
  },
  {
   "cell_type": "code",
   "execution_count": 9,
   "id": "4843bbc1",
   "metadata": {
    "ExecuteTime": {
     "end_time": "2022-04-10T16:23:31.087890Z",
     "start_time": "2022-04-10T16:23:31.072267Z"
    }
   },
   "outputs": [],
   "source": [
    "VDR_prediction['Kd [μM]'] = VDR_prediction['p1Kd'].apply(model.to_uM)\n",
    "VDR_prediction['pKd'] = VDR_prediction['p1Kd'].apply(model.to_pKd)"
   ]
  },
  {
   "cell_type": "code",
   "execution_count": 10,
   "id": "96409d17",
   "metadata": {
    "ExecuteTime": {
     "end_time": "2022-04-10T16:23:31.119140Z",
     "start_time": "2022-04-10T16:23:31.087890Z"
    }
   },
   "outputs": [
    {
     "data": {
      "text/html": [
       "<div>\n",
       "<style scoped>\n",
       "    .dataframe tbody tr th:only-of-type {\n",
       "        vertical-align: middle;\n",
       "    }\n",
       "\n",
       "    .dataframe tbody tr th {\n",
       "        vertical-align: top;\n",
       "    }\n",
       "\n",
       "    .dataframe thead th {\n",
       "        text-align: right;\n",
       "    }\n",
       "</style>\n",
       "<table border=\"1\" class=\"dataframe\">\n",
       "  <thead>\n",
       "    <tr style=\"text-align: right;\">\n",
       "      <th></th>\n",
       "      <th>p1Kd</th>\n",
       "      <th>Kd [μM]</th>\n",
       "      <th>pKd</th>\n",
       "    </tr>\n",
       "  </thead>\n",
       "  <tbody>\n",
       "    <tr>\n",
       "      <th>0</th>\n",
       "      <td>3.337292</td>\n",
       "      <td>0.027143</td>\n",
       "      <td>7.566345</td>\n",
       "    </tr>\n",
       "    <tr>\n",
       "      <th>1</th>\n",
       "      <td>5.884601</td>\n",
       "      <td>0.358459</td>\n",
       "      <td>6.445560</td>\n",
       "    </tr>\n",
       "    <tr>\n",
       "      <th>2</th>\n",
       "      <td>5.546074</td>\n",
       "      <td>0.255230</td>\n",
       "      <td>6.593069</td>\n",
       "    </tr>\n",
       "  </tbody>\n",
       "</table>\n",
       "</div>"
      ],
      "text/plain": [
       "       p1Kd   Kd [μM]       pKd\n",
       "0  3.337292  0.027143  7.566345\n",
       "1  5.884601  0.358459  6.445560\n",
       "2  5.546074  0.255230  6.593069"
      ]
     },
     "execution_count": 10,
     "metadata": {},
     "output_type": "execute_result"
    }
   ],
   "source": [
    "VDR_prediction.iloc[:, VDR_prediction.columns.str.contains('Kd')]"
   ]
  }
 ],
 "metadata": {
  "kernelspec": {
   "display_name": "Python 3",
   "language": "python",
   "name": "python3"
  },
  "language_info": {
   "codemirror_mode": {
    "name": "ipython",
    "version": 3
   },
   "file_extension": ".py",
   "mimetype": "text/x-python",
   "name": "python",
   "nbconvert_exporter": "python",
   "pygments_lexer": "ipython3",
   "version": "3.8.8"
  },
  "latex_envs": {
   "LaTeX_envs_menu_present": true,
   "autoclose": false,
   "autocomplete": true,
   "bibliofile": "biblio.bib",
   "cite_by": "apalike",
   "current_citInitial": 1,
   "eqLabelWithNumbers": true,
   "eqNumInitial": 1,
   "hotkeys": {
    "equation": "Ctrl-E",
    "itemize": "Ctrl-I"
   },
   "labels_anchors": false,
   "latex_user_defs": false,
   "report_style_numbering": false,
   "user_envs_cfg": false
  },
  "nbTranslate": {
   "displayLangs": [
    "*"
   ],
   "hotkey": "alt-t",
   "langInMainMenu": true,
   "sourceLang": "en",
   "targetLang": "fr",
   "useGoogleTranslate": true
  },
  "toc": {
   "base_numbering": 1,
   "nav_menu": {},
   "number_sections": true,
   "sideBar": true,
   "skip_h1_title": false,
   "title_cell": "Table of Contents",
   "title_sidebar": "Contents",
   "toc_cell": true,
   "toc_position": {},
   "toc_section_display": true,
   "toc_window_display": false
  }
 },
 "nbformat": 4,
 "nbformat_minor": 5
}
